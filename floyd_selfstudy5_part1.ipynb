{
  "nbformat": 4,
  "nbformat_minor": 0,
  "metadata": {
    "colab": {
      "name": "floyd_selfstudy5_part1.ipynb",
      "version": "0.3.2",
      "provenance": [],
      "collapsed_sections": [],
      "include_colab_link": true
    },
    "kernelspec": {
      "name": "python2",
      "display_name": "Python 2"
    }
  },
  "cells": [
    {
      "cell_type": "markdown",
      "metadata": {
        "id": "view-in-github",
        "colab_type": "text"
      },
      "source": [
        "<a href=\"https://colab.research.google.com/github/schenita/info5731/blob/master/floyd_selfstudy5_part1.ipynb\" target=\"_parent\"><img src=\"https://colab.research.google.com/assets/colab-badge.svg\" alt=\"Open In Colab\"/></a>"
      ]
    },
    {
      "metadata": {
        "id": "ZZcgEOxCo-hm",
        "colab_type": "code",
        "colab": {}
      },
      "cell_type": "code",
      "source": [
        "# Data Science from Scratch-Grus - Chapter 20 Natural Langauge Processing in Python 2\n",
        "# Word Clouds - visualizing words and counts is word clouds"
      ],
      "execution_count": 0,
      "outputs": []
    },
    {
      "metadata": {
        "id": "XMU5T0YwphPL",
        "colab_type": "code",
        "colab": {}
      },
      "cell_type": "code",
      "source": [
        "data = [ (\"big data\", 100, 15), (\"Hadoop\", 95, 25), (\"Python\", 75, 50),\n",
        "             (\"R\", 50, 40), (\"machine learning\", 80, 20), (\"statistics\", 20, 60),\n",
        "             (\"data science\", 60, 70), (\"analytics\", 90, 3),\n",
        "             (\"team player\", 85, 85), (\"dynamic\", 2, 90), (\"synergies\", 70, 0),\n",
        "             (\"actionable insights\", 40, 30), (\"think out of the box\", 45, 10),\n",
        "             (\"self-starter\", 30, 50), (\"customer focus\", 65, 15),\n",
        "             (\"thought leadership\", 35, 35)]"
      ],
      "execution_count": 0,
      "outputs": []
    },
    {
      "metadata": {
        "id": "SmTkaXZ6p8V_",
        "colab_type": "code",
        "colab": {
          "base_uri": "https://localhost:8080/",
          "height": 54
        },
        "outputId": "a8e11681-22c7-4f9f-b21e-d403b30daa9a"
      },
      "cell_type": "code",
      "source": [
        "print data"
      ],
      "execution_count": 3,
      "outputs": [
        {
          "output_type": "stream",
          "text": [
            "[('big data', 100, 15), ('Hadoop', 95, 25), ('Python', 75, 50), ('R', 50, 40), ('machine learning', 80, 20), ('statistics', 20, 60), ('data science', 60, 70), ('analytics', 90, 3), ('team player', 85, 85), ('dynamic', 2, 90), ('synergies', 70, 0), ('actionable insights', 40, 30), ('think out of the box', 45, 10), ('self-starter', 30, 50), ('customer focus', 65, 15), ('thought leadership', 35, 35)]\n"
          ],
          "name": "stdout"
        }
      ]
    },
    {
      "metadata": {
        "id": "kUP_Ki8gqPRs",
        "colab_type": "code",
        "colab": {}
      },
      "cell_type": "code",
      "source": [
        "import matplotlib.pyplot as plt #Important step missing from book"
      ],
      "execution_count": 0,
      "outputs": []
    },
    {
      "metadata": {
        "id": "iUu2X9x5qa8u",
        "colab_type": "code",
        "colab": {
          "base_uri": "https://localhost:8080/",
          "height": 344
        },
        "outputId": "9996d28c-266e-44be-82ee-a13fd6385523"
      },
      "cell_type": "code",
      "source": [
        "def text_size(total):\n",
        "   return 8 + total / 200 * 20\n",
        "\n",
        "for word, job_popularity, resume_popularity in data:\n",
        "  plt.text(job_popularity, resume_popularity, word,\n",
        "                 ha='center', va='center',\n",
        "                 size=text_size(job_popularity + resume_popularity))\n",
        "plt.xlabel(\"Popularity on Job Postings\")\n",
        "plt.ylabel(\"Popularity on Resumes\")\n",
        "plt.axis([0, 100, 0, 100])\n",
        "plt.xticks([])\n",
        "plt.yticks([])\n",
        "plt.show()"
      ],
      "execution_count": 14,
      "outputs": [
        {
          "output_type": "display_data",
          "data": {
            "image/png": "[encoded data removed]",
            "text/plain": [
              "<Figure size 576x396 with 1 Axes>"
            ]
          },
          "metadata": {
            "tags": []
          }
        }
      ]
    },
    {
      "metadata": {
        "id": "5Txq-p5Drebc",
        "colab_type": "code",
        "colab": {}
      },
      "cell_type": "code",
      "source": [
        "# n-gram Models\n",
        "# Pull code from Ch 9"
      ],
      "execution_count": 0,
      "outputs": []
    },
    {
      "metadata": {
        "id": "lLDl1FStr-F6",
        "colab_type": "code",
        "colab": {}
      },
      "cell_type": "code",
      "source": [
        "from bs4 import BeautifulSoup\n",
        "import requests\n",
        "html = requests.get(\"http://www.example.com\").text \n",
        "soup = BeautifulSoup(html, 'html5lib')\n"
      ],
      "execution_count": 0,
      "outputs": []
    },
    {
      "metadata": {
        "id": "H5GayKtPtOnG",
        "colab_type": "code",
        "colab": {}
      },
      "cell_type": "code",
      "source": [
        "def fix_unicode(text):\n",
        "  return text.replace(u\"\\u2019\", \"'\")"
      ],
      "execution_count": 0,
      "outputs": []
    },
    {
      "metadata": {
        "id": "zbYCZ_J6tj7r",
        "colab_type": "code",
        "colab": {}
      },
      "cell_type": "code",
      "source": [
        "def get_document():   # replace the first two commands  to make this work\n",
        "  url = \"http://radar.oreilly.com/2010/06/what-is-data-science.html\" \n",
        "  html = requests.get(url).text\n",
        "  soup = BeautifulSoup(html, 'html5lib')\n",
        "\n",
        "  content = soup.find(\"div\", \"entry-content\")\n",
        "  regex = r\"[\\w']+|[\\.]\"\n",
        "\n",
        "  document = []\n",
        "\n",
        "  for paragraph in content(\"p\"):\n",
        "    words = re.findall(regex, fix_unicode(paragraph.text)) \n",
        "    document.extend(words)\n",
        "  \n",
        "  return document"
      ],
      "execution_count": 0,
      "outputs": []
    },
    {
      "metadata": {
        "id": "V_htZ6httxtf",
        "colab_type": "code",
        "colab": {}
      },
      "cell_type": "code",
      "source": [
        "# Bigrams"
      ],
      "execution_count": 0,
      "outputs": []
    },
    {
      "metadata": {
        "id": "KhxmbwB1v3Jt",
        "colab_type": "code",
        "colab": {}
      },
      "cell_type": "code",
      "source": [
        "def generateTransitions(document):\n",
        "    bigrams = zip(document, document[1:])\n",
        "    transitions = defaultdict(list)\n",
        "    for prev, current in bigrams:\n",
        "        transitions[prev].append(current)\n",
        "\n",
        "    return transitions"
      ],
      "execution_count": 0,
      "outputs": []
    },
    {
      "metadata": {
        "id": "7CVPjByDv3xk",
        "colab_type": "code",
        "colab": {}
      },
      "cell_type": "code",
      "source": [
        "def generate_using_bigrams(transitions):\n",
        "    current = \".\"   # this means the next word will start a sentence\n",
        "    result = []\n",
        "    while True:\n",
        "        next_word_candidates = transitions[current]    # bigrams (current, _)\n",
        "        current = random.choice(next_word_candidates)  # choose one at random\n",
        "        result.append(current)                         # append it to results\n",
        "        if current == \".\": return \" \".join(result)     # if \".\" we're done"
      ],
      "execution_count": 0,
      "outputs": []
    },
    {
      "metadata": {
        "id": "YWJINLhawHkt",
        "colab_type": "code",
        "colab": {}
      },
      "cell_type": "code",
      "source": [
        "# Trigram Model"
      ],
      "execution_count": 0,
      "outputs": []
    },
    {
      "metadata": {
        "id": "jfICaPGMwRBN",
        "colab_type": "code",
        "colab": {}
      },
      "cell_type": "code",
      "source": [
        "def generateTrigramTransitions(document):\n",
        "    trigrams = zip(document, document[1:], document[2:])\n",
        "    trigram_transitions = defaultdict(list)\n",
        "    starts = []\n",
        "\n",
        "    for prev, current, next in trigrams:\n",
        "        if prev == \".\":              # if the previous \"word\" was a period\n",
        "            starts.append(current)   # then this is a start word\n",
        "\n",
        "        trigram_transitions[(prev, current)].append(next)\n",
        "\n",
        "    return starts, trigram_transitions\n"
      ],
      "execution_count": 0,
      "outputs": []
    },
    {
      "metadata": {
        "id": "50bbu_gpwRpe",
        "colab_type": "code",
        "colab": {}
      },
      "cell_type": "code",
      "source": [
        "def generate_using_trigrams(starts, trigram_transitions):\n",
        "    current = random.choice(starts)   # choose a random starting word\n",
        "    prev = \".\"                        # and precede it with a '.'\n",
        "    result = [current]\n",
        "    while True:\n",
        "        next_word_candidates = trigram_transitions[(prev, current)]\n",
        "        next = random.choice(next_word_candidates)\n",
        "\n",
        "        prev, current = current, next\n",
        "        result.append(current)\n",
        "\n",
        "        if current == \".\":\n",
        "            return \" \".join(result)"
      ],
      "execution_count": 0,
      "outputs": []
    },
    {
      "metadata": {
        "id": "AnZKHGw6wX6l",
        "colab_type": "code",
        "colab": {}
      },
      "cell_type": "code",
      "source": [
        "# Grammars"
      ],
      "execution_count": 0,
      "outputs": []
    },
    {
      "metadata": {
        "id": "eRKC05SBwfC5",
        "colab_type": "code",
        "colab": {}
      },
      "cell_type": "code",
      "source": [
        "def generate_sentence(grammar):\n",
        "    return expand(grammar, [\"_S\"])\n",
        "\n",
        "def is_terminal(token):\n",
        "    return token[0] != \"_\"\n",
        "\n",
        "def expand(grammar, tokens):\n",
        "    for i, token in enumerate(tokens):\n",
        "\n",
        "        if is_terminal(token): continue\n",
        "\n",
        "        replacement = random.choice(grammar[token])\n",
        "\n",
        "        if is_terminal(replacement):\n",
        "            tokens[i] = replacement\n",
        "        else:\n",
        "            tokens = tokens[:i] + replacement.split() + tokens[(i+1):]\n",
        "        return expand(grammar, tokens)\n",
        "\n",
        "    return tokens"
      ],
      "execution_count": 0,
      "outputs": []
    },
    {
      "metadata": {
        "id": "vu0vX0Eiw1U4",
        "colab_type": "code",
        "colab": {}
      },
      "cell_type": "code",
      "source": [
        "grammar = {\n",
        "        \"_S\"  : [\"_NP _VP\"],\n",
        "        \"_NP\" : [\"_N\",\n",
        "                 \"_A _NP _P _A _N\"],\n",
        "        \"_VP\" : [\"_V\",\n",
        "                 \"_V _NP\"],\n",
        "        \"_N\"  : [\"data science\", \"Python\", \"regression\"],\n",
        "        \"_A\"  : [\"big\", \"linear\", \"logistic\"],\n",
        "        \"_P\"  : [\"about\", \"near\"],\n",
        "        \"_V\"  : [\"learns\", \"trains\", \"tests\", \"is\"]\n",
        "}\n"
      ],
      "execution_count": 0,
      "outputs": []
    },
    {
      "metadata": {
        "id": "uLXDh2T1xWiu",
        "colab_type": "code",
        "colab": {}
      },
      "cell_type": "code",
      "source": [
        "def is_terminal(token): \n",
        "  return token[0] != \"_\""
      ],
      "execution_count": 0,
      "outputs": []
    },
    {
      "metadata": {
        "id": "Jd1tmiicxh8H",
        "colab_type": "code",
        "colab": {}
      },
      "cell_type": "code",
      "source": [
        "def expand(grammar, tokens):\n",
        "  for i, token in enumerate(tokens):\n",
        "    \n",
        "            # skip over terminals\n",
        "            if is_terminal(token): continue\n",
        "          \n",
        "            # if we get here, we found a non-terminal token \n",
        "            # so we need to choose a replacement at random \n",
        "            replacement = random.choice(grammar[token])\n",
        "            \n",
        "            if is_terminal(replacement): \n",
        "              tokens[i] = replacement\n",
        "            else:\n",
        "              tokens = tokens[:i] + replacement.split() + tokens[(i+1):] # now call expand on the new list of tokens\n",
        "            return expand(grammar, tokens)\n",
        "           # if we get here we had all terminals and are done\n",
        "            return tokens"
      ],
      "execution_count": 0,
      "outputs": []
    },
    {
      "metadata": {
        "id": "MKgr3OOmyM96",
        "colab_type": "code",
        "colab": {}
      },
      "cell_type": "code",
      "source": [
        "def generate_sentence(grammar): \n",
        "  return expand(grammar, [\"_S\"])"
      ],
      "execution_count": 0,
      "outputs": []
    },
    {
      "metadata": {
        "id": "P-XS7lOXySVK",
        "colab_type": "code",
        "colab": {}
      },
      "cell_type": "code",
      "source": [
        "# An Aside: Gibbs Sampling"
      ],
      "execution_count": 0,
      "outputs": []
    },
    {
      "metadata": {
        "id": "sksguCo9ydCp",
        "colab_type": "code",
        "colab": {
          "base_uri": "https://localhost:8080/",
          "height": 34
        },
        "outputId": "17f25611-a03a-4862-ab30-94f5eabe3e25"
      },
      "cell_type": "code",
      "source": [
        "import random\n",
        "random.random()"
      ],
      "execution_count": 46,
      "outputs": [
        {
          "output_type": "execute_result",
          "data": {
            "text/plain": [
              "0.87796298105635"
            ]
          },
          "metadata": {
            "tags": []
          },
          "execution_count": 46
        }
      ]
    },
    {
      "metadata": {
        "id": "5LH-7c4f0WTB",
        "colab_type": "code",
        "colab": {
          "base_uri": "https://localhost:8080/",
          "height": 34
        },
        "outputId": "ad2a6fae-17c7-4ef4-a92c-7b8f36a390a4"
      },
      "cell_type": "code",
      "source": [
        "from scipy.stats import norm\n",
        "norm.ppf(random.random())"
      ],
      "execution_count": 49,
      "outputs": [
        {
          "output_type": "execute_result",
          "data": {
            "text/plain": [
              "0.6766634236120365"
            ]
          },
          "metadata": {
            "tags": []
          },
          "execution_count": 49
        }
      ]
    },
    {
      "metadata": {
        "id": "38HxQGTT0p0m",
        "colab_type": "code",
        "colab": {}
      },
      "cell_type": "code",
      "source": [
        "def roll_a_die():\n",
        "  return random.choice([1,2,3,4,5,6])\n",
        "\n",
        "def direct_sample(): \n",
        "  d1 = roll_a_die() \n",
        "  d2 = roll_a_die() \n",
        "  return d1, d1 + d2\n"
      ],
      "execution_count": 0,
      "outputs": []
    },
    {
      "metadata": {
        "id": "3w_RH7WI1uB5",
        "colab_type": "code",
        "colab": {}
      },
      "cell_type": "code",
      "source": [
        "def random_y_given_x(x):\n",
        "  \"\"\"equally likely to be x + 1, x + 2, ... , x + 6\"\"\" \n",
        "  return x + roll_a_die()"
      ],
      "execution_count": 0,
      "outputs": []
    },
    {
      "metadata": {
        "id": "Lwkzg8CC109p",
        "colab_type": "code",
        "colab": {}
      },
      "cell_type": "code",
      "source": [
        "def random_x_given_y(y): \n",
        "  if y <= 7:\n",
        "    # if the total is 7 or less, the first die is equally likely to be \n",
        "    # 1, 2, ..., (total - 1)\n",
        "    return random.randrange(1, y)\n",
        "  else:\n",
        "    # if the total is 7 or more, the first die is equally likely to be \n",
        "    # (total - 6), (total - 5), ..., 6\n",
        "    return random.randrange(y - 6, 7)\n"
      ],
      "execution_count": 0,
      "outputs": []
    },
    {
      "metadata": {
        "id": "9km5sw1L2IU5",
        "colab_type": "code",
        "colab": {}
      },
      "cell_type": "code",
      "source": [
        "def gibbs_sample(num_iters=100):\n",
        "    x, y = 1, 2 # doesn't really matter \n",
        "    for _ in range(num_iters):\n",
        "      x = random_x_given_y(y)\n",
        "      y = random_y_given_x(x) \n",
        "    return x, y\n"
      ],
      "execution_count": 0,
      "outputs": []
    },
    {
      "metadata": {
        "id": "PWRhDX-c2WJf",
        "colab_type": "code",
        "colab": {}
      },
      "cell_type": "code",
      "source": [
        "def compare_distributions(num_samples=1000): \n",
        "  counts = defaultdict(lambda: [0, 0]) \n",
        "  for _ in range(num_samples):\n",
        "    counts[gibbs_sample()][0] += 1\n",
        "    counts[direct_sample()][1] += 1 \n",
        "  return counts\n"
      ],
      "execution_count": 0,
      "outputs": []
    },
    {
      "metadata": {
        "id": "OnjhHyXJ2ibb",
        "colab_type": "code",
        "colab": {}
      },
      "cell_type": "code",
      "source": [
        "#Topic Modeling"
      ],
      "execution_count": 0,
      "outputs": []
    },
    {
      "metadata": {
        "id": "Ya0NXH5H2msi",
        "colab_type": "code",
        "colab": {}
      },
      "cell_type": "code",
      "source": [
        "def sample_from(weights):\n",
        "  \"\"\"returns i with probability weights[i] / sum(weights)\"\"\" \n",
        "  total = sum(weights)\n",
        "  rnd = total * random.random()\n",
        "  for i, w in enumerate(weights):\n",
        "      rnd-=w\n",
        "      if rnd <= 0: return i"
      ],
      "execution_count": 0,
      "outputs": []
    },
    {
      "metadata": {
        "id": "gy5yFzI83KIr",
        "colab_type": "code",
        "colab": {}
      },
      "cell_type": "code",
      "source": [
        "documents = [\n",
        "        [\"Hadoop\", \"Big Data\", \"HBase\", \"Java\", \"Spark\", \"Storm\", \"Cassandra\"],\n",
        "        [\"NoSQL\", \"MongoDB\", \"Cassandra\", \"HBase\", \"Postgres\"],\n",
        "        [\"Python\", \"scikit-learn\", \"scipy\", \"numpy\", \"statsmodels\", \"pandas\"],\n",
        "        [\"R\", \"Python\", \"statistics\", \"regression\", \"probability\"],\n",
        "        [\"machine learning\", \"regression\", \"decision trees\", \"libsvm\"],\n",
        "        [\"Python\", \"R\", \"Java\", \"C++\", \"Haskell\", \"programming languages\"],\n",
        "        [\"statistics\", \"probability\", \"mathematics\", \"theory\"],\n",
        "        [\"machine learning\", \"scikit-learn\", \"Mahout\", \"neural networks\"],\n",
        "        [\"neural networks\", \"deep learning\", \"Big Data\", \"artificial intelligence\"],\n",
        "        [\"Hadoop\", \"Java\", \"MapReduce\", \"Big Data\"],\n",
        "        [\"statistics\", \"R\", \"statsmodels\"],\n",
        "        [\"C++\", \"deep learning\", \"artificial intelligence\", \"probability\"],\n",
        "        [\"pandas\", \"R\", \"Python\"],\n",
        "        [\"databases\", \"HBase\", \"Postgres\", \"MySQL\", \"MongoDB\"],\n",
        "        [\"libsvm\", \"regression\", \"support vector machines\"]\n",
        "]"
      ],
      "execution_count": 0,
      "outputs": []
    },
    {
      "metadata": {
        "id": "9RJ_Y7dY3QvC",
        "colab_type": "code",
        "colab": {}
      },
      "cell_type": "code",
      "source": [
        "# a list of Counters, one for each document\n",
        "K = 4\n",
        "import collections # must import collections for counter to work"
      ],
      "execution_count": 0,
      "outputs": []
    },
    {
      "metadata": {
        "id": "Qmhj9Jt93Vpa",
        "colab_type": "code",
        "colab": {}
      },
      "cell_type": "code",
      "source": [
        "document_topic_counts = [collections.Counter() for _ in documents]"
      ],
      "execution_count": 0,
      "outputs": []
    },
    {
      "metadata": {
        "id": "XXbMj7mk3r7l",
        "colab_type": "code",
        "colab": {}
      },
      "cell_type": "code",
      "source": [
        "# a list of Counters, one for each topic\n",
        "topic_word_counts = [collections.Counter() for _ in range(K)]"
      ],
      "execution_count": 0,
      "outputs": []
    },
    {
      "metadata": {
        "id": "COJm5Fwi39Yi",
        "colab_type": "code",
        "colab": {}
      },
      "cell_type": "code",
      "source": [
        "  # a list of numbers, one for each topic\n",
        "topic_counts = [0 for _ in range(K)]\n"
      ],
      "execution_count": 0,
      "outputs": []
    },
    {
      "metadata": {
        "colab_type": "code",
        "id": "z_paR-EX4Qcg",
        "colab": {
          "base_uri": "https://localhost:8080/",
          "height": 34
        },
        "outputId": "04b3824d-cb86-4385-a231-03f18f874171"
      },
      "cell_type": "code",
      "source": [
        "print topic_counts"
      ],
      "execution_count": 68,
      "outputs": [
        {
          "output_type": "stream",
          "text": [
            "[0, 0, 0, 0]\n"
          ],
          "name": "stdout"
        }
      ]
    },
    {
      "metadata": {
        "id": "lPzPwOeB4gUO",
        "colab_type": "code",
        "colab": {}
      },
      "cell_type": "code",
      "source": [
        "# a list of numbers, one for each document\n",
        "document_lengths = map(len, documents)"
      ],
      "execution_count": 0,
      "outputs": []
    },
    {
      "metadata": {
        "id": "atqpVjH34jvW",
        "colab_type": "code",
        "colab": {}
      },
      "cell_type": "code",
      "source": [
        "distinct_words = set(word for document in documents for word in document) \n",
        "W = len(distinct_words)"
      ],
      "execution_count": 0,
      "outputs": []
    },
    {
      "metadata": {
        "id": "QNK3tDPa4mRO",
        "colab_type": "code",
        "colab": {}
      },
      "cell_type": "code",
      "source": [
        "D = len(documents)"
      ],
      "execution_count": 0,
      "outputs": []
    },
    {
      "metadata": {
        "id": "VaGFbHzn4rDG",
        "colab_type": "code",
        "colab": {
          "base_uri": "https://localhost:8080/",
          "height": 34
        },
        "outputId": "7666e5aa-8911-48fb-b3e3-29e84fdf11a5"
      },
      "cell_type": "code",
      "source": [
        "document_topic_counts[3][1]\n"
      ],
      "execution_count": 73,
      "outputs": [
        {
          "output_type": "execute_result",
          "data": {
            "text/plain": [
              "0"
            ]
          },
          "metadata": {
            "tags": []
          },
          "execution_count": 73
        }
      ]
    },
    {
      "metadata": {
        "id": "TFxQ3H1J4uHN",
        "colab_type": "code",
        "colab": {
          "base_uri": "https://localhost:8080/",
          "height": 34
        },
        "outputId": "c7215e70-5f91-4f20-ce79-aca6a7182aa2"
      },
      "cell_type": "code",
      "source": [
        "topic_word_counts[2][\"nlp\"]\n"
      ],
      "execution_count": 74,
      "outputs": [
        {
          "output_type": "execute_result",
          "data": {
            "text/plain": [
              "0"
            ]
          },
          "metadata": {
            "tags": []
          },
          "execution_count": 74
        }
      ]
    },
    {
      "metadata": {
        "id": "j8VCdSWO4wiN",
        "colab_type": "code",
        "colab": {}
      },
      "cell_type": "code",
      "source": [
        "def p_topic_given_document(topic, d, alpha=0.1):\n",
        "  \"\"\"the fraction of words in document _d_\n",
        "  that are assigned to _topic_ (plus some smoothing)\"\"\"\n",
        "  return ((document_topic_counts[d][topic] + alpha) / \n",
        "          (document_lengths[d] + K * alpha))\n",
        "\n",
        "def p_word_given_topic(word, topic, beta=0.1): \n",
        "  \"\"\"the fraction of words assigned to _topic_ \n",
        "  that equal _word_ (plus some smoothing)\"\"\"\n",
        "  return ((topic_word_counts[topic][word] + beta) / \n",
        "          (topic_counts[topic] + W * beta))\n"
      ],
      "execution_count": 0,
      "outputs": []
    },
    {
      "metadata": {
        "id": "9SlbtHFB5F7i",
        "colab_type": "code",
        "colab": {}
      },
      "cell_type": "code",
      "source": [
        "def topic_weight(d, word, k):\n",
        "  \"\"\"given a document and a word in that document, \n",
        "  return the weight for the kth topic\"\"\"\n",
        "  return p_word_given_topic(word, k) * p_topic_given_document(k, d)"
      ],
      "execution_count": 0,
      "outputs": []
    },
    {
      "metadata": {
        "id": "aBNIuddu5Li7",
        "colab_type": "code",
        "colab": {}
      },
      "cell_type": "code",
      "source": [
        "def choose_new_topic(d, word):\n",
        "  return sample_from([topic_weight(d, word, k)\n",
        "                      for k in range(K)])"
      ],
      "execution_count": 0,
      "outputs": []
    },
    {
      "metadata": {
        "id": "dfS3yqbL5OBR",
        "colab_type": "code",
        "colab": {}
      },
      "cell_type": "code",
      "source": [
        "random.seed(0)\n",
        "document_topics = [[random.randrange(K) for word in document]\n",
        "                   for document in documents]\n",
        "\n",
        "for d in range(D):\n",
        "  for word, topic in zip(documents[d], document_topics[d]):\n",
        "            document_topic_counts[d][topic] += 1\n",
        "            topic_word_counts[topic][word] += 1\n",
        "            topic_counts[topic] += 1"
      ],
      "execution_count": 0,
      "outputs": []
    },
    {
      "metadata": {
        "id": "wmQYwugH5tPV",
        "colab_type": "code",
        "colab": {}
      },
      "cell_type": "code",
      "source": [
        "for iter in range(1000): \n",
        "  for d in range(D):\n",
        "    for i, (word, topic) in enumerate(zip(documents[d], \n",
        "                                          document_topics[d])):\n",
        "        # remove this word / topic from the counts \n",
        "        # so that it doesn't influence the weights \n",
        "        document_topic_counts[d][topic] -= 1 \n",
        "        topic_word_counts[topic][word] -= 1 \n",
        "        topic_counts[topic] -= 1 \n",
        "        document_lengths[d] -= 1\n",
        "        \n",
        "        # choose a new topic based on the weights\n",
        "        new_topic = choose_new_topic(d, word)\n",
        "        document_topics[d][i] = new_topic\n",
        "                \n",
        "        # and now add it back to the counts\n",
        "        document_topic_counts[d][new_topic] += 1\n",
        "        topic_word_counts[new_topic][word] += 1\n",
        "        topic_counts[new_topic] += 1\n",
        "        document_lengths[d] += 1"
      ],
      "execution_count": 0,
      "outputs": []
    },
    {
      "metadata": {
        "id": "dMFxiFIj6LWm",
        "colab_type": "code",
        "colab": {
          "base_uri": "https://localhost:8080/",
          "height": 680
        },
        "outputId": "ce869d28-183a-44e8-db1f-186ad0ff8226"
      },
      "cell_type": "code",
      "source": [
        "for k, word_counts in enumerate(topic_word_counts):\n",
        "  for word, count in word_counts.most_common():\n",
        "    if count > 0: print k, word, count"
      ],
      "execution_count": 82,
      "outputs": [
        {
          "output_type": "stream",
          "text": [
            "0 Java 3\n",
            "0 Big Data 3\n",
            "0 Hadoop 2\n",
            "0 deep learning 2\n",
            "0 artificial intelligence 2\n",
            "0 C++ 2\n",
            "0 neural networks 1\n",
            "0 Storm 1\n",
            "0 programming languages 1\n",
            "0 MapReduce 1\n",
            "0 Haskell 1\n",
            "1 R 4\n",
            "1 statistics 3\n",
            "1 Python 3\n",
            "1 probability 2\n",
            "1 pandas 2\n",
            "1 statsmodels 2\n",
            "1 mathematics 1\n",
            "1 numpy 1\n",
            "1 theory 1\n",
            "1 scipy 1\n",
            "2 HBase 3\n",
            "2 Postgres 2\n",
            "2 MongoDB 2\n",
            "2 Cassandra 2\n",
            "2 NoSQL 1\n",
            "2 MySQL 1\n",
            "2 Spark 1\n",
            "3 regression 3\n",
            "3 libsvm 2\n",
            "3 scikit-learn 2\n",
            "3 machine learning 2\n",
            "3 neural networks 1\n",
            "3 probability 1\n",
            "3 Mahout 1\n",
            "3 Python 1\n",
            "3 decision trees 1\n",
            "3 databases 1\n",
            "3 support vector machines 1\n"
          ],
          "name": "stdout"
        }
      ]
    },
    {
      "metadata": {
        "id": "ZYLzZny36UVl",
        "colab_type": "code",
        "colab": {}
      },
      "cell_type": "code",
      "source": [
        "  topic_names = [\"Big Data and programming languages\",\n",
        "                   \"Python and statistics\",\n",
        "                   \"databases\",\n",
        "                   \"machine learning\"]"
      ],
      "execution_count": 0,
      "outputs": []
    },
    {
      "metadata": {
        "id": "BDQDYBc26fnH",
        "colab_type": "code",
        "colab": {
          "base_uri": "https://localhost:8080/",
          "height": 527
        },
        "outputId": "eeb7826a-6517-4a1e-91ed-89bcc014b408"
      },
      "cell_type": "code",
      "source": [
        "for document, topic_counts in zip(documents, document_topic_counts): \n",
        "  print document\n",
        "  for topic, count in topic_counts.most_common():\n",
        "    if count > 0:\n",
        "        print topic_names[topic], count, \n",
        "  print\n"
      ],
      "execution_count": 84,
      "outputs": [
        {
          "output_type": "stream",
          "text": [
            "['Hadoop', 'Big Data', 'HBase', 'Java', 'Spark', 'Storm', 'Cassandra']\n",
            "Big Data and programming languages 4 databases 3\n",
            "['NoSQL', 'MongoDB', 'Cassandra', 'HBase', 'Postgres']\n",
            "databases 5\n",
            "['Python', 'scikit-learn', 'scipy', 'numpy', 'statsmodels', 'pandas']\n",
            "Python and statistics 5 machine learning 1\n",
            "['R', 'Python', 'statistics', 'regression', 'probability']\n",
            "Python and statistics 4 machine learning 1\n",
            "['machine learning', 'regression', 'decision trees', 'libsvm']\n",
            "machine learning 4\n",
            "['Python', 'R', 'Java', 'C++', 'Haskell', 'programming languages']\n",
            "Big Data and programming languages 4 Python and statistics 1 machine learning 1\n",
            "['statistics', 'probability', 'mathematics', 'theory']\n",
            "Python and statistics 4\n",
            "['machine learning', 'scikit-learn', 'Mahout', 'neural networks']\n",
            "machine learning 4\n",
            "['neural networks', 'deep learning', 'Big Data', 'artificial intelligence']\n",
            "Big Data and programming languages 4\n",
            "['Hadoop', 'Java', 'MapReduce', 'Big Data']\n",
            "Big Data and programming languages 4\n",
            "['statistics', 'R', 'statsmodels']\n",
            "Python and statistics 3\n",
            "['C++', 'deep learning', 'artificial intelligence', 'probability']\n",
            "Big Data and programming languages 3 machine learning 1\n",
            "['pandas', 'R', 'Python']\n",
            "Python and statistics 3\n",
            "['databases', 'HBase', 'Postgres', 'MySQL', 'MongoDB']\n",
            "databases 4 machine learning 1\n",
            "['libsvm', 'regression', 'support vector machines']\n",
            "machine learning 3\n"
          ],
          "name": "stdout"
        }
      ]
    },
    {
      "metadata": {
        "id": "p7l_k4tj6rxX",
        "colab_type": "code",
        "colab": {}
      },
      "cell_type": "code",
      "source": [
        ""
      ],
      "execution_count": 0,
      "outputs": []
    }
  ]
}