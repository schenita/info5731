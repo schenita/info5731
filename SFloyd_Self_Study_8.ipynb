{
  "nbformat": 4,
  "nbformat_minor": 0,
  "metadata": {
    "colab": {
      "name": "SFloyd_Self_Study_8.ipynb",
      "version": "0.3.2",
      "provenance": [],
      "collapsed_sections": [],
      "include_colab_link": true
    },
    "kernelspec": {
      "name": "python2",
      "display_name": "Python 2"
    }
  },
  "cells": [
    {
      "cell_type": "markdown",
      "metadata": {
        "id": "view-in-github",
        "colab_type": "text"
      },
      "source": [
        "<a href=\"https://colab.research.google.com/github/schenita/info5731/blob/master/SFloyd_Self_Study_8.ipynb\" target=\"_parent\"><img src=\"https://colab.research.google.com/assets/colab-badge.svg\" alt=\"Open In Colab\"/></a>"
      ]
    },
    {
      "metadata": {
        "id": "LzcvzzsySBYa",
        "colab_type": "code",
        "colab": {}
      },
      "cell_type": "code",
      "source": [
        "# Self Study 8 - Due March 26\n",
        "# Schenita Floyd\n",
        "# Grus: Chapter 1, 3, 4, 10"
      ],
      "execution_count": 0,
      "outputs": []
    },
    {
      "metadata": {
        "id": "TaryeDD6SqVD",
        "colab_type": "code",
        "colab": {}
      },
      "cell_type": "code",
      "source": [
        "# Chapter 1 - Introduction"
      ],
      "execution_count": 0,
      "outputs": []
    },
    {
      "metadata": {
        "id": "eU-fsLfKTPa6",
        "colab_type": "code",
        "colab": {}
      },
      "cell_type": "code",
      "source": [
        "# Data Dump of users\n",
        "users = [\n",
        "        { \"id\": 0, \"name\": \"Hero\" },\n",
        "        { \"id\": 1, \"name\": \"Dunn\" },\n",
        "        { \"id\": 2, \"name\": \"Sue\" },\n",
        "        { \"id\": 3, \"name\": \"Chi\" },\n",
        "        { \"id\": 4, \"name\": \"Thor\" },\n",
        "        { \"id\": 5, \"name\": \"Clive\" },\n",
        "        { \"id\": 6, \"name\": \"Hicks\" },\n",
        "        { \"id\": 7, \"name\": \"Devin\" },\n",
        "        { \"id\": 8, \"name\": \"Kate\" },\n",
        "        { \"id\": 9, \"name\": \"Klein\" }\n",
        "]"
      ],
      "execution_count": 0,
      "outputs": []
    },
    {
      "metadata": {
        "id": "Q0o2ljIJTmpX",
        "colab_type": "code",
        "colab": {}
      },
      "cell_type": "code",
      "source": [
        "# Friendship Data\n",
        "friendships = [(0, 1), (0, 2), (1, 2), (1, 3), (2, 3), (3, 4),\n",
        "                   (4, 5), (5, 6), (5, 7), (6, 8), (7, 8), (8, 9)]\n"
      ],
      "execution_count": 0,
      "outputs": []
    },
    {
      "metadata": {
        "id": "4TlUMI6fTtOe",
        "colab_type": "code",
        "colab": {}
      },
      "cell_type": "code",
      "source": [
        "# Creating an empty list for friends properties\n",
        "for user in users: \n",
        "  user[\"friends\"] = []"
      ],
      "execution_count": 0,
      "outputs": []
    },
    {
      "metadata": {
        "id": "g1Wl0KC-T9Zt",
        "colab_type": "code",
        "colab": {}
      },
      "cell_type": "code",
      "source": [
        "# Populating the list\n",
        "for i, j in friendships:\n",
        "  # this works because users[i] is the user whose id is i \n",
        "  users[i][\"friends\"].append(users[j]) # add i as a friend of j \n",
        "  users[j][\"friends\"].append(users[i]) # add j as a friend of i\n"
      ],
      "execution_count": 0,
      "outputs": []
    },
    {
      "metadata": {
        "id": "dlmMX3nOURBc",
        "colab_type": "code",
        "colab": {}
      },
      "cell_type": "code",
      "source": [
        "#Finding the length \n",
        "def number_of_friends(user):\n",
        "  \"\"\"how many friends does _user_ have?\"\"\" \n",
        "  return len(user[\"friends\"])\n",
        "\n",
        "total_connections = sum(number_of_friends(user) \n",
        "                        for user in users)"
      ],
      "execution_count": 0,
      "outputs": []
    },
    {
      "metadata": {
        "id": "aAPmHARZUh_Q",
        "colab_type": "code",
        "colab": {}
      },
      "cell_type": "code",
      "source": [
        "# Dividing by the number of users\n",
        "from __future__ import division\n",
        "num_users = len(users)\n",
        "avg_connections = total_connections / num_users"
      ],
      "execution_count": 0,
      "outputs": []
    },
    {
      "metadata": {
        "id": "XXyVJ2A4UrBR",
        "colab_type": "code",
        "colab": {}
      },
      "cell_type": "code",
      "source": [
        "# create a list (user_id, number_of_friends)\n",
        "num_friends_by_id = [(user[\"id\"], number_of_friends(user)) \n",
        "                     for user in users]"
      ],
      "execution_count": 0,
      "outputs": []
    },
    {
      "metadata": {
        "id": "w9W6vKR3Uy8b",
        "colab_type": "code",
        "colab": {
          "base_uri": "https://localhost:8080/",
          "height": 187
        },
        "outputId": "a20110a2-8c08-46a6-e34c-adbb268a4756"
      },
      "cell_type": "code",
      "source": [
        "sorted(num_friends_by_id,\n",
        "  key=lambda (user_id, num_friends): \n",
        "       num_friends, reverse=True)"
      ],
      "execution_count": 11,
      "outputs": [
        {
          "output_type": "execute_result",
          "data": {
            "text/plain": [
              "[(1, 3),\n",
              " (2, 3),\n",
              " (3, 3),\n",
              " (5, 3),\n",
              " (8, 3),\n",
              " (0, 2),\n",
              " (4, 2),\n",
              " (6, 2),\n",
              " (7, 2),\n",
              " (9, 1)]"
            ]
          },
          "metadata": {
            "tags": []
          },
          "execution_count": 11
        }
      ]
    },
    {
      "metadata": {
        "id": "oXNKn-inU5xb",
        "colab_type": "code",
        "colab": {}
      },
      "cell_type": "code",
      "source": [
        "def friends_of_friend_ids_bad(user):\n",
        "# \"foaf\" is short for \"friend of a friend\"\n",
        "  return [foaf[\"id\"]\n",
        "    for friend in user[\"friends\"] \n",
        "    for foaf in friend[\"friends\"]]"
      ],
      "execution_count": 0,
      "outputs": []
    },
    {
      "metadata": {
        "id": "zT4Bo2hRVQxW",
        "colab_type": "code",
        "colab": {
          "base_uri": "https://localhost:8080/",
          "height": 34
        },
        "outputId": "d944d0d0-3afd-47d4-a1c1-4e575627c812"
      },
      "cell_type": "code",
      "source": [
        "print [friend[\"id\"] for friend in users[0][\"friends\"]]"
      ],
      "execution_count": 18,
      "outputs": [
        {
          "output_type": "stream",
          "text": [
            "[1, 2]\n"
          ],
          "name": "stdout"
        }
      ]
    },
    {
      "metadata": {
        "id": "VYVeG_eRVcwN",
        "colab_type": "code",
        "colab": {
          "base_uri": "https://localhost:8080/",
          "height": 34
        },
        "outputId": "8b745eba-3e86-447b-db45-d57f8d1e8fe5"
      },
      "cell_type": "code",
      "source": [
        "print [friend[\"id\"] for friend in users[1][\"friends\"]]"
      ],
      "execution_count": 19,
      "outputs": [
        {
          "output_type": "stream",
          "text": [
            "[0, 2, 3]\n"
          ],
          "name": "stdout"
        }
      ]
    },
    {
      "metadata": {
        "id": "DL7XYcEeVwQD",
        "colab_type": "code",
        "colab": {
          "base_uri": "https://localhost:8080/",
          "height": 34
        },
        "outputId": "15aab612-bcd9-4259-da8b-2cfc2f0c4e7b"
      },
      "cell_type": "code",
      "source": [
        "print [friend[\"id\"] for friend in users[2][\"friends\"]] "
      ],
      "execution_count": 20,
      "outputs": [
        {
          "output_type": "stream",
          "text": [
            "[0, 1, 3]\n"
          ],
          "name": "stdout"
        }
      ]
    },
    {
      "metadata": {
        "id": "V6L-HSCQV0Gj",
        "colab_type": "code",
        "colab": {
          "base_uri": "https://localhost:8080/",
          "height": 34
        },
        "outputId": "61a03e57-4509-4a45-f4d3-b06b7d5d87f5"
      },
      "cell_type": "code",
      "source": [
        "# Function to remove known friends\n",
        "from collections import Counter # not loaded by default\n",
        "def not_the_same(user, other_user):\n",
        "  \"\"\"two users are not the same if they have different ids\"\"\" \n",
        "  return user[\"id\"] != other_user[\"id\"]\n",
        "def not_friends(user, other_user):\n",
        "  \"\"\"other_user is not a friend if he's not in user[\"friends\"];\n",
        "  that is, if he's not_the_same as all the people in user[\"friends\"]\"\"\" \n",
        "  return all(not_the_same(friend, other_user)\n",
        "    for friend in user[\"friends\"])\n",
        "def friends_of_friend_ids(user): \n",
        "  return Counter(foaf[\"id\"]\n",
        "    for friend in user[\"friends\"] \n",
        "    for foaf in friend[\"friends\"] \n",
        "    if not_the_same(user, foaf) \n",
        "    and not_friends(user, foaf))\n",
        "print friends_of_friend_ids(users[3])"
      ],
      "execution_count": 21,
      "outputs": [
        {
          "output_type": "stream",
          "text": [
            "Counter({0: 2, 5: 1})\n"
          ],
          "name": "stdout"
        }
      ]
    },
    {
      "metadata": {
        "id": "CSfuwPBHWVKe",
        "colab_type": "code",
        "colab": {}
      },
      "cell_type": "code",
      "source": [
        "# Friends with similar interest"
      ],
      "execution_count": 0,
      "outputs": []
    },
    {
      "metadata": {
        "id": "lsHpCmh9WdPW",
        "colab_type": "code",
        "colab": {}
      },
      "cell_type": "code",
      "source": [
        "interests = [\n",
        "        (0, \"Hadoop\"), (0, \"Big Data\"), (0, \"HBase\"), (0, \"Java\"),\n",
        "        (0, \"Spark\"), (0, \"Storm\"), (0, \"Cassandra\"),\n",
        "        (1, \"NoSQL\"), (1, \"MongoDB\"), (1, \"Cassandra\"), (1, \"HBase\"),\n",
        "        (1, \"Postgres\"), (2, \"Python\"), (2, \"scikit-learn\"), (2, \"scipy\"),\n",
        "        (2, \"numpy\"), (2, \"statsmodels\"), (2, \"pandas\"), (3, \"R\"), (3, \"Python\"),\n",
        "        (3, \"statistics\"), (3, \"regression\"), (3, \"probability\"),\n",
        "        (4, \"machine learning\"), (4, \"regression\"), (4, \"decision trees\"),\n",
        "        (4, \"libsvm\"), (5, \"Python\"), (5, \"R\"), (5, \"Java\"), (5, \"C++\"),\n",
        "        (5, \"Haskell\"), (5, \"programming languages\"), (6, \"statistics\"),\n",
        "        (6, \"probability\"), (6, \"mathematics\"), (6, \"theory\"),\n",
        "        (7, \"machine learning\"), (7, \"scikit-learn\"), (7, \"Mahout\"),\n",
        "        (7, \"neural networks\"), (8, \"neural networks\"), (8, \"deep learning\"),\n",
        "        (8, \"Big Data\"), (8, \"artificial intelligence\"), (9, \"Hadoop\"),\n",
        "        (9, \"Java\"), (9, \"MapReduce\"), (9, \"Big Data\")\n",
        "]"
      ],
      "execution_count": 0,
      "outputs": []
    },
    {
      "metadata": {
        "id": "MusvepCzWd32",
        "colab_type": "code",
        "colab": {}
      },
      "cell_type": "code",
      "source": [
        "def data_scientists_who_like(target_interest): \n",
        "  return [user_id\n",
        "    for user_id, user_interest in interests \n",
        "    if user_interest == target_interest]\n"
      ],
      "execution_count": 0,
      "outputs": []
    },
    {
      "metadata": {
        "id": "mk-BJ1WHWnft",
        "colab_type": "code",
        "colab": {}
      },
      "cell_type": "code",
      "source": [
        "from collections import defaultdict\n",
        "user_ids_by_interest = defaultdict(list) \n",
        "for user_id, interest in interests:\n",
        "  user_ids_by_interest[interest].append(user_id)"
      ],
      "execution_count": 0,
      "outputs": []
    },
    {
      "metadata": {
        "id": "NPicx62JWxwd",
        "colab_type": "code",
        "colab": {}
      },
      "cell_type": "code",
      "source": [
        "# keys are user_ids, values are lists of interests for that user_id\n",
        "interests_by_user_id = defaultdict(list)"
      ],
      "execution_count": 0,
      "outputs": []
    },
    {
      "metadata": {
        "id": "TOo3wh7lW1_W",
        "colab_type": "code",
        "colab": {}
      },
      "cell_type": "code",
      "source": [
        "for user_id, interest in interests: \n",
        "  interests_by_user_id[user_id].append(interest)"
      ],
      "execution_count": 0,
      "outputs": []
    },
    {
      "metadata": {
        "id": "QAbDmfCPW63V",
        "colab_type": "code",
        "colab": {}
      },
      "cell_type": "code",
      "source": [
        "# Keep count of how many times we see each other user.\n",
        "def most_common_interests_with(user): \n",
        "  return Counter(interested_user_id\n",
        "  for interest in interests_by_user_id[user[\"id\"]]\n",
        "  for interested_user_id in user_ids_by_interest[interest] \n",
        "  if interested_user_id != user[\"id\"])"
      ],
      "execution_count": 0,
      "outputs": []
    },
    {
      "metadata": {
        "id": "bOEvBLUEXHE3",
        "colab_type": "code",
        "colab": {}
      },
      "cell_type": "code",
      "source": [
        "# Salaries\n",
        "salaries_and_tenures = [(83000, 8.7), (88000, 8.1),\n",
        "                            (48000, 0.7), (76000, 6),\n",
        "                            (69000, 6.5), (76000, 7.5),\n",
        "                            (60000, 2.5), (83000, 10),\n",
        "                            (48000, 1.9), (63000, 4.2)]"
      ],
      "execution_count": 0,
      "outputs": []
    },
    {
      "metadata": {
        "id": "KqOulfHmXUX_",
        "colab_type": "code",
        "colab": {}
      },
      "cell_type": "code",
      "source": [
        "salary_by_tenure = defaultdict(list)"
      ],
      "execution_count": 0,
      "outputs": []
    },
    {
      "metadata": {
        "id": "iJM696zkXwe0",
        "colab_type": "code",
        "colab": {}
      },
      "cell_type": "code",
      "source": [
        "for salary, tenure in salaries_and_tenures:\n",
        "        salary_by_tenure[tenure].append(salary)"
      ],
      "execution_count": 0,
      "outputs": []
    },
    {
      "metadata": {
        "id": "YaDEN1omX8zC",
        "colab_type": "code",
        "colab": {}
      },
      "cell_type": "code",
      "source": [
        "average_salary_by_tenure = {\n",
        "  tenure : sum(salaries) / len(salaries)\n",
        "  for tenure, salaries in salary_by_tenure.items()\n",
        "}"
      ],
      "execution_count": 0,
      "outputs": []
    },
    {
      "metadata": {
        "id": "WGli8fIbZDa5",
        "colab_type": "code",
        "colab": {
          "base_uri": "https://localhost:8080/",
          "height": 187
        },
        "outputId": "10456b32-37ae-47a2-c41d-24c9c6586cd6"
      },
      "cell_type": "code",
      "source": [
        "average_salary_by_tenure"
      ],
      "execution_count": 42,
      "outputs": [
        {
          "output_type": "execute_result",
          "data": {
            "text/plain": [
              "{0.7: 48000.0,\n",
              " 1.9: 48000.0,\n",
              " 2.5: 60000.0,\n",
              " 4.2: 63000.0,\n",
              " 6: 76000.0,\n",
              " 6.5: 69000.0,\n",
              " 7.5: 76000.0,\n",
              " 8.1: 88000.0,\n",
              " 8.7: 83000.0,\n",
              " 10: 83000.0}"
            ]
          },
          "metadata": {
            "tags": []
          },
          "execution_count": 42
        }
      ]
    },
    {
      "metadata": {
        "id": "Z7-avaXQYDZ7",
        "colab_type": "code",
        "colab": {}
      },
      "cell_type": "code",
      "source": [
        "def tenure_bucket(tenure): \n",
        "  if tenure < 2:\n",
        "    return \"less than two\" \n",
        "  elif tenure < 5:\n",
        "    return \"between two and five\" \n",
        "  else:\n",
        "    return \"more than five\""
      ],
      "execution_count": 0,
      "outputs": []
    },
    {
      "metadata": {
        "id": "2Jm9Z9v4YXjY",
        "colab_type": "code",
        "colab": {}
      },
      "cell_type": "code",
      "source": [
        "# keys are tenure buckets, values are lists of salaries for that bucket\n",
        "salary_by_tenure_bucket = defaultdict(list)\n",
        "for salary, tenure in salaries_and_tenures: \n",
        "  bucket = tenure_bucket(tenure) \n",
        "  salary_by_tenure_bucket[bucket].append(salary)\n"
      ],
      "execution_count": 0,
      "outputs": []
    },
    {
      "metadata": {
        "id": "VUWHOcoBYj_H",
        "colab_type": "code",
        "colab": {}
      },
      "cell_type": "code",
      "source": [
        "# keys are tenure buckets, values are average salary for that bucket\n",
        "average_salary_by_bucket = {\n",
        "  tenure_bucket : sum(salaries) / len(salaries)\n",
        "  for tenure_bucket, salaries in salary_by_tenure_bucket.iteritems()\n",
        "}"
      ],
      "execution_count": 0,
      "outputs": []
    },
    {
      "metadata": {
        "id": "G8Wav3iRYy4h",
        "colab_type": "code",
        "colab": {
          "base_uri": "https://localhost:8080/",
          "height": 68
        },
        "outputId": "51beff68-7034-4eef-c48a-16ecfd3cf870"
      },
      "cell_type": "code",
      "source": [
        "average_salary_by_bucket"
      ],
      "execution_count": 41,
      "outputs": [
        {
          "output_type": "execute_result",
          "data": {
            "text/plain": [
              "{'between two and five': 61500.0,\n",
              " 'less than two': 48000.0,\n",
              " 'more than five': 79166.66666666667}"
            ]
          },
          "metadata": {
            "tags": []
          },
          "execution_count": 41
        }
      ]
    },
    {
      "metadata": {
        "id": "Des-waxFY2lR",
        "colab_type": "code",
        "colab": {}
      },
      "cell_type": "code",
      "source": [
        "def predict_paid_or_unpaid(years_experience): \n",
        "  if years_experience < 3.0:\n",
        "    return \"paid\"\n",
        "  elif years_experience < 8.5:\n",
        "    return \"unpaid\" \n",
        "  else:\n",
        "    return \"paid\"\n"
      ],
      "execution_count": 0,
      "outputs": []
    },
    {
      "metadata": {
        "id": "kdjvBYPmZT0P",
        "colab_type": "code",
        "colab": {}
      },
      "cell_type": "code",
      "source": [
        "interests = [\n",
        "        (0, \"Hadoop\"), (0, \"Big Data\"), (0, \"HBase\"), (0, \"Java\"),\n",
        "        (0, \"Spark\"), (0, \"Storm\"), (0, \"Cassandra\"),\n",
        "        (1, \"NoSQL\"), (1, \"MongoDB\"), (1, \"Cassandra\"), (1, \"HBase\"),\n",
        "        (1, \"Postgres\"), (2, \"Python\"), (2, \"scikit-learn\"), (2, \"scipy\"),\n",
        "        (2, \"numpy\"), (2, \"statsmodels\"), (2, \"pandas\"), (3, \"R\"), (3, \"Python\"),\n",
        "        (3, \"statistics\"), (3, \"regression\"), (3, \"probability\"),\n",
        "        (4, \"machine learning\"), (4, \"regression\"), (4, \"decision trees\"),\n",
        "        (4, \"libsvm\"), (5, \"Python\"), (5, \"R\"), (5, \"Java\"), (5, \"C++\"),\n",
        "        (5, \"Haskell\"), (5, \"programming languages\"), (6, \"statistics\"),\n",
        "        (6, \"probability\"), (6, \"mathematics\"), (6, \"theory\"),\n",
        "        (7, \"machine learning\"), (7, \"scikit-learn\"), (7, \"Mahout\"),\n",
        "        (7, \"neural networks\"), (8, \"neural networks\"), (8, \"deep learning\"),\n",
        "        (8, \"Big Data\"), (8, \"artificial intelligence\"), (9, \"Hadoop\"),\n",
        "        (9, \"Java\"), (9, \"MapReduce\"), (9, \"Big Data\")\n",
        "]\n"
      ],
      "execution_count": 0,
      "outputs": []
    },
    {
      "metadata": {
        "id": "KInf_Rd-ZbNM",
        "colab_type": "code",
        "colab": {}
      },
      "cell_type": "code",
      "source": [
        "words_and_counts = Counter(word\n",
        "          for user, interest in interests\n",
        "          for word in interest.lower().split())"
      ],
      "execution_count": 0,
      "outputs": []
    },
    {
      "metadata": {
        "id": "ALVUSKfCZhJc",
        "colab_type": "code",
        "colab": {
          "base_uri": "https://localhost:8080/",
          "height": 289
        },
        "outputId": "722b7d8d-8da7-4a02-8fc2-f3e7eb7fb06d"
      },
      "cell_type": "code",
      "source": [
        "for word, count in words_and_counts.most_common(): \n",
        "  if count > 1:\n",
        "    print word, count"
      ],
      "execution_count": 47,
      "outputs": [
        {
          "output_type": "stream",
          "text": [
            "learning 3\n",
            "java 3\n",
            "python 3\n",
            "big 3\n",
            "data 3\n",
            "hbase 2\n",
            "regression 2\n",
            "cassandra 2\n",
            "statistics 2\n",
            "probability 2\n",
            "hadoop 2\n",
            "networks 2\n",
            "machine 2\n",
            "neural 2\n",
            "scikit-learn 2\n",
            "r 2\n"
          ],
          "name": "stdout"
        }
      ]
    },
    {
      "metadata": {
        "id": "eLtFlup4Z3s8",
        "colab_type": "code",
        "colab": {}
      },
      "cell_type": "code",
      "source": [
        "# Chapter 3 - Visualizing Data"
      ],
      "execution_count": 0,
      "outputs": []
    },
    {
      "metadata": {
        "id": "BXfOc4-NaAKD",
        "colab_type": "code",
        "colab": {}
      },
      "cell_type": "code",
      "source": [
        "# MatPlotLib"
      ],
      "execution_count": 0,
      "outputs": []
    },
    {
      "metadata": {
        "id": "HQY6AwyhergP",
        "colab_type": "code",
        "colab": {}
      },
      "cell_type": "code",
      "source": [
        "from matplotlib import pyplot as plt\n",
        "years = [1950, 1960, 1970, 1980, 1990, 2000, 2010]\n",
        "gdp = [300.2, 543.3, 1075.9, 2862.5, 5979.6, 10289.7, 14958.3]"
      ],
      "execution_count": 0,
      "outputs": []
    },
    {
      "metadata": {
        "id": "57hbDBAuesQ3",
        "colab_type": "code",
        "colab": {
          "base_uri": "https://localhost:8080/",
          "height": 362
        },
        "outputId": "d90b468c-682d-49aa-fe48-59d62fe99aae"
      },
      "cell_type": "code",
      "source": [
        "# create a line chart, years on x-axis, gdp on y-axis\n",
        "plt.plot(years, gdp, color='green', marker='o', linestyle='solid') \n",
        "# add a title\n",
        "plt.title(\"Nominal GDP\")\n",
        "# add a label to the y-axis\n",
        "plt.ylabel(\"Billions of $\")\n",
        "plt.show()"
      ],
      "execution_count": 52,
      "outputs": [
        {
          "output_type": "display_data",
          "data": {
            "image/png": "[encoded data removed]",
            "text/plain": [
              "<Figure size 576x396 with 1 Axes>"
            ]
          },
          "metadata": {
            "tags": []
          }
        }
      ]
    },
    {
      "metadata": {
        "id": "6CTnYbMsevE7",
        "colab_type": "code",
        "colab": {}
      },
      "cell_type": "code",
      "source": [
        "# Bar CHarts"
      ],
      "execution_count": 0,
      "outputs": []
    },
    {
      "metadata": {
        "id": "D6OudYcUfCUP",
        "colab_type": "code",
        "colab": {
          "base_uri": "https://localhost:8080/",
          "height": 362
        },
        "outputId": "aaf5de82-4170-4633-bb18-cc3c97ca5012"
      },
      "cell_type": "code",
      "source": [
        "movies = [\"Annie Hall\", \"Ben-Hur\", \"Casablanca\", \"Gandhi\", \"West Side Story\"]\n",
        "num_oscars = [5, 11, 3, 8, 10]\n",
        "\n",
        "# bars are by default width 0.8, so we'll add 0.1 to the left coordinates # so that each bar is centered\n",
        "xs = [i + 0.1 for i, _ in enumerate(movies)]\n",
        "\n",
        "# plot bars with left x-coordinates [xs], heights [num_oscars]\n",
        "plt.bar(xs, num_oscars)\n",
        "\n",
        "plt.ylabel(\"# of Academy Awards\")\n",
        "plt.title(\"My Favorite Movies\")\n",
        "\n",
        "# label x-axis with movie names at bar centers\n",
        "plt.xticks([i + 0.5 for i, _ in enumerate(movies)], movies) \n",
        "plt.show()"
      ],
      "execution_count": 54,
      "outputs": [
        {
          "output_type": "display_data",
          "data": {
            "image/png": "[encoded data removed]",
            "text/plain": [
              "<Figure size 576x396 with 1 Axes>"
            ]
          },
          "metadata": {
            "tags": []
          }
        }
      ]
    },
    {
      "metadata": {
        "id": "7w2opPnyfPDk",
        "colab_type": "code",
        "colab": {}
      },
      "cell_type": "code",
      "source": [
        "# Histogram"
      ],
      "execution_count": 0,
      "outputs": []
    },
    {
      "metadata": {
        "id": "VxjlgzCPfWkE",
        "colab_type": "code",
        "colab": {
          "base_uri": "https://localhost:8080/",
          "height": 376
        },
        "outputId": "f4ce1eff-22de-4e68-ff2c-28f790defa7e"
      },
      "cell_type": "code",
      "source": [
        "grades = [83,95,91,87,70,0,85,82,100,67,73,77,0] \n",
        "decile = lambda grade: grade // 10 * 10\n",
        "histogram = Counter(decile(grade) for grade in grades)\n",
        "plt.bar([x - 4 for x in histogram.keys()],\n",
        "        histogram.values(),\n",
        "        8)\n",
        "\n",
        "plt.axis([-5, 105, 0, 5])\n",
        "\n",
        "plt.xticks([10 * i for i in range(11)]) \n",
        "plt.xlabel(\"Decile\")\n",
        "plt.ylabel(\"# of Students\") \n",
        "plt.title(\"Distribution of Exam 1 Grades\") \n",
        "plt.show()"
      ],
      "execution_count": 56,
      "outputs": [
        {
          "output_type": "display_data",
          "data": {
            "image/png": "[encoded data removed]",
            "text/plain": [
              "<Figure size 576x396 with 1 Axes>"
            ]
          },
          "metadata": {
            "tags": []
          }
        }
      ]
    },
    {
      "metadata": {
        "id": "VYdR26Btflwj",
        "colab_type": "code",
        "colab": {
          "base_uri": "https://localhost:8080/",
          "height": 362
        },
        "outputId": "a5dd0809-67f2-4ba6-88f1-e264f11ac9d7"
      },
      "cell_type": "code",
      "source": [
        "mentions = [500, 505]\n",
        "years = [2013, 2014]\n",
        "    \n",
        "plt.bar([2012.6, 2013.6], mentions, 0.8)\n",
        "plt.xticks(years)\n",
        "plt.ylabel(\"# of times I heard someone say 'data science'\")\n",
        "plt.ticklabel_format(useOffset=False)\n",
        "plt.axis([2012.5,2014.5,499,506])\n",
        "plt.title(\"Look at the 'Huge' Increase!\")\n",
        "plt.show()"
      ],
      "execution_count": 60,
      "outputs": [
        {
          "output_type": "display_data",
          "data": {
            "image/png": "[encoded data removed]",
            "text/plain": [
              "<Figure size 576x396 with 1 Axes>"
            ]
          },
          "metadata": {
            "tags": []
          }
        }
      ]
    },
    {
      "metadata": {
        "id": "XpiAFiNXfxIi",
        "colab_type": "code",
        "colab": {
          "base_uri": "https://localhost:8080/",
          "height": 362
        },
        "outputId": "cd98e921-ade2-4acb-af91-ae1111283db6"
      },
      "cell_type": "code",
      "source": [
        "mentions = [500, 505]\n",
        "years = [2013, 2014]\n",
        "plt.bar([2012.6, 2013.6], mentions, 0.8)\n",
        "plt.axis([2012.5,2014.5,0,550])\n",
        "plt.title(\"Not So Huge Anymore\")\n",
        "plt.show()"
      ],
      "execution_count": 63,
      "outputs": [
        {
          "output_type": "display_data",
          "data": {
            "image/png": "[encoded data removed]",
            "text/plain": [
              "<Figure size 576x396 with 1 Axes>"
            ]
          },
          "metadata": {
            "tags": []
          }
        }
      ]
    },
    {
      "metadata": {
        "id": "x_TJdm9Vfz7h",
        "colab_type": "code",
        "colab": {
          "base_uri": "https://localhost:8080/",
          "height": 376
        },
        "outputId": "5f217a63-fe85-4e6a-d69f-61f10227e963"
      },
      "cell_type": "code",
      "source": [
        "# Line Charts\n",
        "variance = [1, 2, 4, 8, 16, 32, 64, 128, 256] \n",
        "bias_squared = [256, 128, 64, 32, 16, 8, 4, 2, 1]\n",
        "total_error = [x + y for x, y in zip(variance, bias_squared)] \n",
        "xs = [i for i, _ in enumerate(variance)]\n",
        "plt.plot(xs, variance, 'g-', label='variance') # green solid line \n",
        "plt.plot(xs, bias_squared, 'r-.', label='bias^2') # red dot-dashed line \n",
        "plt.plot(xs, total_error, 'b:', label='total error')\n",
        "plt.legend(loc=9)\n",
        "plt.xlabel(\"model complexity\")\n",
        "plt.title(\"The Bias-Variance Tradeoff\")\n",
        "plt.show()"
      ],
      "execution_count": 64,
      "outputs": [
        {
          "output_type": "display_data",
          "data": {
            "image/png": "[encoded data removed]",
            "text/plain": [
              "<Figure size 576x396 with 1 Axes>"
            ]
          },
          "metadata": {
            "tags": []
          }
        }
      ]
    },
    {
      "metadata": {
        "id": "zDg8wdM2f2G5",
        "colab_type": "code",
        "colab": {
          "base_uri": "https://localhost:8080/",
          "height": 379
        },
        "outputId": "9898f033-b6ea-4655-c39d-ab45a49cd105"
      },
      "cell_type": "code",
      "source": [
        "# Scatter Plots\n",
        "friends = [ 70,  65,  72,  63,  71,  64,  60,  64,  67]\n",
        "minutes = [175, 170, 205, 120, 220, 130, 105, 145, 190]\n",
        "labels =  ['a', 'b', 'c', 'd', 'e', 'f', 'g', 'h', 'i']\n",
        "plt.scatter(friends, minutes)\n",
        "\n",
        "#  label each point\n",
        "for label, friend_count, minute_count in zip(labels, friends, minutes): \n",
        "  plt.annotate(label,\n",
        "               xy=(friend_count, minute_count), # put the label with its point \n",
        "               xytext=(5, -5), # but slightly offset \n",
        "               textcoords='offset points')\n",
        "plt.title(\"Daily Minutes vs. Number of Friends\")"
      ],
      "execution_count": 65,
      "outputs": [
        {
          "output_type": "execute_result",
          "data": {
            "text/plain": [
              "Text(0.5,1,'Daily Minutes vs. Number of Friends')"
            ]
          },
          "metadata": {
            "tags": []
          },
          "execution_count": 65
        },
        {
          "output_type": "display_data",
          "data": {
            "image/png": "[encoded data removed]",
            "text/plain": [
              "<Figure size 576x396 with 1 Axes>"
            ]
          },
          "metadata": {
            "tags": []
          }
        }
      ]
    },
    {
      "metadata": {
        "id": "62Fft_nfhCfj",
        "colab_type": "code",
        "colab": {
          "base_uri": "https://localhost:8080/",
          "height": 376
        },
        "outputId": "c88cfc79-0558-4d6f-dd13-2e2e701bb18a"
      },
      "cell_type": "code",
      "source": [
        "test_1_grades = [ 99, 90, 85, 97, 80]\n",
        "test_2_grades = [100, 85, 60, 90, 70]\n",
        "\n",
        "plt.scatter(test_1_grades, test_2_grades)\n",
        "plt.title(\"Axes Aren't Comparable\")\n",
        "plt.xlabel(\"test 1 grade\")\n",
        "plt.ylabel(\"test 2 grade\")\n",
        "plt.show()"
      ],
      "execution_count": 67,
      "outputs": [
        {
          "output_type": "display_data",
          "data": {
            "image/png": "[encoded data removed]",
            "text/plain": [
              "<Figure size 576x396 with 1 Axes>"
            ]
          },
          "metadata": {
            "tags": []
          }
        }
      ]
    },
    {
      "metadata": {
        "id": "j1JH_t1jhHH5",
        "colab_type": "code",
        "colab": {}
      },
      "cell_type": "code",
      "source": [
        "# Chapter 4 - Linear Algebra\n",
        "# Vectors"
      ],
      "execution_count": 0,
      "outputs": []
    },
    {
      "metadata": {
        "id": "giAT7_8nnAwp",
        "colab_type": "code",
        "colab": {}
      },
      "cell_type": "code",
      "source": [
        "height_weight_age = [70, # height,\n",
        "                  170, # pounds,\n",
        "                  40] #years"
      ],
      "execution_count": 0,
      "outputs": []
    },
    {
      "metadata": {
        "id": "kr9mfLQcnRYY",
        "colab_type": "code",
        "colab": {}
      },
      "cell_type": "code",
      "source": [
        "grades = [95, \n",
        "         80,\n",
        "         75, \n",
        "         62]"
      ],
      "execution_count": 0,
      "outputs": []
    },
    {
      "metadata": {
        "id": "DG2LU6VynqbV",
        "colab_type": "code",
        "colab": {}
      },
      "cell_type": "code",
      "source": [
        "def vector_add(v, w):\n",
        "  \"\"\"adds corresponding elements\"\"\" \n",
        "  return [v_i + w_i\n",
        "    for v_i, w_i in zip(v, w)]"
      ],
      "execution_count": 0,
      "outputs": []
    },
    {
      "metadata": {
        "id": "u7VZmbpWoAIb",
        "colab_type": "code",
        "colab": {}
      },
      "cell_type": "code",
      "source": [
        "def vector_subtract(v, w):\n",
        "  \"\"\"subtracts corresponding elements\"\"\" \n",
        "  return [v_i - w_i\n",
        "    for v_i, w_i in zip(v, w)]"
      ],
      "execution_count": 0,
      "outputs": []
    },
    {
      "metadata": {
        "id": "_yqMZgN9oGHd",
        "colab_type": "code",
        "colab": {}
      },
      "cell_type": "code",
      "source": [
        "def vector_sum(vectors):\n",
        "  \"\"\"sums all corresponding elements\"\"\" \n",
        "  result = vectors[0]\n",
        "  for vector in vectors[1:]:\n",
        "    result = vector_add(result, vector) \n",
        "  return result"
      ],
      "execution_count": 0,
      "outputs": []
    },
    {
      "metadata": {
        "id": "fcxnVlQYobma",
        "colab_type": "code",
        "colab": {}
      },
      "cell_type": "code",
      "source": [
        "def vector_sum(vectors):\n",
        "  return reduce(vector_add, vectors)"
      ],
      "execution_count": 0,
      "outputs": []
    },
    {
      "metadata": {
        "id": "SwUkQtKronQT",
        "colab_type": "code",
        "colab": {}
      },
      "cell_type": "code",
      "source": [
        "def scalar_multiply(c, v):\n",
        "  \"\"\"c is a number, v is a vector\"\"\" \n",
        "  return [c * v_i for v_i in v]"
      ],
      "execution_count": 0,
      "outputs": []
    },
    {
      "metadata": {
        "id": "TO0NnsqVopHL",
        "colab_type": "code",
        "colab": {}
      },
      "cell_type": "code",
      "source": [
        "def vector_mean(vectors):\n",
        "  \"\"\"compute the vector whose ith element is the mean of the ith elements of the input vectors\"\"\"\n",
        "  n = len(vectors)\n",
        "  return scalar_multiply(1/n, vector_sum(vectors))"
      ],
      "execution_count": 0,
      "outputs": []
    },
    {
      "metadata": {
        "id": "VFKkHXoVo3w8",
        "colab_type": "code",
        "colab": {}
      },
      "cell_type": "code",
      "source": [
        "def dot(v, w):\n",
        "  \"\"\"v_1 * w_1 + ... + v_n * w_n\"\"\" \n",
        "  return sum(v_i * w_i\n",
        "    for v_i, w_i in zip(v, w))"
      ],
      "execution_count": 0,
      "outputs": []
    },
    {
      "metadata": {
        "id": "dxum_YsbpAIM",
        "colab_type": "code",
        "colab": {}
      },
      "cell_type": "code",
      "source": [
        "def sum_of_squares(v):\n",
        "  \"\"\"v_1 * v_1 + ... + v_n * v_n\"\"\" \n",
        "  return dot(v, v)"
      ],
      "execution_count": 0,
      "outputs": []
    },
    {
      "metadata": {
        "id": "ilw9hWiRpK6u",
        "colab_type": "code",
        "colab": {}
      },
      "cell_type": "code",
      "source": [
        "import math\n",
        "\n",
        "def magnitude(v):\n",
        "  return math.sqrt(sum_of_squares(v))"
      ],
      "execution_count": 0,
      "outputs": []
    },
    {
      "metadata": {
        "id": "GndnJ_JBpWhL",
        "colab_type": "code",
        "colab": {}
      },
      "cell_type": "code",
      "source": [
        "# Distance of two squares"
      ],
      "execution_count": 0,
      "outputs": []
    },
    {
      "metadata": {
        "id": "W4Pup3HYpZJi",
        "colab_type": "code",
        "colab": {}
      },
      "cell_type": "code",
      "source": [
        "def squared_distance(v, w):\n",
        "  \"\"\"(v_1 - w_1) ** 2 + ... + (v_n - w_n) ** 2\"\"\" \n",
        "  return sum_of_squares(vector_subtract(v, w))\n",
        "def distance(v, w):\n",
        "  return math.sqrt(squared_distance(v, w))"
      ],
      "execution_count": 0,
      "outputs": []
    },
    {
      "metadata": {
        "id": "aNibkc37pe1v",
        "colab_type": "code",
        "colab": {}
      },
      "cell_type": "code",
      "source": [
        "def distance(v, w):\n",
        "  return magnitude(vector_subtract(v, w))"
      ],
      "execution_count": 0,
      "outputs": []
    },
    {
      "metadata": {
        "id": "j5vguXhwpiH4",
        "colab_type": "code",
        "colab": {}
      },
      "cell_type": "code",
      "source": [
        "# Matrices"
      ],
      "execution_count": 0,
      "outputs": []
    },
    {
      "metadata": {
        "id": "dJXhgmJ2pq0h",
        "colab_type": "code",
        "colab": {}
      },
      "cell_type": "code",
      "source": [
        "A = [[1, 2, 3],\n",
        "     [4, 5, 6]]"
      ],
      "execution_count": 0,
      "outputs": []
    },
    {
      "metadata": {
        "id": "DKbvwKEcpr3Y",
        "colab_type": "code",
        "colab": {}
      },
      "cell_type": "code",
      "source": [
        "B = [[1, 2],\n",
        "     [3, 4],\n",
        "     [5, 6]]"
      ],
      "execution_count": 0,
      "outputs": []
    },
    {
      "metadata": {
        "id": "QYNvDtXaptyp",
        "colab_type": "code",
        "colab": {}
      },
      "cell_type": "code",
      "source": [
        "def shape(A):\n",
        "  num_rows = len(A)\n",
        "  num_cols = len(A[0]) if A else 0 \n",
        "  return num_rows, num_cols"
      ],
      "execution_count": 0,
      "outputs": []
    },
    {
      "metadata": {
        "id": "UGnixjJfp5-r",
        "colab_type": "code",
        "colab": {}
      },
      "cell_type": "code",
      "source": [
        "def get_row(A, i): \n",
        "  return A[i]"
      ],
      "execution_count": 0,
      "outputs": []
    },
    {
      "metadata": {
        "id": "DZTWbFYdp_N8",
        "colab_type": "code",
        "colab": {}
      },
      "cell_type": "code",
      "source": [
        "def get_column(A, j): \n",
        "  return [A_i[j]\n",
        "    for A_i in A]"
      ],
      "execution_count": 0,
      "outputs": []
    },
    {
      "metadata": {
        "id": "pXlsHlyvqJO4",
        "colab_type": "code",
        "colab": {}
      },
      "cell_type": "code",
      "source": [
        "def make_matrix(num_rows, num_cols, entry_fn):\n",
        "  \"\"\"returns a num_rows x num_cols matrix whose (i,j)th entry is entry_fn(i, j)\"\"\"\n",
        "  return [[entry_fn(i, j)\n",
        "           for j in range(num_cols)]\n",
        "           for i in range(num_rows)]"
      ],
      "execution_count": 0,
      "outputs": []
    },
    {
      "metadata": {
        "id": "GLzsum75qWwH",
        "colab_type": "code",
        "colab": {}
      },
      "cell_type": "code",
      "source": [
        "def is_diagonal(i, j):\n",
        "  \"\"\"1's on the 'diagonal', 0's everywhere else\"\"\" \n",
        "  return 1 if i==j else 0"
      ],
      "execution_count": 0,
      "outputs": []
    },
    {
      "metadata": {
        "id": "Y_qW6hsqqnEs",
        "colab_type": "code",
        "colab": {}
      },
      "cell_type": "code",
      "source": [
        "identity_matrix = make_matrix(5, 5, is_diagonal)\n"
      ],
      "execution_count": 0,
      "outputs": []
    },
    {
      "metadata": {
        "id": "2f94tB91qpL1",
        "colab_type": "code",
        "colab": {
          "base_uri": "https://localhost:8080/",
          "height": 102
        },
        "outputId": "be880ec0-9300-48b5-f19a-d244870f29ca"
      },
      "cell_type": "code",
      "source": [
        "identity_matrix"
      ],
      "execution_count": 102,
      "outputs": [
        {
          "output_type": "execute_result",
          "data": {
            "text/plain": [
              "[[1, 0, 0, 0, 0],\n",
              " [0, 1, 0, 0, 0],\n",
              " [0, 0, 1, 0, 0],\n",
              " [0, 0, 0, 1, 0],\n",
              " [0, 0, 0, 0, 1]]"
            ]
          },
          "metadata": {
            "tags": []
          },
          "execution_count": 102
        }
      ]
    },
    {
      "metadata": {
        "id": "TnEBsGgiqufk",
        "colab_type": "code",
        "colab": {}
      },
      "cell_type": "code",
      "source": [
        "data = [[70, 170, 40],\n",
        "            [65, 120, 26],\n",
        "            [77, 250, 19],]"
      ],
      "execution_count": 0,
      "outputs": []
    },
    {
      "metadata": {
        "id": "ojZ2fr3aq0mH",
        "colab_type": "code",
        "colab": {}
      },
      "cell_type": "code",
      "source": [
        "friendships = [(0, 1), (0, 2), (1, 2), (1, 3), (2, 3), (3, 4),\n",
        "                   (4, 5), (5, 6), (5, 7), (6, 8), (7, 8), (8, 9)]"
      ],
      "execution_count": 0,
      "outputs": []
    },
    {
      "metadata": {
        "id": "RSJGQF2Yq4le",
        "colab_type": "code",
        "colab": {}
      },
      "cell_type": "code",
      "source": [
        "friendships = [[0, 1, 1, 0, 0, 0, 0, 0, 0, 0], # user 0\n",
        "              [1, 0, 1, 1, 0, 0, 0, 0, 0, 0], # user 1 \n",
        "              [1, 1, 0, 1, 0, 0, 0, 0, 0, 0], # user 2 \n",
        "               [0, 1, 1, 0, 1, 0, 0, 0, 0, 0], # user 3 \n",
        "               [0, 0, 0, 1, 0, 1, 0, 0, 0, 0], # user 4 \n",
        "               [0, 0, 0, 0, 1, 0, 1, 1, 0, 0], # user 5 \n",
        "               [0, 0, 0, 0, 0, 1, 0, 0, 1, 0], # user 6 \n",
        "               [0, 0, 0, 0, 0, 1, 0, 0, 1, 0], # user 7 \n",
        "               [0, 0, 0, 0, 0, 0, 1, 1, 0, 1], # user 8 \n",
        "               [0, 0, 0, 0, 0, 0, 0, 0, 1, 0]] # user 9"
      ],
      "execution_count": 0,
      "outputs": []
    },
    {
      "metadata": {
        "id": "ZYuQ1mi1rKyc",
        "colab_type": "code",
        "colab": {
          "base_uri": "https://localhost:8080/",
          "height": 34
        },
        "outputId": "d0e05300-5328-42cf-8c9f-3a2d2e4c35ba"
      },
      "cell_type": "code",
      "source": [
        "friendships[0][2] == 1"
      ],
      "execution_count": 106,
      "outputs": [
        {
          "output_type": "execute_result",
          "data": {
            "text/plain": [
              "True"
            ]
          },
          "metadata": {
            "tags": []
          },
          "execution_count": 106
        }
      ]
    },
    {
      "metadata": {
        "id": "CcV0kUe1rNjl",
        "colab_type": "code",
        "colab": {
          "base_uri": "https://localhost:8080/",
          "height": 34
        },
        "outputId": "1d057228-0a0e-4c52-c0ed-e4fb8e1cc8b5"
      },
      "cell_type": "code",
      "source": [
        "friendships[0][8] == 1"
      ],
      "execution_count": 107,
      "outputs": [
        {
          "output_type": "execute_result",
          "data": {
            "text/plain": [
              "False"
            ]
          },
          "metadata": {
            "tags": []
          },
          "execution_count": 107
        }
      ]
    },
    {
      "metadata": {
        "id": "fRyUfteXrPcV",
        "colab_type": "code",
        "colab": {}
      },
      "cell_type": "code",
      "source": [
        "friends_of_five = [i # only need \n",
        "                   for i, is_friend in enumerate(friendships[5]) # to look at\n",
        "                  if is_friend] # one row\n"
      ],
      "execution_count": 0,
      "outputs": []
    },
    {
      "metadata": {
        "id": "FCcPAml7raUr",
        "colab_type": "code",
        "colab": {}
      },
      "cell_type": "code",
      "source": [
        "# Chapter 10 - Working with Data"
      ],
      "execution_count": 0,
      "outputs": []
    },
    {
      "metadata": {
        "id": "OXfvY6aWrzNJ",
        "colab_type": "code",
        "colab": {}
      },
      "cell_type": "code",
      "source": [
        "def bucketize(point, bucket_size):\n",
        "  \"\"\"floor the point to the next lower multiple of bucket_size\"\"\" \n",
        "  return bucket_size * math.floor(point / bucket_size)\n",
        "def make_histogram(points, bucket_size):\n",
        "  \"\"\"buckets the points and counts how many in each bucket\"\"\" \n",
        "  return Counter(bucketize(point, bucket_size) for point in points)\n",
        "def plot_histogram(points, bucket_size, title=\"\"):\n",
        "  histogram = make_histogram(points, bucket_size) \n",
        "  plt.bar(histogram.keys(), histogram.values(), width=bucket_size) \n",
        "  plt.title(title)\n",
        "  plt.show()"
      ],
      "execution_count": 0,
      "outputs": []
    },
    {
      "metadata": {
        "id": "FIJxoJPnxOKL",
        "colab_type": "code",
        "colab": {}
      },
      "cell_type": "code",
      "source": [
        "import math, random\n",
        "random.seed(0)"
      ],
      "execution_count": 0,
      "outputs": []
    },
    {
      "metadata": {
        "id": "JW56tZpz13Ch",
        "colab_type": "code",
        "colab": {}
      },
      "cell_type": "code",
      "source": [
        "uniform = [200 * random.random() - 100 for _ in range(10000)]\n"
      ],
      "execution_count": 0,
      "outputs": []
    },
    {
      "metadata": {
        "id": "0NGIPUou2RPI",
        "colab_type": "code",
        "colab": {}
      },
      "cell_type": "code",
      "source": [
        "normal = [57 * inverse_normal_cdf(random.random()) \n",
        "          for _ in range(10)]"
      ],
      "execution_count": 0,
      "outputs": []
    },
    {
      "metadata": {
        "id": "6WpkR4j92TRP",
        "colab_type": "code",
        "colab": {
          "base_uri": "https://localhost:8080/",
          "height": 362
        },
        "outputId": "66d401bc-e931-4280-cfc6-7c4054d8a10c"
      },
      "cell_type": "code",
      "source": [
        "plot_histogram(uniform, 10, \"Uniform Histogram\")"
      ],
      "execution_count": 127,
      "outputs": [
        {
          "output_type": "display_data",
          "data": {
            "image/png": "[encoded data removed]",
            "text/plain": [
              "<Figure size 576x396 with 1 Axes>"
            ]
          },
          "metadata": {
            "tags": []
          }
        }
      ]
    },
    {
      "metadata": {
        "id": "CzVAuwTm4kvD",
        "colab_type": "code",
        "colab": {}
      },
      "cell_type": "code",
      "source": [
        "def random_normal():\n",
        "  return inverse_normal_cdf(random.random())"
      ],
      "execution_count": 0,
      "outputs": []
    },
    {
      "metadata": {
        "id": "9aREohFk4ZAa",
        "colab_type": "code",
        "colab": {}
      },
      "cell_type": "code",
      "source": [
        "xs = [random_normal() for _ in range(1000)] \n",
        "ys1 = [x + random_normal() / 2 for x in xs] \n",
        "ys2 = [-x + random_normal() / 2 for x in xs]"
      ],
      "execution_count": 0,
      "outputs": []
    },
    {
      "metadata": {
        "id": "IOJ14ccH6cXX",
        "colab_type": "code",
        "colab": {}
      },
      "cell_type": "code",
      "source": [
        "plt.scatter(xs, ys1, marker='.', color='black', label='ys1')\n",
        "plt.scatter(xs, ys2, marker='.', color='gray',  label='ys2')\n",
        "plt.xlabel('xs')\n",
        "plt.ylabel('ys')\n",
        "plt.legend(loc=9)\n",
        "plt.title(\"Very Different Joint Distributions\")\n",
        "plt.show()"
      ],
      "execution_count": 0,
      "outputs": []
    },
    {
      "metadata": {
        "id": "nABdI2Kg6vDr",
        "colab_type": "code",
        "colab": {}
      },
      "cell_type": "code",
      "source": [
        "import matplotlib.pyplot as plt"
      ],
      "execution_count": 0,
      "outputs": []
    },
    {
      "metadata": {
        "id": "B3hsPoDD6-m5",
        "colab_type": "code",
        "colab": {
          "base_uri": "https://localhost:8080/",
          "height": 347
        },
        "outputId": "cca1d045-a9b3-4fc0-ff70-c917c91b6e02"
      },
      "cell_type": "code",
      "source": [
        "_, num_columns = shape(data)\n",
        "fig, ax = plt.subplots(num_columns, num_columns) \n",
        "for i in range(num_columns):\n",
        "  for j in range(num_columns):\n",
        "    if i != j: ax[i][j].scatter(get_column(data, j), get_column(data, i))\n",
        "    else: ax[i][j].annotate(\"series \" + str(i), (0.5, 0.5), \n",
        "                            xycoords='axes fraction', \n",
        "                            ha=\"center\", va=\"center\")\n",
        "    if i < num_columns - 1: ax[i][j].xaxis.set_visible(False) \n",
        "    if j > 0: ax[i][j].yaxis.set_visible(False)\n",
        "\n",
        "ax[-1][-1].set_xlim(ax[0][-1].get_xlim()) \n",
        "ax[0][0].set_ylim(ax[0][1].get_ylim())\n",
        "plt.show()\n",
        "\n"
      ],
      "execution_count": 147,
      "outputs": [
        {
          "output_type": "display_data",
          "data": {
            "image/png": "[encoded data removed]",
            "text/plain": [
              "<Figure size 576x396 with 9 Axes>"
            ]
          },
          "metadata": {
            "tags": []
          }
        }
      ]
    },
    {
      "metadata": {
        "id": "XOzptpSK7FYh",
        "colab_type": "code",
        "colab": {}
      },
      "cell_type": "code",
      "source": [
        "closing_price = float(row[2])"
      ],
      "execution_count": 0,
      "outputs": []
    },
    {
      "metadata": {
        "id": "SICSGAdZ7ljG",
        "colab_type": "code",
        "colab": {}
      },
      "cell_type": "code",
      "source": [
        "def parse_row(input_row, parsers):\n",
        "  return [parser(value) if parser is not None else value \n",
        "          for value, parser in zip(input_row, parsers)]\n",
        "\n",
        "def parse_rows_with(reader, parsers):\n",
        "  for row in reader:\n",
        "    yield parse_row(row, parsers)\n"
      ],
      "execution_count": 0,
      "outputs": []
    },
    {
      "metadata": {
        "id": "GChGtPjX72QU",
        "colab_type": "code",
        "colab": {}
      },
      "cell_type": "code",
      "source": [
        "def try_or_none(f):\n",
        "  def f_or_none(x):\n",
        "    try: return f(x)\n",
        "    except: return None \n",
        "  return f_or_none"
      ],
      "execution_count": 0,
      "outputs": []
    },
    {
      "metadata": {
        "id": "DrT5tbBeD07-",
        "colab_type": "code",
        "colab": {}
      },
      "cell_type": "code",
      "source": [
        "def parse_row(input_row, parsers):\n",
        "    return [try_or_none(parser)(value) if parser is not None else value\n",
        "        for value, parser in zip(input_row, parsers)]"
      ],
      "execution_count": 0,
      "outputs": []
    },
    {
      "metadata": {
        "id": "n3K-mi_9D9z6",
        "colab_type": "code",
        "colab": {}
      },
      "cell_type": "code",
      "source": [
        "# importing data using a parser"
      ],
      "execution_count": 0,
      "outputs": []
    },
    {
      "metadata": {
        "id": "jJL7QlULEFsl",
        "colab_type": "code",
        "colab": {
          "base_uri": "https://localhost:8080/",
          "height": 232
        },
        "outputId": "22dad05c-e126-40a2-d73a-a5524529ac6e"
      },
      "cell_type": "code",
      "source": [
        "import dateutil.parser \n",
        "data = []\n",
        "with open(\"comma_delimited_stock_prices.csv\", \"rb\") as f:\n",
        "  reader = csv.reader(f)\n",
        "  for line in parse_rows_with(reader, [dateutil.parser.parse, None, float]):\n",
        "      data.append(line)"
      ],
      "execution_count": 156,
      "outputs": [
        {
          "output_type": "error",
          "ename": "IOError",
          "evalue": "ignored",
          "traceback": [
            "\u001b[0;31m\u001b[0m",
            "\u001b[0;31mIOError\u001b[0mTraceback (most recent call last)",
            "\u001b[0;32m<ipython-input-156-33213884640e>\u001b[0m in \u001b[0;36m<module>\u001b[0;34m()\u001b[0m\n\u001b[1;32m      1\u001b[0m \u001b[0;32mimport\u001b[0m \u001b[0mdateutil\u001b[0m\u001b[0;34m.\u001b[0m\u001b[0mparser\u001b[0m\u001b[0;34m\u001b[0m\u001b[0m\n\u001b[1;32m      2\u001b[0m \u001b[0mdata\u001b[0m \u001b[0;34m=\u001b[0m \u001b[0;34m[\u001b[0m\u001b[0;34m]\u001b[0m\u001b[0;34m\u001b[0m\u001b[0m\n\u001b[0;32m----> 3\u001b[0;31m \u001b[0;32mwith\u001b[0m \u001b[0mopen\u001b[0m\u001b[0;34m(\u001b[0m\u001b[0;34m\"comma_delimited_stock_prices.csv\"\u001b[0m\u001b[0;34m,\u001b[0m \u001b[0;34m\"rb\"\u001b[0m\u001b[0;34m)\u001b[0m \u001b[0;32mas\u001b[0m \u001b[0mf\u001b[0m\u001b[0;34m:\u001b[0m\u001b[0;34m\u001b[0m\u001b[0m\n\u001b[0m\u001b[1;32m      4\u001b[0m   \u001b[0mreader\u001b[0m \u001b[0;34m=\u001b[0m \u001b[0mcsv\u001b[0m\u001b[0;34m.\u001b[0m\u001b[0mreader\u001b[0m\u001b[0;34m(\u001b[0m\u001b[0mf\u001b[0m\u001b[0;34m)\u001b[0m\u001b[0;34m\u001b[0m\u001b[0m\n\u001b[1;32m      5\u001b[0m   \u001b[0;32mfor\u001b[0m \u001b[0mline\u001b[0m \u001b[0;32min\u001b[0m \u001b[0mparse_rows_with\u001b[0m\u001b[0;34m(\u001b[0m\u001b[0mreader\u001b[0m\u001b[0;34m,\u001b[0m \u001b[0;34m[\u001b[0m\u001b[0mdateutil\u001b[0m\u001b[0;34m.\u001b[0m\u001b[0mparser\u001b[0m\u001b[0;34m.\u001b[0m\u001b[0mparse\u001b[0m\u001b[0;34m,\u001b[0m \u001b[0mNone\u001b[0m\u001b[0;34m,\u001b[0m \u001b[0mfloat\u001b[0m\u001b[0;34m]\u001b[0m\u001b[0;34m)\u001b[0m\u001b[0;34m:\u001b[0m\u001b[0;34m\u001b[0m\u001b[0m\n",
            "\u001b[0;31mIOError\u001b[0m: [Errno 2] No such file or directory: 'comma_delimited_stock_prices.csv'"
          ]
        }
      ]
    },
    {
      "metadata": {
        "id": "xPhqPUQYEO99",
        "colab_type": "code",
        "colab": {
          "base_uri": "https://localhost:8080/",
          "height": 34
        },
        "outputId": "741fe4fe-d40d-4f09-a794-2835b078316a"
      },
      "cell_type": "code",
      "source": [
        "ls"
      ],
      "execution_count": 157,
      "outputs": [
        {
          "output_type": "stream",
          "text": [
            "\u001b[0m\u001b[01;34msample_data\u001b[0m/\n"
          ],
          "name": "stdout"
        }
      ]
    },
    {
      "metadata": {
        "id": "noYqOPtXGXzQ",
        "colab_type": "code",
        "colab": {}
      },
      "cell_type": "code",
      "source": [
        "for row in data:\n",
        "  if any(x is None for x in row):\n",
        "    print row"
      ],
      "execution_count": 0,
      "outputs": []
    },
    {
      "metadata": {
        "id": "T0aE4kJTHJED",
        "colab_type": "code",
        "colab": {}
      },
      "cell_type": "code",
      "source": [
        "def try_parse_field(field_name, value, parser_dict):\n",
        "  parser = parser_dict.get(field_name) \n",
        "  if parser is not None:\n",
        "    return try_or_none(parser)(value) \n",
        "  else:\n",
        "    return value"
      ],
      "execution_count": 0,
      "outputs": []
    },
    {
      "metadata": {
        "id": "qABZAN5qJ_LG",
        "colab_type": "code",
        "colab": {}
      },
      "cell_type": "code",
      "source": [
        "def parse_dict(input_dict, parser_dict):\n",
        "  return { field_name : try_parse_field(field_name, value, parser_dict)\n",
        "    for field_name, value in input_dict.iteritems() }"
      ],
      "execution_count": 0,
      "outputs": []
    },
    {
      "metadata": {
        "id": "V-UuFpJaKKQj",
        "colab_type": "code",
        "colab": {}
      },
      "cell_type": "code",
      "source": [
        "import datetime\n",
        "data=[\n",
        "  {'closing_price': 102.06,\n",
        "  'date': datetime.datetime(2014, 8, 29, 0, 0),\n",
        "  'symbol': 'AAPL'},]"
      ],
      "execution_count": 0,
      "outputs": []
    },
    {
      "metadata": {
        "id": "k2IN66B0Keli",
        "colab_type": "code",
        "colab": {}
      },
      "cell_type": "code",
      "source": [
        "max_aapl_price = max(row[\"closing_price\"] \n",
        "                     for row in data\n",
        "                     if row[\"symbol\"] == \"AAPL\")"
      ],
      "execution_count": 0,
      "outputs": []
    },
    {
      "metadata": {
        "id": "1zHfQKwkLDHf",
        "colab_type": "code",
        "colab": {}
      },
      "cell_type": "code",
      "source": [
        "# group rows by symbol\n",
        "by_symbol = defaultdict(list) \n",
        "for row in data:\n",
        "        by_symbol[row[\"symbol\"]].append(row)\n"
      ],
      "execution_count": 0,
      "outputs": []
    },
    {
      "metadata": {
        "id": "phIZwc1VLNB4",
        "colab_type": "code",
        "colab": {}
      },
      "cell_type": "code",
      "source": [
        "# use a dict comprehension to find the max for each symbol\n",
        "max_price_by_symbol = { symbol : max(row[\"closing_price\"] \n",
        "                                     for row in grouped_rows)\n",
        "                      for symbol, grouped_rows in by_symbol.iteritems() }\n"
      ],
      "execution_count": 0,
      "outputs": []
    },
    {
      "metadata": {
        "id": "01ohphV7LdIE",
        "colab_type": "code",
        "colab": {}
      },
      "cell_type": "code",
      "source": [
        "def picker(field_name):\n",
        "  \"\"\"returns a function that picks a field out of a dict\"\"\" \n",
        "  return lambda row: row[field_name]\n"
      ],
      "execution_count": 0,
      "outputs": []
    },
    {
      "metadata": {
        "id": "sODC1nBgLktZ",
        "colab_type": "code",
        "colab": {}
      },
      "cell_type": "code",
      "source": [
        "def pluck(field_name, rows):\n",
        "  \"\"\"turn a list of dicts into the list of field_name values\"\"\" \n",
        "  return map(picker(field_name), rows)\n"
      ],
      "execution_count": 0,
      "outputs": []
    },
    {
      "metadata": {
        "id": "SOJv6YznLptQ",
        "colab_type": "code",
        "colab": {}
      },
      "cell_type": "code",
      "source": [
        "def group_by(grouper, rows, value_transform=None):\n",
        "  # key is output of grouper, value is list of rows \n",
        "  grouped = defaultdict(list)\n",
        "  for row in rows:\n",
        "    grouped[grouper(row)].append(row)\n",
        "\n",
        "  if value_transform is None: \n",
        "    return grouped\n",
        "  else:\n",
        "    return { key : value_transform(rows)\n",
        "      for key, rows in grouped.iteritems() }\n"
      ],
      "execution_count": 0,
      "outputs": []
    },
    {
      "metadata": {
        "id": "GX6nQZdtMLff",
        "colab_type": "code",
        "colab": {}
      },
      "cell_type": "code",
      "source": [
        "max_price_by_symbol = group_by(picker(\"symbol\"),\n",
        "                                   data,\n",
        "                                   lambda rows: max(pluck(\"closing_price\", rows)))"
      ],
      "execution_count": 0,
      "outputs": []
    },
    {
      "metadata": {
        "id": "O6Gj-_5fMZDW",
        "colab_type": "code",
        "colab": {}
      },
      "cell_type": "code",
      "source": [
        "def percent_price_change(yesterday, today):\n",
        "  return today[\"closing_price\"] / yesterday[\"closing_price\"] - 1"
      ],
      "execution_count": 0,
      "outputs": []
    },
    {
      "metadata": {
        "id": "iNjVZq6TMtmB",
        "colab_type": "code",
        "colab": {}
      },
      "cell_type": "code",
      "source": [
        "def day_over_day_changes(grouped_rows):\n",
        "  # sort the rows by date\n",
        "  ordered = sorted(grouped_rows, key=picker(\"date\"))\n"
      ],
      "execution_count": 0,
      "outputs": []
    },
    {
      "metadata": {
        "id": "Y64Whrc-M2uq",
        "colab_type": "code",
        "colab": {
          "base_uri": "https://localhost:8080/",
          "height": 113
        },
        "outputId": "dc4c061d-9de7-4856-b568-d0adeac1b3a5"
      },
      "cell_type": "code",
      "source": [
        "# zip with an offset to get pairs of consecutive days\n",
        "return [{\"symbol\" : today[\"symbol\"], \"date\" : today[\"date\"],\"change\" : percent_price_change(yesterday, today)} \n",
        "        for yesterday, today in zip(ordered, ordered[1:])]"
      ],
      "execution_count": 175,
      "outputs": [
        {
          "output_type": "error",
          "ename": "SyntaxError",
          "evalue": "ignored",
          "traceback": [
            "\u001b[0;36m  File \u001b[0;32m\"<ipython-input-175-b4174e085499>\"\u001b[0;36m, line \u001b[0;32m1\u001b[0m\n\u001b[0;31m    return [{\"symbol\" : today[\"symbol\"], \"date\" : today[\"date\"],\"change\" : percent_price_change(yesterday, today)}\u001b[0m\n\u001b[0;31mSyntaxError\u001b[0m\u001b[0;31m:\u001b[0m 'return' outside function\n"
          ]
        }
      ]
    },
    {
      "metadata": {
        "id": "a2FMKa5rNEhX",
        "colab_type": "code",
        "colab": {}
      },
      "cell_type": "code",
      "source": [
        "changes_by_symbol = group_by(picker(\"symbol\"), data, day_over_day_changes)\n"
      ],
      "execution_count": 0,
      "outputs": []
    },
    {
      "metadata": {
        "id": "vAHmj7kcNshJ",
        "colab_type": "code",
        "colab": {
          "base_uri": "https://localhost:8080/",
          "height": 164
        },
        "outputId": "fd574d2b-d5d8-4416-89e3-7fa43d3e6903"
      },
      "cell_type": "code",
      "source": [
        "all_changes = [change for changes in changes_by_symbol.values() for change in changes]"
      ],
      "execution_count": 179,
      "outputs": [
        {
          "output_type": "error",
          "ename": "TypeError",
          "evalue": "ignored",
          "traceback": [
            "\u001b[0;31m\u001b[0m",
            "\u001b[0;31mTypeError\u001b[0mTraceback (most recent call last)",
            "\u001b[0;32m<ipython-input-179-8c8a2a1b630f>\u001b[0m in \u001b[0;36m<module>\u001b[0;34m()\u001b[0m\n\u001b[0;32m----> 1\u001b[0;31m \u001b[0mall_changes\u001b[0m \u001b[0;34m=\u001b[0m \u001b[0;34m[\u001b[0m\u001b[0mchange\u001b[0m \u001b[0;32mfor\u001b[0m \u001b[0mchanges\u001b[0m \u001b[0;32min\u001b[0m \u001b[0mchanges_by_symbol\u001b[0m\u001b[0;34m.\u001b[0m\u001b[0mvalues\u001b[0m\u001b[0;34m(\u001b[0m\u001b[0;34m)\u001b[0m \u001b[0;32mfor\u001b[0m \u001b[0mchange\u001b[0m \u001b[0;32min\u001b[0m \u001b[0mchanges\u001b[0m\u001b[0;34m]\u001b[0m\u001b[0;34m\u001b[0m\u001b[0m\n\u001b[0m",
            "\u001b[0;31mTypeError\u001b[0m: 'NoneType' object is not iterable"
          ]
        }
      ]
    },
    {
      "metadata": {
        "id": "oWQMANrFN1j4",
        "colab_type": "code",
        "colab": {
          "base_uri": "https://localhost:8080/",
          "height": 164
        },
        "outputId": "0b7bdf2e-443c-4d11-bacf-66ea5c60ef9a"
      },
      "cell_type": "code",
      "source": [
        "max(all_changes, key=picker(\"change\"))"
      ],
      "execution_count": 178,
      "outputs": [
        {
          "output_type": "error",
          "ename": "NameError",
          "evalue": "ignored",
          "traceback": [
            "\u001b[0;31m\u001b[0m",
            "\u001b[0;31mNameError\u001b[0mTraceback (most recent call last)",
            "\u001b[0;32m<ipython-input-178-1161e211e4e8>\u001b[0m in \u001b[0;36m<module>\u001b[0;34m()\u001b[0m\n\u001b[0;32m----> 1\u001b[0;31m \u001b[0mmax\u001b[0m\u001b[0;34m(\u001b[0m\u001b[0mall_changes\u001b[0m\u001b[0;34m,\u001b[0m \u001b[0mkey\u001b[0m\u001b[0;34m=\u001b[0m\u001b[0mpicker\u001b[0m\u001b[0;34m(\u001b[0m\u001b[0;34m\"change\"\u001b[0m\u001b[0;34m)\u001b[0m\u001b[0;34m)\u001b[0m\u001b[0;34m\u001b[0m\u001b[0m\n\u001b[0m",
            "\u001b[0;31mNameError\u001b[0m: name 'all_changes' is not defined"
          ]
        }
      ]
    },
    {
      "metadata": {
        "id": "RUsXvyzqN9RZ",
        "colab_type": "code",
        "colab": {
          "base_uri": "https://localhost:8080/",
          "height": 164
        },
        "outputId": "02ba57af-97f4-4469-fc60-8689a36e5282"
      },
      "cell_type": "code",
      "source": [
        "min(all_changes, key=picker(\"change\"))"
      ],
      "execution_count": 180,
      "outputs": [
        {
          "output_type": "error",
          "ename": "NameError",
          "evalue": "ignored",
          "traceback": [
            "\u001b[0;31m\u001b[0m",
            "\u001b[0;31mNameError\u001b[0mTraceback (most recent call last)",
            "\u001b[0;32m<ipython-input-180-ffbfdddd86cb>\u001b[0m in \u001b[0;36m<module>\u001b[0;34m()\u001b[0m\n\u001b[0;32m----> 1\u001b[0;31m \u001b[0mmin\u001b[0m\u001b[0;34m(\u001b[0m\u001b[0mall_changes\u001b[0m\u001b[0;34m,\u001b[0m \u001b[0mkey\u001b[0m\u001b[0;34m=\u001b[0m\u001b[0mpicker\u001b[0m\u001b[0;34m(\u001b[0m\u001b[0;34m\"change\"\u001b[0m\u001b[0;34m)\u001b[0m\u001b[0;34m)\u001b[0m\u001b[0;34m\u001b[0m\u001b[0m\n\u001b[0m",
            "\u001b[0;31mNameError\u001b[0m: name 'all_changes' is not defined"
          ]
        }
      ]
    },
    {
      "metadata": {
        "id": "trXFXEzOOQwS",
        "colab_type": "code",
        "colab": {}
      },
      "cell_type": "code",
      "source": [
        "# Rescaling"
      ],
      "execution_count": 0,
      "outputs": []
    },
    {
      "metadata": {
        "id": "5Pw2M1VoOdox",
        "colab_type": "code",
        "colab": {}
      },
      "cell_type": "code",
      "source": [
        "a_to_b = distance([63, 150], [67, 160])\n",
        "a_to_c = distance([63, 150], [70, 171])\n",
        "b_to_c = distance([67, 160], [70, 171])"
      ],
      "execution_count": 0,
      "outputs": []
    },
    {
      "metadata": {
        "id": "Jp7koEyfOu2e",
        "colab_type": "code",
        "colab": {}
      },
      "cell_type": "code",
      "source": [
        "a_to_b = distance([160, 150], [170.2, 160]) \n",
        "a_to_c = distance([160, 150], [177.8, 171]) \n",
        "b_to_c = distance([170.2, 160], [177.8, 171])"
      ],
      "execution_count": 0,
      "outputs": []
    },
    {
      "metadata": {
        "id": "PIJrw4u-O1_J",
        "colab_type": "code",
        "colab": {}
      },
      "cell_type": "code",
      "source": [
        "def scale(data_matrix):\n",
        "  \"\"\"returns the means and standard deviations of each column\"\"\" \n",
        "  num_rows, num_cols = shape(data_matrix)\n",
        "  means = [mean(get_column(data_matrix,j))\n",
        "    for j in range(num_cols)]\n",
        "  stdevs = [standard_deviation(get_column(data_matrix,j))\n",
        "    for j in range(num_cols)] \n",
        "  return means, stdevs\n"
      ],
      "execution_count": 0,
      "outputs": []
    },
    {
      "metadata": {
        "id": "pNQKfunEO9K8",
        "colab_type": "code",
        "colab": {}
      },
      "cell_type": "code",
      "source": [
        "def rescale(data_matrix):\n",
        "  means, stdevs = scale(data_matrix)\n",
        "  \n",
        "  def rescaled(i, j): \n",
        "    if stdevs[j] > 0:\n",
        "      return (data_matrix[i][j] - means[j]) / stdevs[j] \n",
        "    else:\n",
        "      return data_matrix[i][j] \n"
      ],
      "execution_count": 0,
      "outputs": []
    },
    {
      "metadata": {
        "id": "KsY_2d1rPfuH",
        "colab_type": "code",
        "colab": {}
      },
      "cell_type": "code",
      "source": [
        "num_rows, num_cols = shape(data_matrix)\n",
        "return make_matrix(num_rows, num_cols, rescaled)"
      ],
      "execution_count": 0,
      "outputs": []
    },
    {
      "metadata": {
        "id": "3We80jHAQSYp",
        "colab_type": "code",
        "colab": {}
      },
      "cell_type": "code",
      "source": [
        "# Dimension Reduction"
      ],
      "execution_count": 0,
      "outputs": []
    },
    {
      "metadata": {
        "id": "8uPHtxxCRdmN",
        "colab_type": "code",
        "colab": {}
      },
      "cell_type": "code",
      "source": [
        "def de_mean_matrix(A):\n",
        "  nr, nc = shape(A)\n",
        "  column_means, _ = scale(A)\n",
        "  return make_matrix(nr, nc, lambda i, j: A[i][j] - column_means[j])"
      ],
      "execution_count": 0,
      "outputs": []
    },
    {
      "metadata": {
        "id": "M_PNzT7qRn62",
        "colab_type": "code",
        "colab": {}
      },
      "cell_type": "code",
      "source": [
        "def direction(w):\n",
        "  mag = magnitude(w)\n",
        "  return [w_i / mag for w_i in w]"
      ],
      "execution_count": 0,
      "outputs": []
    },
    {
      "metadata": {
        "id": "9dhkeDvUR62T",
        "colab_type": "code",
        "colab": {}
      },
      "cell_type": "code",
      "source": [
        "def directional_variance_i(x_i, w):\n",
        "  return dot(x_i, direction(w)) ** 2\n"
      ],
      "execution_count": 0,
      "outputs": []
    },
    {
      "metadata": {
        "id": "2g2bqrtQR9nF",
        "colab_type": "code",
        "colab": {}
      },
      "cell_type": "code",
      "source": [
        "def directional_variance(X, w):\n",
        "  return sum(directional_variance_i(x_i, w)\n",
        "    for x_i in X)"
      ],
      "execution_count": 0,
      "outputs": []
    },
    {
      "metadata": {
        "id": "UABz9T1MSC0J",
        "colab_type": "code",
        "colab": {}
      },
      "cell_type": "code",
      "source": [
        "def directional_variance_gradient_i(x_i, w):\n",
        "  projection_length = dot(x_i, direction(w))\n",
        "  return [2 * projection_length * x_ij for x_ij in x_i]\n"
      ],
      "execution_count": 0,
      "outputs": []
    },
    {
      "metadata": {
        "id": "Xl4dsGklSiMa",
        "colab_type": "code",
        "colab": {}
      },
      "cell_type": "code",
      "source": [
        "def directional_variance_gradient(X, w):\n",
        "  return vector_sum(directional_variance_gradient_i(x_i,w)\n",
        "  for x_i in X)"
      ],
      "execution_count": 0,
      "outputs": []
    },
    {
      "metadata": {
        "id": "LA37DUy0SnEJ",
        "colab_type": "code",
        "colab": {}
      },
      "cell_type": "code",
      "source": [
        "def first_principal_component(X):\n",
        "  guess = [1 for _ in X[0]] \n",
        "  unscaled_maximizer = maximize_batch(\n",
        "    partial(directional_variance, X), # is now a function of w \n",
        "    partial(directional_variance_gradient, X), # is now a function of w \n",
        "    guess)\n",
        "  return direction(unscaled_maximizer)"
      ],
      "execution_count": 0,
      "outputs": []
    },
    {
      "metadata": {
        "id": "-mQbC3P3S0Z_",
        "colab_type": "code",
        "colab": {}
      },
      "cell_type": "code",
      "source": [
        "def first_principal_component_sgd(X):\n",
        "  guess = [1 for _ in X[0]] \n",
        "  unscaled_maximizer = maximize_stochastic(\n",
        "    lambda x, _, w: directional_variance_i(x, w),\n",
        "    lambda x, _, w: directional_variance_gradient_i(x, w), \n",
        "    X,\n",
        "    [None for _ in X], # the fake \"y\"\n",
        "    guess)\n",
        "  return direction(unscaled_maximizer)"
      ],
      "execution_count": 0,
      "outputs": []
    },
    {
      "metadata": {
        "id": "92-sg0U8TvTk",
        "colab_type": "code",
        "colab": {}
      },
      "cell_type": "code",
      "source": [
        "def project(v, w):\n",
        "  projection_length = dot(v, w)\n",
        "  return scalar_multiply(projection_length, w)"
      ],
      "execution_count": 0,
      "outputs": []
    },
    {
      "metadata": {
        "id": "t4xqRsKYT8Vi",
        "colab_type": "code",
        "colab": {}
      },
      "cell_type": "code",
      "source": [
        "def remove_projection(X, w):\n",
        "  return [remove_projection_from_vector(x_i, w) for x_i in X]"
      ],
      "execution_count": 0,
      "outputs": []
    },
    {
      "metadata": {
        "id": "EK8jicq5UF64",
        "colab_type": "code",
        "colab": {}
      },
      "cell_type": "code",
      "source": [
        "def principal_component_analysis(X, num_components): \n",
        "  components = []\n",
        "  for _ in range(num_components):\n",
        "    component = first_principal_component(X) \n",
        "    components.append(component)\n",
        "    X = remove_projection(X, component)\n",
        "\n",
        "  return components"
      ],
      "execution_count": 0,
      "outputs": []
    },
    {
      "metadata": {
        "id": "OHxuNcHMUS6X",
        "colab_type": "code",
        "colab": {}
      },
      "cell_type": "code",
      "source": [
        "def transform_vector(v, components): \n",
        "  return [dot(v, w) for w in components]\n",
        "def transform(X, components):\n",
        "  return [transform_vector(x_i, components) for x_i in X]"
      ],
      "execution_count": 0,
      "outputs": []
    },
    {
      "metadata": {
        "id": "HM7SzrOmUblP",
        "colab_type": "code",
        "colab": {}
      },
      "cell_type": "code",
      "source": [
        ""
      ],
      "execution_count": 0,
      "outputs": []
    }
  ]
}