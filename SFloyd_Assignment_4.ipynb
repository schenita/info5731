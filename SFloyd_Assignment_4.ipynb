{
  "nbformat": 4,
  "nbformat_minor": 0,
  "metadata": {
    "colab": {
      "name": "SFloyd_Assignment 4.ipynb",
      "version": "0.3.2",
      "provenance": [],
      "collapsed_sections": [],
      "include_colab_link": true
    },
    "kernelspec": {
      "name": "python3",
      "display_name": "Python 3"
    }
  },
  "cells": [
    {
      "cell_type": "markdown",
      "metadata": {
        "id": "view-in-github",
        "colab_type": "text"
      },
      "source": [
        "<a href=\"https://colab.research.google.com/github/schenita/info5731/blob/master/SFloyd_Assignment_4.ipynb\" target=\"_parent\"><img src=\"https://colab.research.google.com/assets/colab-badge.svg\" alt=\"Open In Colab\"/></a>"
      ]
    },
    {
      "metadata": {
        "id": "x7mY-C85tABC",
        "colab_type": "text"
      },
      "cell_type": "markdown",
      "source": [
        "# Assignment 4\n",
        "\n",
        "In lesson 6, we talked about how to carry out emotion analysis with **NRC (National Research Council Canada) Emotion Lexicon**. In this assignment, you'll need to apply the similar approach on a different corpus, namely **Jane Austen's \"Emma\"**.\n",
        "\n",
        "![](https://github.com/wshuyi/github_pub_img/raw/master/assets/2019-02-26-09-37-39-732402.jpeg)\n"
      ]
    },
    {
      "metadata": {
        "id": "6PXW5gm4tEHG",
        "colab_type": "text"
      },
      "cell_type": "markdown",
      "source": [
        "**Question 1. (20 points)** Load the sentences of Jane Austen's \"Emma\" as lists from NLTK **Gutenburg** corpus. In this Assignment, for simplicity, we regard each sentence as a \"line\" from the raw text. Print the first 20 sentences / lines.\n",
        "\n",
        "![](https://github.com/wshuyi/github_pub_img/raw/master/assets/2019-02-26-10-29-49-122343.jpeg)"
      ]
    },
    {
      "metadata": {
        "id": "qW1V3R1K_nMT",
        "colab_type": "code",
        "colab": {
          "base_uri": "https://localhost:8080/",
          "height": 1091
        },
        "outputId": "75fd2006-835c-4a20-ee40-53e781c41834"
      },
      "cell_type": "code",
      "source": [
        "import nltk\n",
        "import re\n",
        "nltk.download('punkt')\n",
        "from urllib import request\n",
        "from bs4 import BeautifulSoup\n",
        "from nltk import word_tokenize\n",
        "from nltk import sent_tokenize\n",
        "url = \"http://www.gutenberg.org/files/158/158-0.txt\"\n",
        "html = request.urlopen(url).read().decode('utf8')\n",
        "raw = BeautifulSoup(html).get_text()\n",
        "data = word_tokenize(raw)\n",
        "tokenized_sents = [word_tokenize(i) for i in raw.split('\\n')[30:90]]\n",
        "for i in tokenized_sents:\n",
        "  print (i)\n"
      ],
      "execution_count": 62,
      "outputs": [
        {
          "output_type": "stream",
          "text": [
            "[nltk_data] Downloading package punkt to /root/nltk_data...\n",
            "[nltk_data]   Package punkt is already up-to-date!\n",
            "[]\n",
            "['EMMA']\n",
            "[]\n",
            "['By', 'Jane', 'Austen']\n",
            "[]\n",
            "[]\n",
            "[]\n",
            "[]\n",
            "['VOLUME', 'I']\n",
            "[]\n",
            "[]\n",
            "[]\n",
            "['CHAPTER', 'I']\n",
            "[]\n",
            "[]\n",
            "['Emma', 'Woodhouse', ',', 'handsome', ',', 'clever', ',', 'and', 'rich', ',', 'with', 'a', 'comfortable', 'home']\n",
            "['and', 'happy', 'disposition', ',', 'seemed', 'to', 'unite', 'some', 'of', 'the', 'best', 'blessings', 'of']\n",
            "['existence', ';', 'and', 'had', 'lived', 'nearly', 'twenty-one', 'years', 'in', 'the', 'world', 'with', 'very']\n",
            "['little', 'to', 'distress', 'or', 'vex', 'her', '.']\n",
            "[]\n",
            "['She', 'was', 'the', 'youngest', 'of', 'the', 'two', 'daughters', 'of', 'a', 'most', 'affectionate', ',']\n",
            "['indulgent', 'father', ';', 'and', 'had', ',', 'in', 'consequence', 'of', 'her', 'sister', \"'s\", 'marriage', ',', 'been']\n",
            "['mistress', 'of', 'his', 'house', 'from', 'a', 'very', 'early', 'period', '.', 'Her', 'mother', 'had', 'died']\n",
            "['too', 'long', 'ago', 'for', 'her', 'to', 'have', 'more', 'than', 'an', 'indistinct', 'remembrance', 'of']\n",
            "['her', 'caresses', ';', 'and', 'her', 'place', 'had', 'been', 'supplied', 'by', 'an', 'excellent', 'woman', 'as']\n",
            "['governess', ',', 'who', 'had', 'fallen', 'little', 'short', 'of', 'a', 'mother', 'in', 'affection', '.']\n",
            "[]\n",
            "['Sixteen', 'years', 'had', 'Miss', 'Taylor', 'been', 'in', 'Mr.', 'Woodhouse', \"'s\", 'family', ',', 'less', 'as', 'a']\n",
            "['governess', 'than', 'a', 'friend', ',', 'very', 'fond', 'of', 'both', 'daughters', ',', 'but', 'particularly']\n",
            "['of', 'Emma', '.', 'Between', '_them_', 'it', 'was', 'more', 'the', 'intimacy', 'of', 'sisters', '.', 'Even', 'before']\n",
            "['Miss', 'Taylor', 'had', 'ceased', 'to', 'hold', 'the', 'nominal', 'office', 'of', 'governess', ',', 'the']\n",
            "['mildness', 'of', 'her', 'temper', 'had', 'hardly', 'allowed', 'her', 'to', 'impose', 'any', 'restraint', ';']\n",
            "['and', 'the', 'shadow', 'of', 'authority', 'being', 'now', 'long', 'passed', 'away', ',', 'they', 'had', 'been']\n",
            "['living', 'together', 'as', 'friend', 'and', 'friend', 'very', 'mutually', 'attached', ',', 'and', 'Emma']\n",
            "['doing', 'just', 'what', 'she', 'liked', ';', 'highly', 'esteeming', 'Miss', 'Taylor', \"'s\", 'judgment', ',', 'but']\n",
            "['directed', 'chiefly', 'by', 'her', 'own', '.']\n",
            "[]\n",
            "['The', 'real', 'evils', ',', 'indeed', ',', 'of', 'Emma', \"'s\", 'situation', 'were', 'the', 'power', 'of', 'having']\n",
            "['rather', 'too', 'much', 'her', 'own', 'way', ',', 'and', 'a', 'disposition', 'to', 'think', 'a', 'little', 'too']\n",
            "['well', 'of', 'herself', ';', 'these', 'were', 'the', 'disadvantages', 'which', 'threatened', 'alloy', 'to']\n",
            "['her', 'many', 'enjoyments', '.', 'The', 'danger', ',', 'however', ',', 'was', 'at', 'present', 'so', 'unperceived', ',']\n",
            "['that', 'they', 'did', 'not', 'by', 'any', 'means', 'rank', 'as', 'misfortunes', 'with', 'her', '.']\n",
            "[]\n",
            "['Sorrow', 'came', '--', 'a', 'gentle', 'sorrow', '--', 'but', 'not', 'at', 'all', 'in', 'the', 'shape', 'of', 'any']\n",
            "['disagreeable', 'consciousness.', '--', 'Miss', 'Taylor', 'married', '.', 'It', 'was', 'Miss', 'Taylor', \"'s\"]\n",
            "['loss', 'which', 'first', 'brought', 'grief', '.', 'It', 'was', 'on', 'the', 'wedding-day', 'of', 'this']\n",
            "['beloved', 'friend', 'that', 'Emma', 'first', 'sat', 'in', 'mournful', 'thought', 'of', 'any']\n",
            "['continuance', '.', 'The', 'wedding', 'over', ',', 'and', 'the', 'bride-people', 'gone', ',', 'her', 'father', 'and']\n",
            "['herself', 'were', 'left', 'to', 'dine', 'together', ',', 'with', 'no', 'prospect', 'of', 'a', 'third', 'to', 'cheer']\n",
            "['a', 'long', 'evening', '.', 'Her', 'father', 'composed', 'himself', 'to', 'sleep', 'after', 'dinner', ',', 'as']\n",
            "['usual', ',', 'and', 'she', 'had', 'then', 'only', 'to', 'sit', 'and', 'think', 'of', 'what', 'she', 'had', 'lost', '.']\n",
            "[]\n",
            "['The', 'event', 'had', 'every', 'promise', 'of', 'happiness', 'for', 'her', 'friend', '.', 'Mr.', 'Weston']\n",
            "['was', 'a', 'man', 'of', 'unexceptionable', 'character', ',', 'easy', 'fortune', ',', 'suitable', 'age', ',', 'and']\n",
            "['pleasant', 'manners', ';', 'and', 'there', 'was', 'some', 'satisfaction', 'in', 'considering']\n",
            "['with', 'what', 'self-denying', ',', 'generous', 'friendship', 'she', 'had', 'always', 'wished', 'and']\n",
            "['promoted', 'the', 'match', ';', 'but', 'it', 'was', 'a', 'black', 'morning', \"'s\", 'work', 'for', 'her', '.', 'The', 'want']\n",
            "['of', 'Miss', 'Taylor', 'would', 'be', 'felt', 'every', 'hour', 'of', 'every', 'day', '.', 'She', 'recalled', 'her']\n",
            "['past', 'kindness', '--', 'the', 'kindness', ',', 'the', 'affection', 'of', 'sixteen', 'years', '--', 'how', 'she', 'had']\n",
            "['taught', 'and', 'how', 'she', 'had', 'played', 'with', 'her', 'from', 'five', 'years', 'old', '--', 'how', 'she', 'had']\n"
          ],
          "name": "stdout"
        }
      ]
    },
    {
      "metadata": {
        "id": "pX4j0rKutQwC",
        "colab_type": "text"
      },
      "cell_type": "markdown",
      "source": [
        "**Question 2. (20 points)** Make a Pandas Dataframe `df`. It should contain two columns. One is the line number (named `line`, starting from 0), the other is the `word`. Convert all the words in lower cases, and get rid of all punctuations. Print the first 10 rows of `df`.\n",
        "\n",
        "![](https://github.com/wshuyi/github_pub_img/raw/master/assets/2019-02-26-10-30-21-041702.jpeg)"
      ]
    },
    {
      "metadata": {
        "colab_type": "code",
        "id": "qEqsPIrttpeO",
        "colab": {
          "base_uri": "https://localhost:8080/",
          "height": 359
        },
        "outputId": "a02a663a-ce16-4349-ee0d-91228cabf9f1"
      },
      "cell_type": "code",
      "source": [
        "import pandas as pd\n",
        "df = pd.DataFrame(data)\n",
        "df = df.stack().reset_index(level=0)\n",
        "df.columns = ['line', 'word']\n",
        "df.head(10)"
      ],
      "execution_count": 63,
      "outputs": [
        {
          "output_type": "execute_result",
          "data": {
            "text/html": [
              "<div>\n",
              "<style scoped>\n",
              "    .dataframe tbody tr th:only-of-type {\n",
              "        vertical-align: middle;\n",
              "    }\n",
              "\n",
              "    .dataframe tbody tr th {\n",
              "        vertical-align: top;\n",
              "    }\n",
              "\n",
              "    .dataframe thead th {\n",
              "        text-align: right;\n",
              "    }\n",
              "</style>\n",
              "<table border=\"1\" class=\"dataframe\">\n",
              "  <thead>\n",
              "    <tr style=\"text-align: right;\">\n",
              "      <th></th>\n",
              "      <th>line</th>\n",
              "      <th>word</th>\n",
              "    </tr>\n",
              "  </thead>\n",
              "  <tbody>\n",
              "    <tr>\n",
              "      <th>0</th>\n",
              "      <td>0</td>\n",
              "      <td>﻿The</td>\n",
              "    </tr>\n",
              "    <tr>\n",
              "      <th>0</th>\n",
              "      <td>1</td>\n",
              "      <td>Project</td>\n",
              "    </tr>\n",
              "    <tr>\n",
              "      <th>0</th>\n",
              "      <td>2</td>\n",
              "      <td>Gutenberg</td>\n",
              "    </tr>\n",
              "    <tr>\n",
              "      <th>0</th>\n",
              "      <td>3</td>\n",
              "      <td>EBook</td>\n",
              "    </tr>\n",
              "    <tr>\n",
              "      <th>0</th>\n",
              "      <td>4</td>\n",
              "      <td>of</td>\n",
              "    </tr>\n",
              "    <tr>\n",
              "      <th>0</th>\n",
              "      <td>5</td>\n",
              "      <td>Emma</td>\n",
              "    </tr>\n",
              "    <tr>\n",
              "      <th>0</th>\n",
              "      <td>6</td>\n",
              "      <td>,</td>\n",
              "    </tr>\n",
              "    <tr>\n",
              "      <th>0</th>\n",
              "      <td>7</td>\n",
              "      <td>by</td>\n",
              "    </tr>\n",
              "    <tr>\n",
              "      <th>0</th>\n",
              "      <td>8</td>\n",
              "      <td>Jane</td>\n",
              "    </tr>\n",
              "    <tr>\n",
              "      <th>0</th>\n",
              "      <td>9</td>\n",
              "      <td>Austen</td>\n",
              "    </tr>\n",
              "  </tbody>\n",
              "</table>\n",
              "</div>"
            ],
            "text/plain": [
              "   line       word\n",
              "0     0       ﻿The\n",
              "0     1    Project\n",
              "0     2  Gutenberg\n",
              "0     3      EBook\n",
              "0     4         of\n",
              "0     5       Emma\n",
              "0     6          ,\n",
              "0     7         by\n",
              "0     8       Jane\n",
              "0     9     Austen"
            ]
          },
          "metadata": {
            "tags": []
          },
          "execution_count": 63
        }
      ]
    },
    {
      "metadata": {
        "id": "S9W8uAkftSFQ",
        "colab_type": "text"
      },
      "cell_type": "markdown",
      "source": [
        "**Question 3. (20 points)** Load the data from the [NRC Emotion Lexicon](https://github.com/wshuyi/info-5731-public/raw/master/NRC_emotion_lexicon_list.txt) into a Pandas Dataframe `nrc`. Make the words as index, different emotions as column names, and fill in the values correspondingly. Print the first 5 rows of `nrc`.\n",
        "\n",
        "![](https://github.com/wshuyi/github_pub_img/raw/master/assets/2019-02-26-10-33-10-259893.jpeg)"
      ]
    },
    {
      "metadata": {
        "colab_type": "code",
        "id": "3uT-r6futp6F",
        "colab": {
          "base_uri": "https://localhost:8080/",
          "height": 442
        },
        "outputId": "6f61cf72-8e6b-433e-e2a1-5d3342b5ca68"
      },
      "cell_type": "code",
      "source": [
        "!wget https://raw.githubusercontent.com/wshuyi/info-5731-public/master/NRC_emotion_lexicon_list.txt\n",
        "nrc = pd.read_csv(\"NRC_emotion_lexicon_list.txt\", sep='\\t', header=None)\n",
        "nrc.columns = ['word', 'emotion', 'value']\n",
        "nrc = nrc.pivot(index='word',columns='emotion',values='value')\n",
        "nrc.head()"
      ],
      "execution_count": 26,
      "outputs": [
        {
          "output_type": "stream",
          "text": [
            "--2019-03-05 03:01:52--  https://raw.githubusercontent.com/wshuyi/info-5731-public/master/NRC_emotion_lexicon_list.txt\n",
            "Resolving raw.githubusercontent.com (raw.githubusercontent.com)... 151.101.0.133, 151.101.64.133, 151.101.128.133, ...\n",
            "Connecting to raw.githubusercontent.com (raw.githubusercontent.com)|151.101.0.133|:443... connected.\n",
            "HTTP request sent, awaiting response... 200 OK\n",
            "Length: 2579144 (2.5M) [text/plain]\n",
            "Saving to: ‘NRC_emotion_lexicon_list.txt.1’\n",
            "\n",
            "\r          NRC_emoti   0%[                    ]       0  --.-KB/s               \rNRC_emotion_lexicon 100%[===================>]   2.46M  --.-KB/s    in 0.06s   \n",
            "\n",
            "2019-03-05 03:01:52 (41.2 MB/s) - ‘NRC_emotion_lexicon_list.txt.1’ saved [2579144/2579144]\n",
            "\n"
          ],
          "name": "stdout"
        },
        {
          "output_type": "execute_result",
          "data": {
            "text/html": [
              "<div>\n",
              "<style scoped>\n",
              "    .dataframe tbody tr th:only-of-type {\n",
              "        vertical-align: middle;\n",
              "    }\n",
              "\n",
              "    .dataframe tbody tr th {\n",
              "        vertical-align: top;\n",
              "    }\n",
              "\n",
              "    .dataframe thead th {\n",
              "        text-align: right;\n",
              "    }\n",
              "</style>\n",
              "<table border=\"1\" class=\"dataframe\">\n",
              "  <thead>\n",
              "    <tr style=\"text-align: right;\">\n",
              "      <th>emotion</th>\n",
              "      <th>anger</th>\n",
              "      <th>anticipation</th>\n",
              "      <th>disgust</th>\n",
              "      <th>fear</th>\n",
              "      <th>joy</th>\n",
              "      <th>negative</th>\n",
              "      <th>positive</th>\n",
              "      <th>sadness</th>\n",
              "      <th>surprise</th>\n",
              "      <th>trust</th>\n",
              "    </tr>\n",
              "    <tr>\n",
              "      <th>word</th>\n",
              "      <th></th>\n",
              "      <th></th>\n",
              "      <th></th>\n",
              "      <th></th>\n",
              "      <th></th>\n",
              "      <th></th>\n",
              "      <th></th>\n",
              "      <th></th>\n",
              "      <th></th>\n",
              "      <th></th>\n",
              "    </tr>\n",
              "  </thead>\n",
              "  <tbody>\n",
              "    <tr>\n",
              "      <th>NaN</th>\n",
              "      <td>0</td>\n",
              "      <td>0</td>\n",
              "      <td>0</td>\n",
              "      <td>0</td>\n",
              "      <td>0</td>\n",
              "      <td>0</td>\n",
              "      <td>0</td>\n",
              "      <td>0</td>\n",
              "      <td>0</td>\n",
              "      <td>0</td>\n",
              "    </tr>\n",
              "    <tr>\n",
              "      <th>aback</th>\n",
              "      <td>0</td>\n",
              "      <td>0</td>\n",
              "      <td>0</td>\n",
              "      <td>0</td>\n",
              "      <td>0</td>\n",
              "      <td>0</td>\n",
              "      <td>0</td>\n",
              "      <td>0</td>\n",
              "      <td>0</td>\n",
              "      <td>0</td>\n",
              "    </tr>\n",
              "    <tr>\n",
              "      <th>abacus</th>\n",
              "      <td>0</td>\n",
              "      <td>0</td>\n",
              "      <td>0</td>\n",
              "      <td>0</td>\n",
              "      <td>0</td>\n",
              "      <td>0</td>\n",
              "      <td>0</td>\n",
              "      <td>0</td>\n",
              "      <td>0</td>\n",
              "      <td>1</td>\n",
              "    </tr>\n",
              "    <tr>\n",
              "      <th>abandon</th>\n",
              "      <td>0</td>\n",
              "      <td>0</td>\n",
              "      <td>0</td>\n",
              "      <td>1</td>\n",
              "      <td>0</td>\n",
              "      <td>1</td>\n",
              "      <td>0</td>\n",
              "      <td>1</td>\n",
              "      <td>0</td>\n",
              "      <td>0</td>\n",
              "    </tr>\n",
              "    <tr>\n",
              "      <th>abandoned</th>\n",
              "      <td>1</td>\n",
              "      <td>0</td>\n",
              "      <td>0</td>\n",
              "      <td>1</td>\n",
              "      <td>0</td>\n",
              "      <td>1</td>\n",
              "      <td>0</td>\n",
              "      <td>1</td>\n",
              "      <td>0</td>\n",
              "      <td>0</td>\n",
              "    </tr>\n",
              "  </tbody>\n",
              "</table>\n",
              "</div>"
            ],
            "text/plain": [
              "emotion    anger  anticipation  disgust  fear  joy  negative  positive  \\\n",
              "word                                                                     \n",
              "NaN            0             0        0     0    0         0         0   \n",
              "aback          0             0        0     0    0         0         0   \n",
              "abacus         0             0        0     0    0         0         0   \n",
              "abandon        0             0        0     1    0         1         0   \n",
              "abandoned      1             0        0     1    0         1         0   \n",
              "\n",
              "emotion    sadness  surprise  trust  \n",
              "word                                 \n",
              "NaN              0         0      0  \n",
              "aback            0         0      0  \n",
              "abacus           0         0      1  \n",
              "abandon          1         0      0  \n",
              "abandoned        1         0      0  "
            ]
          },
          "metadata": {
            "tags": []
          },
          "execution_count": 26
        }
      ]
    },
    {
      "metadata": {
        "id": "IwKbmWyrtVou",
        "colab_type": "text"
      },
      "cell_type": "markdown",
      "source": [
        "**Question 4. (20 points)** Join `df` and `nrc` together. Sum the values of different emotions on each line, and put the result into a new Dataframe `new_df`. Print the first 5 rows of `new_df`.\n",
        "\n",
        "![](https://github.com/wshuyi/github_pub_img/raw/master/assets/2019-02-26-10-35-02-167561.jpeg)"
      ]
    },
    {
      "metadata": {
        "colab_type": "code",
        "id": "i0IhaAA3tqTm",
        "colab": {
          "base_uri": "https://localhost:8080/",
          "height": 390
        },
        "outputId": "193a8b5b-f1e1-4030-bbf1-a23faf6ec3f9"
      },
      "cell_type": "code",
      "source": [
        "new_df = df.join(nrc, how='left', on='word')\n",
        "new_df.fillna(0, inplace=True)\n",
        "result = new_df.drop(columns=['word']).groupby('line').sum()\n",
        "result.head(10)"
      ],
      "execution_count": 31,
      "outputs": [
        {
          "output_type": "execute_result",
          "data": {
            "text/html": [
              "<div>\n",
              "<style scoped>\n",
              "    .dataframe tbody tr th:only-of-type {\n",
              "        vertical-align: middle;\n",
              "    }\n",
              "\n",
              "    .dataframe tbody tr th {\n",
              "        vertical-align: top;\n",
              "    }\n",
              "\n",
              "    .dataframe thead th {\n",
              "        text-align: right;\n",
              "    }\n",
              "</style>\n",
              "<table border=\"1\" class=\"dataframe\">\n",
              "  <thead>\n",
              "    <tr style=\"text-align: right;\">\n",
              "      <th></th>\n",
              "      <th>anger</th>\n",
              "      <th>anticipation</th>\n",
              "      <th>disgust</th>\n",
              "      <th>fear</th>\n",
              "      <th>joy</th>\n",
              "      <th>negative</th>\n",
              "      <th>positive</th>\n",
              "      <th>sadness</th>\n",
              "      <th>surprise</th>\n",
              "      <th>trust</th>\n",
              "    </tr>\n",
              "    <tr>\n",
              "      <th>line</th>\n",
              "      <th></th>\n",
              "      <th></th>\n",
              "      <th></th>\n",
              "      <th></th>\n",
              "      <th></th>\n",
              "      <th></th>\n",
              "      <th></th>\n",
              "      <th></th>\n",
              "      <th></th>\n",
              "      <th></th>\n",
              "    </tr>\n",
              "  </thead>\n",
              "  <tbody>\n",
              "    <tr>\n",
              "      <th>0</th>\n",
              "      <td>0.0</td>\n",
              "      <td>0.0</td>\n",
              "      <td>0.0</td>\n",
              "      <td>0.0</td>\n",
              "      <td>0.0</td>\n",
              "      <td>0.0</td>\n",
              "      <td>0.0</td>\n",
              "      <td>0.0</td>\n",
              "      <td>0.0</td>\n",
              "      <td>0.0</td>\n",
              "    </tr>\n",
              "    <tr>\n",
              "      <th>1</th>\n",
              "      <td>0.0</td>\n",
              "      <td>0.0</td>\n",
              "      <td>0.0</td>\n",
              "      <td>0.0</td>\n",
              "      <td>0.0</td>\n",
              "      <td>0.0</td>\n",
              "      <td>0.0</td>\n",
              "      <td>0.0</td>\n",
              "      <td>0.0</td>\n",
              "      <td>0.0</td>\n",
              "    </tr>\n",
              "    <tr>\n",
              "      <th>2</th>\n",
              "      <td>0.0</td>\n",
              "      <td>0.0</td>\n",
              "      <td>0.0</td>\n",
              "      <td>0.0</td>\n",
              "      <td>0.0</td>\n",
              "      <td>0.0</td>\n",
              "      <td>0.0</td>\n",
              "      <td>0.0</td>\n",
              "      <td>0.0</td>\n",
              "      <td>0.0</td>\n",
              "    </tr>\n",
              "    <tr>\n",
              "      <th>3</th>\n",
              "      <td>0.0</td>\n",
              "      <td>0.0</td>\n",
              "      <td>0.0</td>\n",
              "      <td>0.0</td>\n",
              "      <td>0.0</td>\n",
              "      <td>0.0</td>\n",
              "      <td>0.0</td>\n",
              "      <td>0.0</td>\n",
              "      <td>0.0</td>\n",
              "      <td>0.0</td>\n",
              "    </tr>\n",
              "    <tr>\n",
              "      <th>4</th>\n",
              "      <td>0.0</td>\n",
              "      <td>0.0</td>\n",
              "      <td>0.0</td>\n",
              "      <td>0.0</td>\n",
              "      <td>0.0</td>\n",
              "      <td>0.0</td>\n",
              "      <td>0.0</td>\n",
              "      <td>0.0</td>\n",
              "      <td>0.0</td>\n",
              "      <td>0.0</td>\n",
              "    </tr>\n",
              "    <tr>\n",
              "      <th>5</th>\n",
              "      <td>0.0</td>\n",
              "      <td>0.0</td>\n",
              "      <td>0.0</td>\n",
              "      <td>0.0</td>\n",
              "      <td>0.0</td>\n",
              "      <td>0.0</td>\n",
              "      <td>0.0</td>\n",
              "      <td>0.0</td>\n",
              "      <td>0.0</td>\n",
              "      <td>0.0</td>\n",
              "    </tr>\n",
              "    <tr>\n",
              "      <th>6</th>\n",
              "      <td>0.0</td>\n",
              "      <td>0.0</td>\n",
              "      <td>0.0</td>\n",
              "      <td>0.0</td>\n",
              "      <td>0.0</td>\n",
              "      <td>0.0</td>\n",
              "      <td>0.0</td>\n",
              "      <td>0.0</td>\n",
              "      <td>0.0</td>\n",
              "      <td>0.0</td>\n",
              "    </tr>\n",
              "    <tr>\n",
              "      <th>7</th>\n",
              "      <td>0.0</td>\n",
              "      <td>0.0</td>\n",
              "      <td>0.0</td>\n",
              "      <td>0.0</td>\n",
              "      <td>0.0</td>\n",
              "      <td>0.0</td>\n",
              "      <td>0.0</td>\n",
              "      <td>0.0</td>\n",
              "      <td>0.0</td>\n",
              "      <td>0.0</td>\n",
              "    </tr>\n",
              "    <tr>\n",
              "      <th>8</th>\n",
              "      <td>0.0</td>\n",
              "      <td>0.0</td>\n",
              "      <td>0.0</td>\n",
              "      <td>0.0</td>\n",
              "      <td>0.0</td>\n",
              "      <td>0.0</td>\n",
              "      <td>0.0</td>\n",
              "      <td>0.0</td>\n",
              "      <td>0.0</td>\n",
              "      <td>0.0</td>\n",
              "    </tr>\n",
              "    <tr>\n",
              "      <th>9</th>\n",
              "      <td>0.0</td>\n",
              "      <td>0.0</td>\n",
              "      <td>0.0</td>\n",
              "      <td>0.0</td>\n",
              "      <td>0.0</td>\n",
              "      <td>0.0</td>\n",
              "      <td>0.0</td>\n",
              "      <td>0.0</td>\n",
              "      <td>0.0</td>\n",
              "      <td>0.0</td>\n",
              "    </tr>\n",
              "  </tbody>\n",
              "</table>\n",
              "</div>"
            ],
            "text/plain": [
              "      anger  anticipation  disgust  fear  joy  negative  positive  sadness  \\\n",
              "line                                                                         \n",
              "0       0.0           0.0      0.0   0.0  0.0       0.0       0.0      0.0   \n",
              "1       0.0           0.0      0.0   0.0  0.0       0.0       0.0      0.0   \n",
              "2       0.0           0.0      0.0   0.0  0.0       0.0       0.0      0.0   \n",
              "3       0.0           0.0      0.0   0.0  0.0       0.0       0.0      0.0   \n",
              "4       0.0           0.0      0.0   0.0  0.0       0.0       0.0      0.0   \n",
              "5       0.0           0.0      0.0   0.0  0.0       0.0       0.0      0.0   \n",
              "6       0.0           0.0      0.0   0.0  0.0       0.0       0.0      0.0   \n",
              "7       0.0           0.0      0.0   0.0  0.0       0.0       0.0      0.0   \n",
              "8       0.0           0.0      0.0   0.0  0.0       0.0       0.0      0.0   \n",
              "9       0.0           0.0      0.0   0.0  0.0       0.0       0.0      0.0   \n",
              "\n",
              "      surprise  trust  \n",
              "line                   \n",
              "0          0.0    0.0  \n",
              "1          0.0    0.0  \n",
              "2          0.0    0.0  \n",
              "3          0.0    0.0  \n",
              "4          0.0    0.0  \n",
              "5          0.0    0.0  \n",
              "6          0.0    0.0  \n",
              "7          0.0    0.0  \n",
              "8          0.0    0.0  \n",
              "9          0.0    0.0  "
            ]
          },
          "metadata": {
            "tags": []
          },
          "execution_count": 31
        }
      ]
    },
    {
      "metadata": {
        "id": "Dsajl8jftW4J",
        "colab_type": "text"
      },
      "cell_type": "markdown",
      "source": [
        "**Question 5. (20 points)** Make a plot of emotions \"anger\", \"anticipation\", \"disgust\", \"fear\", \"joy\", \"sadness\", \"surprise\" and \"trust\" from the first 500 lines. Put each emotion into a different **subplot**. All the subplots should share one single x axis.\n",
        "\n",
        "![](https://github.com/wshuyi/github_pub_img/raw/master/assets/2019-02-26-10-43-10-202460.png)"
      ]
    },
    {
      "metadata": {
        "colab_type": "code",
        "id": "mrmtaBsYtqsC",
        "colab": {
          "base_uri": "https://localhost:8080/",
          "height": 768
        },
        "outputId": "8e7a2962-6455-4031-dcf6-615b7d2be9c4"
      },
      "cell_type": "code",
      "source": [
        "result500 = result.head(500)\n",
        "result500.plot(subplots=True, figsize=(20, 10))"
      ],
      "execution_count": 61,
      "outputs": [
        {
          "output_type": "execute_result",
          "data": {
            "text/plain": [
              "array([<matplotlib.axes._subplots.AxesSubplot object at 0x7f85bd2220f0>,\n",
              "       <matplotlib.axes._subplots.AxesSubplot object at 0x7f85bd1fa208>,\n",
              "       <matplotlib.axes._subplots.AxesSubplot object at 0x7f85bd19da58>,\n",
              "       <matplotlib.axes._subplots.AxesSubplot object at 0x7f85bd14b2e8>,\n",
              "       <matplotlib.axes._subplots.AxesSubplot object at 0x7f85bd16db38>,\n",
              "       <matplotlib.axes._subplots.AxesSubplot object at 0x7f85bd11e3c8>,\n",
              "       <matplotlib.axes._subplots.AxesSubplot object at 0x7f85bd143c18>,\n",
              "       <matplotlib.axes._subplots.AxesSubplot object at 0x7f85bd0f04e0>,\n",
              "       <matplotlib.axes._subplots.AxesSubplot object at 0x7f85bd0f0518>,\n",
              "       <matplotlib.axes._subplots.AxesSubplot object at 0x7f85bd047588>],\n",
              "      dtype=object)"
            ]
          },
          "metadata": {
            "tags": []
          },
          "execution_count": 61
        },
        {
          "output_type": "display_data",
          "data": {
            "image/png": "[encoded data removed]",
            "text/plain": [
              "<Figure size 1440x720 with 10 Axes>"
            ]
          },
          "metadata": {
            "tags": []
          }
        }
      ]
    },
    {
      "metadata": {
        "id": "LBch4kMUtNdR",
        "colab_type": "code",
        "colab": {}
      },
      "cell_type": "code",
      "source": [
        ""
      ],
      "execution_count": 0,
      "outputs": []
    }
  ]
}