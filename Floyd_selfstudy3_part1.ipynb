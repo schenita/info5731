{
  "nbformat": 4,
  "nbformat_minor": 0,
  "metadata": {
    "colab": {
      "name": "Floyd_selfstudy3.ipynb",
      "version": "0.3.2",
      "provenance": [],
      "collapsed_sections": []
    },
    "kernelspec": {
      "display_name": "Python 3",
      "language": "python",
      "name": "python3"
    }
  },
  "cells": [
    {
      "metadata": {
        "id": "_RBWlm0bfz4I",
        "colab_type": "code",
        "colab": {}
      },
      "cell_type": "code",
      "source": [
        "# Schenita Floyd Self Study 3\n",
        "# Read Grus:  Chapter 9, 23\n",
        "# Find all the codes from the textbooks, \n",
        "# and input them into a ipynb file, name it <LastName>_selfstudy3.ipynb"
      ],
      "execution_count": 0,
      "outputs": []
    },
    {
      "metadata": {
        "id": "PaCJ4q88fz4s",
        "colab_type": "code",
        "colab": {}
      },
      "cell_type": "code",
      "source": [
        "# Grus Chapter 9 Getting Data Code"
      ],
      "execution_count": 0,
      "outputs": []
    },
    {
      "metadata": {
        "id": "8FM68l37fz40",
        "colab_type": "code",
        "colab": {}
      },
      "cell_type": "code",
      "source": [
        "# egrep.py \n",
        "import sys , re "
      ],
      "execution_count": 0,
      "outputs": []
    },
    {
      "metadata": {
        "id": "Tbly9sAafz47",
        "colab_type": "code",
        "colab": {}
      },
      "cell_type": "code",
      "source": [
        "# sys.argv is the list of command-line arguments \n",
        "# sys.argv[0] is the name of the program itself \n",
        "# sys.argv[1] will be the regex specified at the command line \n",
        "regex = sys.argv[1]"
      ],
      "execution_count": 0,
      "outputs": []
    },
    {
      "metadata": {
        "id": "WYQWAa9nfz5N",
        "colab_type": "code",
        "colab": {}
      },
      "cell_type": "code",
      "source": [
        "# for every line passed into the script \n",
        "for line in sys.stdin: \n",
        "    # if it matches the regex, write it to stdout \n",
        "    if re.search(regex, line): \n",
        "        sys.stdout.write(line)"
      ],
      "execution_count": 0,
      "outputs": []
    },
    {
      "metadata": {
        "id": "ihy9JG4_fz5U",
        "colab_type": "code",
        "colab": {}
      },
      "cell_type": "code",
      "source": [
        "#line_count.py\n",
        "import sys"
      ],
      "execution_count": 0,
      "outputs": []
    },
    {
      "metadata": {
        "id": "Ev67xHBvfz5k",
        "colab_type": "code",
        "colab": {}
      },
      "cell_type": "code",
      "source": [
        "count = 0\n",
        "for line in sys.stdin:\n",
        "    count += 1"
      ],
      "execution_count": 0,
      "outputs": []
    },
    {
      "metadata": {
        "id": "MjBIVEn0fz8m",
        "colab_type": "code",
        "colab": {
          "base_uri": "https://localhost:8080/",
          "height": 34
        },
        "outputId": "4aa9dcdb-9f34-4fee-e25c-468c5e6c60a5"
      },
      "cell_type": "code",
      "source": [
        "#print goes to sys.stdout\n",
        "print (count)"
      ],
      "execution_count": 8,
      "outputs": [
        {
          "output_type": "stream",
          "text": [
            "0\n"
          ],
          "name": "stdout"
        }
      ]
    },
    {
      "metadata": {
        "id": "q9tmrQmGfz83",
        "colab_type": "code",
        "colab": {}
      },
      "cell_type": "code",
      "source": [
        "cat SomeFile.txt | python egrep.py \"[0-9]\" | python line_count.py"
      ],
      "execution_count": 0,
      "outputs": []
    },
    {
      "metadata": {
        "id": "-F5TXragfz9L",
        "colab_type": "code",
        "colab": {}
      },
      "cell_type": "code",
      "source": [
        "type SomeFile.txt | egrep.py \"[0-9]\" | line_count.py\n",
        "#This does not work because this is not a windows machine"
      ],
      "execution_count": 0,
      "outputs": []
    },
    {
      "metadata": {
        "id": "6XLWE9TRfz9S",
        "colab_type": "code",
        "colab": {}
      },
      "cell_type": "code",
      "source": [
        "# most_common_words.py \n",
        "import sys \n",
        "from collections import Counter"
      ],
      "execution_count": 0,
      "outputs": []
    },
    {
      "metadata": {
        "id": "VAc0hZMnfz9Y",
        "colab_type": "code",
        "colab": {}
      },
      "cell_type": "code",
      "source": [
        "# pass in number of words as first argument \n",
        "try: \n",
        "    num_words = int(sys.argv[1])\n",
        "except: \n",
        "    print (\"usage: most_common_words.py num_words\")\n",
        "    sys.exit(1) # non-zero exit code indicates error "
      ],
      "execution_count": 0,
      "outputs": []
    },
    {
      "metadata": {
        "id": "wVwo-8Zgfz9n",
        "colab_type": "code",
        "colab": {}
      },
      "cell_type": "code",
      "source": [
        "counter = Counter(word.lower() \n",
        "                  for line in sys.stdin \n",
        "                  for word in line.strip().split() \n",
        "                  if word) "
      ],
      "execution_count": 0,
      "outputs": []
    },
    {
      "metadata": {
        "id": "TYWKifshfz9v",
        "colab_type": "code",
        "colab": {}
      },
      "cell_type": "code",
      "source": [
        "for word, count in counter.most_common(num_words): \n",
        "    sys.stdout.write(str(count)) \n",
        "    sys.stdout.write(\" \\t \") \n",
        "    sys.stdout.write(word)\n",
        "    sys.stdout.write(\"\\n\")"
      ],
      "execution_count": 0,
      "outputs": []
    },
    {
      "metadata": {
        "id": "GZ3ler-Jfz9_",
        "colab_type": "code",
        "colab": {}
      },
      "cell_type": "code",
      "source": [
        "cat the_bible.txt | python most_common_words.py"
      ],
      "execution_count": 0,
      "outputs": []
    },
    {
      "metadata": {
        "id": "c_lXm6w2fz-G",
        "colab_type": "code",
        "colab": {}
      },
      "cell_type": "code",
      "source": [
        "# 'r' means read-only \n",
        "file_for_reading = open('reading_file.txt', 'r') \n",
        "\n",
        "# 'w' is write -- will destroy the file if it already exists! \n",
        "file_for_writing = open('writing_file.txt', 'w')\n",
        "    \n",
        "# 'a' is append -- for adding to the end of the file \n",
        "file_for_appending = open('appending_file.txt', 'a') \n",
        "\n",
        "# don't forget to close your files when you're done\n",
        "file_for_writing.close()"
      ],
      "execution_count": 0,
      "outputs": []
    },
    {
      "metadata": {
        "id": "DwxQYg6Jfz-X",
        "colab_type": "code",
        "colab": {}
      },
      "cell_type": "code",
      "source": [
        "with open('reading_file.txt','r') as f : \n",
        "    data = function_that_gets_data_from(f)\n",
        "# at this point f has already been closed, so don't try to use it \n",
        "process(data)"
      ],
      "execution_count": 0,
      "outputs": []
    },
    {
      "metadata": {
        "id": "uVvcjEkUfz-m",
        "colab_type": "code",
        "colab": {}
      },
      "cell_type": "code",
      "source": [
        "starts_with_hash = 0 \n",
        "\n",
        "with open('input.txt','r') as f: \n",
        "    for line in f: \n",
        "        if re.match(\"^#\",line): \n",
        "            starts_with_hash += 1 "
      ],
      "execution_count": 0,
      "outputs": []
    },
    {
      "metadata": {
        "id": "mFjoppErfz-x",
        "colab_type": "code",
        "colab": {}
      },
      "cell_type": "code",
      "source": [
        "def get_domain(email_address): \n",
        "    \"\"\"split on '@' and return the last piece\"\"\" \n",
        "    return email_address.lower().split(\"@\")[-1] \n",
        "with open('email_addresses.txt', 'r') as f: \n",
        "    domain_counts = Counter(get_domain(line.strip()) \n",
        "                            for line in f \n",
        "                            if \"@\" in line)"
      ],
      "execution_count": 0,
      "outputs": []
    },
    {
      "metadata": {
        "id": "cakDEqIIfz-3",
        "colab_type": "code",
        "colab": {}
      },
      "cell_type": "code",
      "source": [
        "import csv"
      ],
      "execution_count": 0,
      "outputs": []
    },
    {
      "metadata": {
        "id": "8BhvDzpgfz-_",
        "colab_type": "code",
        "colab": {}
      },
      "cell_type": "code",
      "source": [
        "def process(date, symbol, price):\n",
        "        print (date, symbol, price)\n",
        "with open('tab_delimited_stock_prices.txt', 'r') as f: \n",
        "    reader = csv.reader(f, delimiter = ('/'))\n",
        "    for row in reader: \n",
        "        date = row[0] \n",
        "        symbol = row[1] \n",
        "        closing_price = row[2] \n",
        "        process(date, symbol, closing_price)"
      ],
      "execution_count": 0,
      "outputs": []
    },
    {
      "metadata": {
        "id": "yroDjD3Ufz_D",
        "colab_type": "code",
        "colab": {}
      },
      "cell_type": "code",
      "source": [
        "with open('colon_delimited_stock_prices.txt', 'r') as f: \n",
        "    reader = csv.DictReader(f, delimiter = (':'))\n",
        "    for row in reader: \n",
        "        date = str(row[\"date\"]) \n",
        "        symbol = str(row[\"symbol\"]) \n",
        "        closing_price = float(row[\"closing_price\"]) \n",
        "        process(date, symbol, closing_price)"
      ],
      "execution_count": 0,
      "outputs": []
    },
    {
      "metadata": {
        "id": "dheZrPUlfz_K",
        "colab_type": "code",
        "colab": {}
      },
      "cell_type": "code",
      "source": [
        "today_prices = { 'AAPL' : 90.91, 'MSFT' : 41.68, 'FB' : 64.5 }"
      ],
      "execution_count": 0,
      "outputs": []
    },
    {
      "metadata": {
        "id": "ysQWLyp8fz_R",
        "colab_type": "code",
        "colab": {}
      },
      "cell_type": "code",
      "source": [
        "with open('comma_delimited_stock_prices.txt','wb') as f: \n",
        "        writer = csv.writer(f, delimiter=',') \n",
        "        for stock, price in today_prices.items(): \n",
        "            writer.writerow([stock, price])"
      ],
      "execution_count": 0,
      "outputs": []
    },
    {
      "metadata": {
        "id": "ZnHv9bH4fz_c",
        "colab_type": "code",
        "colab": {}
      },
      "cell_type": "code",
      "source": [
        "results = [[\"test1\", \"success\", \"Monday\"], \n",
        "           [\"test2\", \"success, kind of\", \"Tuesday\"], \n",
        "           [\"test3\", \"failure, kind of\", \"Wednesday\"], \n",
        "           [\"test4\", \"failure, utter\", \"Thursday\"]] "
      ],
      "execution_count": 0,
      "outputs": []
    },
    {
      "metadata": {
        "id": "GQ9I4BAogmag",
        "colab_type": "code",
        "colab": {}
      },
      "cell_type": "code",
      "source": [
        "# don't do this! \n",
        "with open('bad_csv.txt', 'w') as f: \n",
        "  for row in results: \n",
        "    f.write(\",\".join(map(str, row))) # might have too many commas in it! \n",
        "    f.write(\" \\n \") # row might have newlines as well"
      ],
      "execution_count": 0,
      "outputs": []
    },
    {
      "metadata": {
        "id": "WYasXPEBhWUA",
        "colab_type": "code",
        "colab": {
          "base_uri": "https://localhost:8080/",
          "height": 130
        },
        "outputId": "e9482b7a-c4ec-4719-8f60-baf60b616040"
      },
      "cell_type": "code",
      "source": [
        "pip install html5lib\n"
      ],
      "execution_count": 13,
      "outputs": [
        {
          "output_type": "error",
          "ename": "SyntaxError",
          "evalue": "ignored",
          "traceback": [
            "\u001b[0;36m  File \u001b[0;32m\"<ipython-input-13-e6809d533768>\"\u001b[0;36m, line \u001b[0;32m1\u001b[0m\n\u001b[0;31m    pip install html5lib\u001b[0m\n\u001b[0m              ^\u001b[0m\n\u001b[0;31mSyntaxError\u001b[0m\u001b[0;31m:\u001b[0m invalid syntax\n"
          ]
        }
      ]
    },
    {
      "metadata": {
        "id": "DR1mkHaahl6D",
        "colab_type": "code",
        "colab": {}
      },
      "cell_type": "code",
      "source": [
        "from bs4 import BeautifulSoup \n",
        "import requests \n",
        "html = requests.get(\"http://www.example.com\").text \n",
        "soup = BeautifulSoup(html, 'html5lib')"
      ],
      "execution_count": 0,
      "outputs": []
    },
    {
      "metadata": {
        "id": "h_eYoW10iecH",
        "colab_type": "code",
        "colab": {}
      },
      "cell_type": "code",
      "source": [
        "first_paragraph = soup.find('p')"
      ],
      "execution_count": 0,
      "outputs": []
    },
    {
      "metadata": {
        "id": "ObC3aiYRjE2o",
        "colab_type": "code",
        "colab": {}
      },
      "cell_type": "code",
      "source": [
        "first_paragraph_text = soup.p.text\n",
        "first_paragraph_words = soup.p.text.split()"
      ],
      "execution_count": 0,
      "outputs": []
    },
    {
      "metadata": {
        "id": "NF4GfAizjXdP",
        "colab_type": "code",
        "colab": {}
      },
      "cell_type": "code",
      "source": [
        "first_paragraph_id = soup.p['id'] \n",
        "first_paragraph_id2 = soup.p.get('id')"
      ],
      "execution_count": 0,
      "outputs": []
    },
    {
      "metadata": {
        "id": "FDU5kfPGjfc0",
        "colab_type": "code",
        "colab": {}
      },
      "cell_type": "code",
      "source": [
        "all_paragraphs = soup.find_all('p')"
      ],
      "execution_count": 0,
      "outputs": []
    },
    {
      "metadata": {
        "id": "4gYJeuDwkgE8",
        "colab_type": "code",
        "colab": {}
      },
      "cell_type": "code",
      "source": [
        "paragraphs_with_ids = [p for p in soup('p')\n",
        "                      if 'important' in p.get('class', [])]"
      ],
      "execution_count": 0,
      "outputs": []
    },
    {
      "metadata": {
        "id": "C4lQPAlGkw7Y",
        "colab_type": "code",
        "colab": {}
      },
      "cell_type": "code",
      "source": [
        "spans_inside_divs = [span\n",
        "                    for div in soup('div')\n",
        "                    for span in div('span')]"
      ],
      "execution_count": 0,
      "outputs": []
    },
    {
      "metadata": {
        "id": "jhTRrzjlk_Gv",
        "colab_type": "code",
        "colab": {}
      },
      "cell_type": "code",
      "source": [
        "# you don't have to split the url like this unless it needs to fit in a book \n",
        "url = \"http://shop.oreilly.com/category/browse-subjects/\"\"data.do?sortby=publicationDate&page=1\" \n",
        "soup = BeautifulSoup(requests.get(url).text, 'html5lib')"
      ],
      "execution_count": 0,
      "outputs": []
    },
    {
      "metadata": {
        "id": "W_E8DPovlr8u",
        "colab_type": "code",
        "colab": {
          "base_uri": "https://localhost:8080/",
          "height": 34
        },
        "outputId": "86af28ed-ff9d-46a1-c9a7-37983c58daba"
      },
      "cell_type": "code",
      "source": [
        "\n",
        "tds = soup('td', 'thumbtext')\n",
        "len(tds)"
      ],
      "execution_count": 31,
      "outputs": [
        {
          "output_type": "execute_result",
          "data": {
            "text/plain": [
              "0"
            ]
          },
          "metadata": {
            "tags": []
          },
          "execution_count": 31
        }
      ]
    },
    {
      "metadata": {
        "id": "c-leFzMCmdMv",
        "colab_type": "code",
        "colab": {
          "base_uri": "https://localhost:8080/",
          "height": 34
        },
        "outputId": "6e2ca179-196e-406a-ba61-42022cf3f8b6"
      },
      "cell_type": "code",
      "source": [
        "def is_video(td):\n",
        "  pricelabels = td('span','pricelabel')\n",
        "  return len(pricelabels) == 1 and pricelabels[0].text.strip().startswith(\"Video\")\n",
        "len([td for td in tds if not is_video(td)])"
      ],
      "execution_count": 55,
      "outputs": [
        {
          "output_type": "execute_result",
          "data": {
            "text/plain": [
              "0"
            ]
          },
          "metadata": {
            "tags": []
          },
          "execution_count": 55
        }
      ]
    },
    {
      "metadata": {
        "id": "H9XCHgZ-ngc3",
        "colab_type": "code",
        "colab": {}
      },
      "cell_type": "code",
      "source": [
        "title = td.find(\"div\", \"thumbheader\").a.text"
      ],
      "execution_count": 0,
      "outputs": []
    },
    {
      "metadata": {
        "id": "oetn_IevoaVo",
        "colab_type": "code",
        "colab": {}
      },
      "cell_type": "code",
      "source": [
        "author_name = td.find('div', 'AuthorName').text \n",
        "authors = [x.strip() for x in re.sub(\"^By \", \"\", author_name).split(\",\")]"
      ],
      "execution_count": 0,
      "outputs": []
    },
    {
      "metadata": {
        "id": "r88B1vZxoze3",
        "colab_type": "code",
        "colab": {}
      },
      "cell_type": "code",
      "source": [
        "isbn_link = td.find(\"div\", \"thumbheader\").a.get(\"href\")"
      ],
      "execution_count": 0,
      "outputs": []
    },
    {
      "metadata": {
        "id": "zjOXC6PXpdt7",
        "colab_type": "code",
        "colab": {}
      },
      "cell_type": "code",
      "source": [
        "isbn = re.match(\"/product/(.*)\\.do\", isbn_link).group(1) "
      ],
      "execution_count": 0,
      "outputs": []
    },
    {
      "metadata": {
        "id": "9Erjeopopl5r",
        "colab_type": "code",
        "colab": {}
      },
      "cell_type": "code",
      "source": [
        "date = td.find(\"span\", \"directorydate\").text.strip() "
      ],
      "execution_count": 0,
      "outputs": []
    },
    {
      "metadata": {
        "id": "VsgomBZjpu4a",
        "colab_type": "code",
        "colab": {}
      },
      "cell_type": "code",
      "source": [
        "def book_info(td): \n",
        "  title = td.find(\"div\", \"thumbheader\").a.text \n",
        "  by_author = td.find('div', 'AuthorName').text \n",
        "  authors = [x.strip() for x in re.sub(\"^By \", \"\", by_author).split(\",\")] \n",
        "  isbn_link = td.find(\"div\", \"thumbheader\").a.get(\"href\") \n",
        "  isbn = re.match(\"/product/(.*)\\.do\", isbn_link).groups()[0] \n",
        "  date = td.find(\"span\", \"directorydate\").text.strip() \n",
        "    \n",
        "  return { \"title\" : title, \"authors\" : authors, \"isbn\" : isbn, \"date\" : date}"
      ],
      "execution_count": 0,
      "outputs": []
    },
    {
      "metadata": {
        "id": "mWIFibwJqWth",
        "colab_type": "code",
        "colab": {}
      },
      "cell_type": "code",
      "source": [
        "from bs4 import BeautfulSoup\n",
        "import requests\n",
        "from time import sleep \n",
        "base_url = \"http://shop.oreilly.com/category/browse-subjects/\"\"data.do?sortby=publicationDate&page=\" \n",
        "books = [] \n",
        "NUM_PAGES = 31\n",
        "for page_num in range(1, NUM_PAGES + 1): \n",
        "  print \"souping page\", page_num, \",\", len(books), \" found so far\" \n",
        "  url = base_url + str(page_num) \n",
        "  soup = BeautifulSoup(requests.get(url).text, 'html5lib') \n",
        "  for td in soup('td', 'thumbtext'): \n",
        "    if not is_video(td): \n",
        "      books.append(book_info(td)) \n",
        "    sleep(30)"
      ],
      "execution_count": 0,
      "outputs": []
    },
    {
      "metadata": {
        "id": "ZNDk_etXrHm1",
        "colab_type": "code",
        "colab": {}
      },
      "cell_type": "code",
      "source": [
        "def get_year(book): \n",
        "  return int(book[\"date\"].split()[1]) \n",
        "# 2014 is the last complete year of data (when I ran this) \n",
        "year_counts = Counter(get_year(book) for book in books \n",
        "                      if get_year(book) <= 2014) \n",
        "import matplotlib.pyplot as plt \n",
        "years = sorted(year_counts) \n",
        "book_counts = [year_counts[year] for year in years] \n",
        "plt.plot(years, book_counts) \n",
        "plt.ylabel(\"# of data books\") \n",
        "plt.title(\"Data is Big!\") \n",
        "plt.show()\n"
      ],
      "execution_count": 0,
      "outputs": []
    },
    {
      "metadata": {
        "id": "aiOlgSgRrrhQ",
        "colab_type": "code",
        "colab": {
          "base_uri": "https://localhost:8080/",
          "height": 54
        },
        "outputId": "5472085f-79b6-4263-fbcd-97d152a10221"
      },
      "cell_type": "code",
      "source": [
        "import json \n",
        "serialized = \"\"\"{ \"title\" : \"Data Science Book\", \"author\" : \"Joel Grus\", \"publicationYear\" : 2014, \"topics\" : [ \"data\", \"science\", \"data science\"] }\"\"\" \n",
        "# parse the JSON to create a Python dict \n",
        "deserialized = json.loads(serialized) \n",
        "if \"data science\" in deserialized[\"topics\"]: \n",
        "  print (deserialized)"
      ],
      "execution_count": 71,
      "outputs": [
        {
          "output_type": "stream",
          "text": [
            "{'title': 'Data Science Book', 'author': 'Joel Grus', 'publicationYear': 2014, 'topics': ['data', 'science', 'data science']}\n"
          ],
          "name": "stdout"
        }
      ]
    },
    {
      "metadata": {
        "id": "hVNG3ovTsPW5",
        "colab_type": "code",
        "colab": {}
      },
      "cell_type": "code",
      "source": [
        "import requests , json \n",
        "endpoint = \"https://api.github.com/users/joelgrus/repos\" \n",
        "repos = json.loads(requests.get(endpoint).text)"
      ],
      "execution_count": 0,
      "outputs": []
    },
    {
      "metadata": {
        "id": "18cIGMgVsjmD",
        "colab_type": "code",
        "colab": {}
      },
      "cell_type": "code",
      "source": [
        "pip install python-dateutil"
      ],
      "execution_count": 0,
      "outputs": []
    },
    {
      "metadata": {
        "id": "Nprjg6wcswMJ",
        "colab_type": "code",
        "colab": {}
      },
      "cell_type": "code",
      "source": [
        "from dateutil.parser import parse  \n",
        "dates = [parse(repo[\"created_at\"]) for repo in repos] \n",
        "month_counts = Counter(date.month for date in dates) \n",
        "weekday_counts = Counter(date.weekday() for date in dates)"
      ],
      "execution_count": 0,
      "outputs": []
    },
    {
      "metadata": {
        "id": "ge5PUlw_tQOm",
        "colab_type": "code",
        "colab": {}
      },
      "cell_type": "code",
      "source": [
        "last_5_repositories = sorted(repos, key= lambda r: r[\"created_at\"], reverse=True)[:5] \n",
        "last_5_languages = [repo[\"language\"] for repo in last_5_repositories]"
      ],
      "execution_count": 0,
      "outputs": []
    },
    {
      "metadata": {
        "id": "1Z1w16kYtjqk",
        "colab_type": "code",
        "colab": {}
      },
      "cell_type": "code",
      "source": [
        "from twython import Twython \n",
        "twitter = Twython(CONSUMER_KEY, CONSUMER_SECRET) \n",
        "# search for tweets containing the phrase \"data science\" \n",
        "for status in twitter.search(q='\"data science\"')[\"statuses\"]: \n",
        "  user = status[\"user\"][\"screen_name\"].encode('utf-8') \n",
        "  text = status[\"text\"].encode('utf-8') \n",
        "  print (user, \":\", text)\n",
        "  print()\n",
        " "
      ],
      "execution_count": 0,
      "outputs": []
    },
    {
      "metadata": {
        "id": "KeLKljknwPk_",
        "colab_type": "code",
        "colab": {}
      },
      "cell_type": "code",
      "source": [
        "from twython import TwythonStreamer \n",
        "# appending data to a global variable is pretty poor form \n",
        "# but it makes the example much simpler \n",
        "tweets = [] \n",
        "class MyStreamer (TwythonStreamer): \n",
        "  \"\"\"our own subclass of TwythonStreamer that specifies how to interact with the stream\"\"\" \n",
        "  def on_success(self, data): \n",
        "    \"\"\"what do we do when twitter sends us data? here data will be a Python dict representing a tweet\"\"\" \n",
        "    # only want to collect English-language tweets \n",
        "    if data['lang'] == 'en': \n",
        "      tweets.append(data) \n",
        "      print \"received tweet #\", len(tweets) \n",
        "      # stop when we've collected enough \n",
        "      if len(tweets) >= 1000: \n",
        "        self.disconnect() \n",
        "        def on_error(self, status_code, data): \n",
        "          print status_code, \n",
        "          data self.disconnect()"
      ],
      "execution_count": 0,
      "outputs": []
    },
    {
      "metadata": {
        "id": "d8BGDxsExXSy",
        "colab_type": "code",
        "colab": {}
      },
      "cell_type": "code",
      "source": [
        "stream = MyStreamer(CONSUMER_KEY, CONSUMER_SECRET, ACCESS_TOKEN, ACCESS_TOKEN_SECRET) \n",
        "# starts consuming public statuses that contain the keyword 'data' \n",
        "stream.statuses.filter(track='data')"
      ],
      "execution_count": 0,
      "outputs": []
    },
    {
      "metadata": {
        "id": "dEKQTjyhxiZQ",
        "colab_type": "code",
        "colab": {}
      },
      "cell_type": "code",
      "source": [
        "top_hashtags = Counter(hashtag['text'].lower() \n",
        "                       for tweet in tweets f\n",
        "                       or hashtag in tweet[\"entities\"][\"hashtags\"]) \n",
        "print top_hashtags.most_common(5)"
      ],
      "execution_count": 0,
      "outputs": []
    },
    {
      "metadata": {
        "id": "vN-WgK4sxtTv",
        "colab_type": "code",
        "colab": {}
      },
      "cell_type": "code",
      "source": [
        "# Grus Chapter 23 Database and SQL"
      ],
      "execution_count": 0,
      "outputs": []
    },
    {
      "metadata": {
        "id": "_ZfgEbIUk2n-",
        "colab_type": "code",
        "colab": {}
      },
      "cell_type": "code",
      "source": [
        "users = [[0, \"Hero\", 0], \n",
        "         [1, \"Dunn\", 2], \n",
        "         [2, \"Sue\", 3], \n",
        "         [3, \"Chi\", 3]] "
      ],
      "execution_count": 0,
      "outputs": []
    },
    {
      "metadata": {
        "id": "qO3fbik8Bj4A",
        "colab_type": "code",
        "colab": {}
      },
      "cell_type": "code",
      "source": [
        "class Table: \n",
        "  def __init__(self, columns): \n",
        "    self.columns = columns \n",
        "    self.rows = [] \n",
        "    \n",
        "    def __repr__(self): \n",
        "      \"\"\"pretty representation of the table: columns then rows\"\"\"\n",
        "      return str(self.columns) + \" \\n \" + \" \\n \".join(map(str, self.rows)) \n",
        "    \n",
        "    def insert(self, row_values): \n",
        "      if len(row_values) != len(self.columns): \n",
        "        raise TypeError (\"wrong number of elements\") \n",
        "        row_dict = dict(zip(self.columns, row_values)) \n",
        "        self.rows.append(row_dict)"
      ],
      "execution_count": 0,
      "outputs": []
    },
    {
      "metadata": {
        "id": "q5mHhPA-CYGV",
        "colab_type": "code",
        "colab": {}
      },
      "cell_type": "code",
      "source": [
        "users = Table([\"user_id\" , \"name\", \"num_friends\"]) \n",
        "users.insert([0, \"Hero\", 0]) \n",
        "users.insert([1, \"Dunn\", 2]) \n",
        "users.insert([2, \"Sue\", 3]) \n",
        "users.insert([3, \"Chi\", 3]) \n",
        "users.insert([4, \"Thor\", 3]) \n",
        "users.insert([5, \"Clive\", 2]) \n",
        "users.insert([6, \"Hicks\", 3]) \n",
        "users.insert([7, \"Devin\", 2]) \n",
        "users.insert([8, \"Kate\", 2]) \n",
        "users.insert([9, \"Klein\", 3]) \n",
        "users.insert([10, \"Jen\", 1])"
      ],
      "execution_count": 0,
      "outputs": []
    },
    {
      "metadata": {
        "id": "ZxYCuQC2CvmK",
        "colab_type": "code",
        "colab": {
          "base_uri": "https://localhost:8080/",
          "height": 34
        },
        "outputId": "78ee43d7-15e0-4904-8d30-bdad2183774a"
      },
      "cell_type": "code",
      "source": [
        "print (users)"
      ],
      "execution_count": 7,
      "outputs": [
        {
          "output_type": "stream",
          "text": [
            "<__main__.Table object at 0x7f8e63014cf8>\n"
          ],
          "name": "stdout"
        }
      ]
    },
    {
      "metadata": {
        "id": "67-WHZ56DWfr",
        "colab_type": "code",
        "colab": {}
      },
      "cell_type": "code",
      "source": [
        "def update(self, updates, predicate): \n",
        "  for row in self.rows: \n",
        "    if predicate(row): \n",
        "      for column, new_value in updates.iteritems(): \n",
        "        row[column] = new_value"
      ],
      "execution_count": 0,
      "outputs": []
    },
    {
      "metadata": {
        "id": "4aWOcnekFP55",
        "colab_type": "code",
        "colab": {}
      },
      "cell_type": "code",
      "source": [
        "users.update({'num_friends' : 3},\n",
        "            lambda row: row['user_id'] == 1)"
      ],
      "execution_count": 0,
      "outputs": []
    },
    {
      "metadata": {
        "id": "GuCK4z9kFhof",
        "colab_type": "code",
        "colab": {}
      },
      "cell_type": "code",
      "source": [
        "def delete(self, predicate=lambda row: True):\n",
        "  self.rows = [row for row in self.rows if not (predicate(row))]\n",
        "    "
      ],
      "execution_count": 0,
      "outputs": []
    },
    {
      "metadata": {
        "id": "B0hPXH2QGOBn",
        "colab_type": "code",
        "colab": {}
      },
      "cell_type": "code",
      "source": [
        "users.delete(lambda row: row[\"user_id\"] == 1)"
      ],
      "execution_count": 0,
      "outputs": []
    },
    {
      "metadata": {
        "id": "MSur3qWPGYY1",
        "colab_type": "code",
        "colab": {}
      },
      "cell_type": "code",
      "source": [
        "users.delete()"
      ],
      "execution_count": 0,
      "outputs": []
    },
    {
      "metadata": {
        "id": "HCtlBByAGhsN",
        "colab_type": "code",
        "colab": {}
      },
      "cell_type": "code",
      "source": [
        "def select(self, keep_columns=None, additional_columns=None): \n",
        "  if keep_columns is None: \n",
        "    keep_columns = self.columns \n",
        "    if additional_columns is None: \n",
        "      additional_columns = {}\n",
        "      result_table = Table(keep_columns + additional_columns.keys()) \n",
        "      for row in self.rows: \n",
        "        new_row = [row[column] for column in keep_columns] \n",
        "        for column_name, calculation in additional_columns.iteritems(): \n",
        "          new_row.append(calculation(row)) \n",
        "          result_table.insert(new_row) \n",
        "          \n",
        "          return result_table"
      ],
      "execution_count": 0,
      "outputs": []
    },
    {
      "metadata": {
        "id": "9ScBCJaXIkCK",
        "colab_type": "code",
        "colab": {}
      },
      "cell_type": "code",
      "source": [
        "def where(self, predicate= lambda row: True): \n",
        "  where_table = Table(self.columns) \n",
        "  where_table.rows = filter(predicate, self.rows) \n",
        "  return where_table \n",
        "\n",
        "def limit(self, num_rows): \n",
        "  \"\"\"return only the first num_rows rows\"\"\" \n",
        "  limit_table = Table(self.columns) \n",
        "  limit_table.rows = self.rows[:num_rows] \n",
        "  return limit_table"
      ],
      "execution_count": 0,
      "outputs": []
    },
    {
      "metadata": {
        "id": "PL815GJcJAd5",
        "colab_type": "code",
        "colab": {}
      },
      "cell_type": "code",
      "source": [
        "users.select()"
      ],
      "execution_count": 0,
      "outputs": []
    },
    {
      "metadata": {
        "id": "7mk_QBWCJMjJ",
        "colab_type": "code",
        "colab": {}
      },
      "cell_type": "code",
      "source": [
        "users.limit(2)"
      ],
      "execution_count": 0,
      "outputs": []
    },
    {
      "metadata": {
        "id": "PBcnwoiTJT84",
        "colab_type": "code",
        "colab": {}
      },
      "cell_type": "code",
      "source": [
        "users.select(keep_columns=[\"user_id\"])"
      ],
      "execution_count": 0,
      "outputs": []
    },
    {
      "metadata": {
        "id": "ndNic8IjJiBZ",
        "colab_type": "code",
        "colab": {}
      },
      "cell_type": "code",
      "source": [
        "# SELECT user_id FROM users WHERE name = 'Dunn'; \n",
        "users.where( lambda row: row[\"name\"] == \"Dunn\")\\\n",
        "  .select(keep_columns=[\"user_id\"]) \n",
        "\n",
        "# SELECT LENGTH(name) AS name_length FROM users; \n",
        "def name_length(row): return len(row[\"name\"]) \n",
        "\n",
        "users.select(keep_columns=[], \n",
        "             additional_columns = { \"name_length\" : name_length })"
      ],
      "execution_count": 0,
      "outputs": []
    },
    {
      "metadata": {
        "id": "mpzU-2NjJ0vH",
        "colab_type": "code",
        "colab": {}
      },
      "cell_type": "code",
      "source": [
        "def group_by(self, group_by_columns, aggregates, having=None): \n",
        "  \n",
        "  grouped_rows = defaultdict(list) \n",
        "  for row in self.rows: \n",
        "    key = tuple(row[column] for column in group_by_columns) \n",
        "    grouped_rows[key].append(row) \n",
        "    \n",
        "    # result table consists of group_by columns and aggregates \n",
        "    result_table = Table(group_by_columns + aggregates.keys()) \n",
        "    \n",
        "    for key, rows in grouped_rows.iteritems(): \n",
        "      if having is None or having(rows): \n",
        "        new_row = list(key) \n",
        "        for aggregate_name, aggregate_fn in aggregates.iteritems(): \n",
        "          new_row.append(aggregate_fn(rows)) \n",
        "        result_table.insert(new_row) \n",
        "        \n",
        "      return result_table"
      ],
      "execution_count": 0,
      "outputs": []
    },
    {
      "metadata": {
        "id": "FBP7Ef7pK_Kh",
        "colab_type": "code",
        "colab": {}
      },
      "cell_type": "code",
      "source": [
        "def min_user_id(rows): return min(row[\"user_id\"] for row in rows)"
      ],
      "execution_count": 0,
      "outputs": []
    },
    {
      "metadata": {
        "id": "C3Zvv1G-LE_5",
        "colab_type": "code",
        "colab": {}
      },
      "cell_type": "code",
      "source": [
        "stats_by_length = users\n",
        "select(additional_columns={\"name_length\" : name_length}) \n",
        "group_by(group_by_columns=[\"name_length\"], \n",
        "            aggregates={ \"min_user_id\" : min_user_id, \"num_users\" : len })"
      ],
      "execution_count": 0,
      "outputs": []
    },
    {
      "metadata": {
        "id": "D96ZzF9jNOur",
        "colab_type": "code",
        "colab": {}
      },
      "cell_type": "code",
      "source": [
        "def first_letter_of_name(row): \n",
        "  return row[\"name\"][0] if row[\"name\"] else \"\" \n",
        "\n",
        "def average_num_friends(rows): \n",
        "  return sum(row[\"num_friends\"] for row in rows) / len(rows) \n",
        "\n",
        "def enough_friends(rows): \n",
        "  return average_num_friends(rows) > 1 \n",
        "\n",
        "avg_friends_by_letter = users\n",
        "select(additional_columns={'first_letter' : first_letter_of_name}) \n",
        "group_by(group_by_columns=['first_letter'], \n",
        "            aggregates={ \"avg_num_friends\" : average_num_friends }, \n",
        "            having=enough_friends)"
      ],
      "execution_count": 0,
      "outputs": []
    },
    {
      "metadata": {
        "id": "t31lBhUOOD60",
        "colab_type": "code",
        "colab": {}
      },
      "cell_type": "code",
      "source": [
        "def sum_user_ids(rows): return sum(row[\"user_id\"] for row in rows) \n",
        "\n",
        "user_id_sum = users \n",
        "where( lambda row: row[\"user_id\"] > 1) \n",
        "group_by(group_by_columns=[], \n",
        "        aggregates={ \"user_id_sum\" : sum_user_ids })"
      ],
      "execution_count": 0,
      "outputs": []
    },
    {
      "metadata": {
        "id": "cByiQebLPZ8Q",
        "colab_type": "code",
        "colab": {}
      },
      "cell_type": "code",
      "source": [
        "def order_by(self, order): \n",
        "  new_table = self.select() \n",
        "  new_table.rows.sort(key=order) \n",
        "  return new_table"
      ],
      "execution_count": 0,
      "outputs": []
    },
    {
      "metadata": {
        "id": "5fSTTNywPnb1",
        "colab_type": "code",
        "colab": {}
      },
      "cell_type": "code",
      "source": [
        "friendliest_letters = avg_friends_by_letter \n",
        "order_by(lambda row: -row[\"avg_num_friends\"]) \n",
        "limit(4)"
      ],
      "execution_count": 0,
      "outputs": []
    },
    {
      "metadata": {
        "id": "83W0_8o6P1XN",
        "colab_type": "code",
        "colab": {}
      },
      "cell_type": "code",
      "source": [
        "user_interests = Table([\"user_id\", \"interest\"]) \n",
        "user_interests.insert([0, \"SQL\"]) \n",
        "user_interests.insert([0, \"NoSQL\"]) \n",
        "user_interests.insert([2, \"SQL\"]) \n",
        "user_interests.insert([2, \"MySQL\"])"
      ],
      "execution_count": 0,
      "outputs": []
    },
    {
      "metadata": {
        "id": "z6kDuFkZQRul",
        "colab_type": "code",
        "colab": {}
      },
      "cell_type": "code",
      "source": [
        "def join(self, other_table, left_join=False): \n",
        "  join_on_columns = [c for c in self.columns \n",
        "                     if c in other_table.columns]\n",
        "  additional_columns = [c for c in other_table.columns\n",
        "                        if c not in join_on_columns]   \n",
        "  join_table = Table(self.columns + additional_columns) \n",
        "  \n",
        "  for row in self.rows: \n",
        "    def is_join(other_row): \n",
        "      return all(other_row[c] == row[c] for c in join_on_columns) \n",
        "    other_rows = other_table.where(is_join).rows  \n",
        "    for other_row in other_rows: \n",
        "      join_table.insert([row[c] for c in self.columns] + [other_row[c] for c in additional_columns]) \n",
        "  \n",
        "  if left_join and not other_rows: \n",
        "    join_table.insert([row[c] for c in self.columns] +\n",
        "    return join_table"
      ],
      "execution_count": 0,
      "outputs": []
    },
    {
      "metadata": {
        "id": "RdS4Y-dbR7pv",
        "colab_type": "code",
        "colab": {}
      },
      "cell_type": "code",
      "source": [
        "sql_users = users\n",
        "join(user_interests)\n",
        "where( lambda row: row[\"interest\"] == \"SQL\")\n",
        "select(keep_columns=[\"name\"])\n",
        "  \n",
        "def count_interests(rows):\n",
        "  return len([row for row in rows if row[\"interest\"] is not None]) \n",
        "  \n",
        "user_interest_counts = users\n",
        "join(user_interests, left_join=True)\n",
        "group_by(group_by_columns=[\"user_id\"], \n",
        "         aggregates={\"num_interests\" : count_interests })"
      ],
      "execution_count": 0,
      "outputs": []
    },
    {
      "metadata": {
        "id": "ZMS4zUAZShH9",
        "colab_type": "code",
        "colab": {}
      },
      "cell_type": "code",
      "source": [
        "likes_sql_user_ids = user_interests\n",
        "where( lambda row: row[\"interest\"] == \"SQL\")\n",
        "select(keep_columns=['user_id']) \n",
        "\n",
        "likes_sql_user_ids.group_by(group_by_columns=[], \n",
        "                            aggregates={ \"min_user_id\" : min_user_id })"
      ],
      "execution_count": 0,
      "outputs": []
    },
    {
      "metadata": {
        "id": "8FUWntK8TOI6",
        "colab_type": "code",
        "colab": {}
      },
      "cell_type": "code",
      "source": [
        "user_interests where(lambda row: row[\"interest\"] == \"SQL\") join(users) select([\"name\"])"
      ],
      "execution_count": 0,
      "outputs": []
    },
    {
      "metadata": {
        "id": "GliBJri4T52g",
        "colab_type": "code",
        "colab": {}
      },
      "cell_type": "code",
      "source": [
        "user_interests \n",
        "join(users) \n",
        "where(lambda row: row[\"interest\"] == \"SQL\") \n",
        "select([\"name\"])"
      ],
      "execution_count": 0,
      "outputs": []
    },
    {
      "metadata": {
        "id": "x8lb32UGUIcH",
        "colab_type": "code",
        "colab": {}
      },
      "cell_type": "code",
      "source": [
        ""
      ],
      "execution_count": 0,
      "outputs": []
    }
  ]
}