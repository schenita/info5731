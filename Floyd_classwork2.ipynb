{
  "nbformat": 4,
  "nbformat_minor": 0,
  "metadata": {
    "colab": {
      "name": "Floyd_classwork2.ipynb",
      "version": "0.3.2",
      "provenance": [],
      "collapsed_sections": []
    },
    "kernelspec": {
      "name": "python3",
      "display_name": "Python 3"
    }
  },
  "cells": [
    {
      "metadata": {
        "id": "00TbCTENXkDt",
        "colab_type": "text"
      },
      "cell_type": "markdown",
      "source": [
        "# Class work 2"
      ]
    },
    {
      "metadata": {
        "id": "pLDeyVA_XopP",
        "colab_type": "text"
      },
      "cell_type": "markdown",
      "source": [
        "In this class work, you will try to do **Exploratory Data Analysis** with Pandas."
      ]
    },
    {
      "metadata": {
        "id": "yU7U4BV5_zyk",
        "colab_type": "text"
      },
      "cell_type": "markdown",
      "source": [
        "## Data Preperation"
      ]
    },
    {
      "metadata": {
        "id": "iYVG-cN9YanN",
        "colab_type": "text"
      },
      "cell_type": "markdown",
      "source": [
        "Please run the following lines of codes, to get source data."
      ]
    },
    {
      "metadata": {
        "id": "kXj21moT-xkR",
        "colab_type": "code",
        "colab": {
          "base_uri": "https://localhost:8080/",
          "height": 309
        },
        "outputId": "52e4791a-62dd-4936-9fc4-5952cd0e5f07"
      },
      "cell_type": "code",
      "source": [
        "!wget https://github.com/wshuyi/info-5731-public/raw/master/winemag-data-130k-v2.csv.zip"
      ],
      "execution_count": 1,
      "outputs": [
        {
          "output_type": "stream",
          "text": [
            "--2019-02-19 20:51:56--  https://github.com/wshuyi/info-5731-public/raw/master/winemag-data-130k-v2.csv.zip\n",
            "Resolving github.com (github.com)... 192.30.253.112, 192.30.253.113\n",
            "Connecting to github.com (github.com)|192.30.253.112|:443... connected.\n",
            "HTTP request sent, awaiting response... 302 Found\n",
            "Location: https://raw.githubusercontent.com/wshuyi/info-5731-public/master/winemag-data-130k-v2.csv.zip [following]\n",
            "--2019-02-19 20:51:56--  https://raw.githubusercontent.com/wshuyi/info-5731-public/master/winemag-data-130k-v2.csv.zip\n",
            "Resolving raw.githubusercontent.com (raw.githubusercontent.com)... 151.101.0.133, 151.101.64.133, 151.101.128.133, ...\n",
            "Connecting to raw.githubusercontent.com (raw.githubusercontent.com)|151.101.0.133|:443... connected.\n",
            "HTTP request sent, awaiting response... 200 OK\n",
            "Length: 17180932 (16M) [application/zip]\n",
            "Saving to: ‘winemag-data-130k-v2.csv.zip’\n",
            "\n",
            "winemag-data-130k-v 100%[===================>]  16.38M  --.-KB/s    in 0.1s    \n",
            "\n",
            "2019-02-19 20:51:56 (157 MB/s) - ‘winemag-data-130k-v2.csv.zip’ saved [17180932/17180932]\n",
            "\n"
          ],
          "name": "stdout"
        }
      ]
    },
    {
      "metadata": {
        "id": "6-kHQW5Q-0hL",
        "colab_type": "code",
        "colab": {
          "base_uri": "https://localhost:8080/",
          "height": 51
        },
        "outputId": "59bb1411-973a-42f0-dc1e-5be9cd04308f"
      },
      "cell_type": "code",
      "source": [
        "!unzip winemag-data-130k-v2.csv.zip"
      ],
      "execution_count": 2,
      "outputs": [
        {
          "output_type": "stream",
          "text": [
            "Archive:  winemag-data-130k-v2.csv.zip\n",
            "  inflating: winemag-data-130k-v2.csv  \n"
          ],
          "name": "stdout"
        }
      ]
    },
    {
      "metadata": {
        "id": "bCMqjn3nXsuk",
        "colab_type": "text"
      },
      "cell_type": "markdown",
      "source": [
        "## Questions\n",
        "\n",
        "5 points for each question, and full score is 100. "
      ]
    },
    {
      "metadata": {
        "id": "75w4RZfS_UQC",
        "colab_type": "text"
      },
      "cell_type": "markdown",
      "source": [
        "**Question 1.** The data file is stored in csv format and named \"winemag-data-130k-v2.csv \". Please read it into a Pandas dataframe, and name the dataframe as \"reviews\". Make sure the first column should be \"country\", instead of a **\"unnamed\"** one. Display the first 5 rows."
      ]
    },
    {
      "metadata": {
        "id": "qW1V3R1K_nMT",
        "colab_type": "code",
        "colab": {
          "base_uri": "https://localhost:8080/",
          "height": 632
        },
        "outputId": "6c1ae52a-9a2b-4e01-b14a-e2b495a7abc1"
      },
      "cell_type": "code",
      "source": [
        "# Question 1\n",
        "import pandas as pd\n",
        "review = pd.read_csv('winemag-data-130k-v2.csv', sep=',', usecols=[1,2,3,4,5,6,7,8,9,10,11,12,13])\n",
        "review.head()"
      ],
      "execution_count": 107,
      "outputs": [
        {
          "output_type": "execute_result",
          "data": {
            "text/html": [
              "<div>\n",
              "<style scoped>\n",
              "    .dataframe tbody tr th:only-of-type {\n",
              "        vertical-align: middle;\n",
              "    }\n",
              "\n",
              "    .dataframe tbody tr th {\n",
              "        vertical-align: top;\n",
              "    }\n",
              "\n",
              "    .dataframe thead th {\n",
              "        text-align: right;\n",
              "    }\n",
              "</style>\n",
              "<table border=\"1\" class=\"dataframe\">\n",
              "  <thead>\n",
              "    <tr style=\"text-align: right;\">\n",
              "      <th></th>\n",
              "      <th>country</th>\n",
              "      <th>description</th>\n",
              "      <th>designation</th>\n",
              "      <th>points</th>\n",
              "      <th>price</th>\n",
              "      <th>province</th>\n",
              "      <th>region_1</th>\n",
              "      <th>region_2</th>\n",
              "      <th>taster_name</th>\n",
              "      <th>taster_twitter_handle</th>\n",
              "      <th>title</th>\n",
              "      <th>variety</th>\n",
              "      <th>winery</th>\n",
              "    </tr>\n",
              "  </thead>\n",
              "  <tbody>\n",
              "    <tr>\n",
              "      <th>0</th>\n",
              "      <td>Italy</td>\n",
              "      <td>Aromas include tropical fruit, broom, brimston...</td>\n",
              "      <td>Vulkà Bianco</td>\n",
              "      <td>87</td>\n",
              "      <td>NaN</td>\n",
              "      <td>Sicily &amp; Sardinia</td>\n",
              "      <td>Etna</td>\n",
              "      <td>NaN</td>\n",
              "      <td>Kerin O’Keefe</td>\n",
              "      <td>@kerinokeefe</td>\n",
              "      <td>Nicosia 2013 Vulkà Bianco  (Etna)</td>\n",
              "      <td>White Blend</td>\n",
              "      <td>Nicosia</td>\n",
              "    </tr>\n",
              "    <tr>\n",
              "      <th>1</th>\n",
              "      <td>Portugal</td>\n",
              "      <td>This is ripe and fruity, a wine that is smooth...</td>\n",
              "      <td>Avidagos</td>\n",
              "      <td>87</td>\n",
              "      <td>15.0</td>\n",
              "      <td>Douro</td>\n",
              "      <td>NaN</td>\n",
              "      <td>NaN</td>\n",
              "      <td>Roger Voss</td>\n",
              "      <td>@vossroger</td>\n",
              "      <td>Quinta dos Avidagos 2011 Avidagos Red (Douro)</td>\n",
              "      <td>Portuguese Red</td>\n",
              "      <td>Quinta dos Avidagos</td>\n",
              "    </tr>\n",
              "    <tr>\n",
              "      <th>2</th>\n",
              "      <td>US</td>\n",
              "      <td>Tart and snappy, the flavors of lime flesh and...</td>\n",
              "      <td>NaN</td>\n",
              "      <td>87</td>\n",
              "      <td>14.0</td>\n",
              "      <td>Oregon</td>\n",
              "      <td>Willamette Valley</td>\n",
              "      <td>Willamette Valley</td>\n",
              "      <td>Paul Gregutt</td>\n",
              "      <td>@paulgwine</td>\n",
              "      <td>Rainstorm 2013 Pinot Gris (Willamette Valley)</td>\n",
              "      <td>Pinot Gris</td>\n",
              "      <td>Rainstorm</td>\n",
              "    </tr>\n",
              "    <tr>\n",
              "      <th>3</th>\n",
              "      <td>US</td>\n",
              "      <td>Pineapple rind, lemon pith and orange blossom ...</td>\n",
              "      <td>Reserve Late Harvest</td>\n",
              "      <td>87</td>\n",
              "      <td>13.0</td>\n",
              "      <td>Michigan</td>\n",
              "      <td>Lake Michigan Shore</td>\n",
              "      <td>NaN</td>\n",
              "      <td>Alexander Peartree</td>\n",
              "      <td>NaN</td>\n",
              "      <td>St. Julian 2013 Reserve Late Harvest Riesling ...</td>\n",
              "      <td>Riesling</td>\n",
              "      <td>St. Julian</td>\n",
              "    </tr>\n",
              "    <tr>\n",
              "      <th>4</th>\n",
              "      <td>US</td>\n",
              "      <td>Much like the regular bottling from 2012, this...</td>\n",
              "      <td>Vintner's Reserve Wild Child Block</td>\n",
              "      <td>87</td>\n",
              "      <td>65.0</td>\n",
              "      <td>Oregon</td>\n",
              "      <td>Willamette Valley</td>\n",
              "      <td>Willamette Valley</td>\n",
              "      <td>Paul Gregutt</td>\n",
              "      <td>@paulgwine</td>\n",
              "      <td>Sweet Cheeks 2012 Vintner's Reserve Wild Child...</td>\n",
              "      <td>Pinot Noir</td>\n",
              "      <td>Sweet Cheeks</td>\n",
              "    </tr>\n",
              "  </tbody>\n",
              "</table>\n",
              "</div>"
            ],
            "text/plain": [
              "    country                                        description  \\\n",
              "0     Italy  Aromas include tropical fruit, broom, brimston...   \n",
              "1  Portugal  This is ripe and fruity, a wine that is smooth...   \n",
              "2        US  Tart and snappy, the flavors of lime flesh and...   \n",
              "3        US  Pineapple rind, lemon pith and orange blossom ...   \n",
              "4        US  Much like the regular bottling from 2012, this...   \n",
              "\n",
              "                          designation  points  price           province  \\\n",
              "0                        Vulkà Bianco      87    NaN  Sicily & Sardinia   \n",
              "1                            Avidagos      87   15.0              Douro   \n",
              "2                                 NaN      87   14.0             Oregon   \n",
              "3                Reserve Late Harvest      87   13.0           Michigan   \n",
              "4  Vintner's Reserve Wild Child Block      87   65.0             Oregon   \n",
              "\n",
              "              region_1           region_2         taster_name  \\\n",
              "0                 Etna                NaN       Kerin O’Keefe   \n",
              "1                  NaN                NaN          Roger Voss   \n",
              "2    Willamette Valley  Willamette Valley        Paul Gregutt   \n",
              "3  Lake Michigan Shore                NaN  Alexander Peartree   \n",
              "4    Willamette Valley  Willamette Valley        Paul Gregutt   \n",
              "\n",
              "  taster_twitter_handle                                              title  \\\n",
              "0          @kerinokeefe                  Nicosia 2013 Vulkà Bianco  (Etna)   \n",
              "1            @vossroger      Quinta dos Avidagos 2011 Avidagos Red (Douro)   \n",
              "2           @paulgwine       Rainstorm 2013 Pinot Gris (Willamette Valley)   \n",
              "3                   NaN  St. Julian 2013 Reserve Late Harvest Riesling ...   \n",
              "4           @paulgwine   Sweet Cheeks 2012 Vintner's Reserve Wild Child...   \n",
              "\n",
              "          variety               winery  \n",
              "0     White Blend              Nicosia  \n",
              "1  Portuguese Red  Quinta dos Avidagos  \n",
              "2      Pinot Gris            Rainstorm  \n",
              "3        Riesling           St. Julian  \n",
              "4      Pinot Noir         Sweet Cheeks  "
            ]
          },
          "metadata": {
            "tags": []
          },
          "execution_count": 107
        }
      ]
    },
    {
      "metadata": {
        "id": "SLIvVmMncJp4",
        "colab_type": "code",
        "colab": {
          "base_uri": "https://localhost:8080/",
          "height": 390
        },
        "outputId": "09cba5e1-102e-4048-c36a-a3ec5bdc3590"
      },
      "cell_type": "code",
      "source": [
        "# Expected Output:\n",
        "image_url = \"https://github.com/wshuyi/github_pub_img/raw/master/assets/2019-02-18-10-21-51-880386.png\"\n",
        "from IPython.display import Image\n",
        "Image(image_url)"
      ],
      "execution_count": 108,
      "outputs": [
        {
          "output_type": "execute_result",
          "data": {
            "image/png": "[encoded data removed]",
            "text/plain": [
              "<IPython.core.display.Image object>"
            ]
          },
          "metadata": {
            "tags": []
          },
          "execution_count": 108
        }
      ]
    },
    {
      "metadata": {
        "id": "IcCTDpO1AwkP",
        "colab_type": "text"
      },
      "cell_type": "markdown",
      "source": [
        "**Question 2.** What is the data type of the `points` column in the dataset?"
      ]
    },
    {
      "metadata": {
        "colab_type": "code",
        "id": "UBAPam8FXTyX",
        "colab": {
          "base_uri": "https://localhost:8080/",
          "height": 34
        },
        "outputId": "7881cdc0-1ec6-4780-9c8f-812851b5fbc9"
      },
      "cell_type": "code",
      "source": [
        "# Question 2\n",
        "review.dtypes[3]"
      ],
      "execution_count": 111,
      "outputs": [
        {
          "output_type": "execute_result",
          "data": {
            "text/plain": [
              "dtype('int64')"
            ]
          },
          "metadata": {
            "tags": []
          },
          "execution_count": 111
        }
      ]
    },
    {
      "metadata": {
        "id": "3FWHkhoFctMa",
        "colab_type": "code",
        "colab": {
          "base_uri": "https://localhost:8080/",
          "height": 63
        },
        "outputId": "86980254-d540-43cb-e813-d9ce149571c4"
      },
      "cell_type": "code",
      "source": [
        "# Expected Output:\n",
        "image_url = \"https://github.com/wshuyi/github_pub_img/raw/master/assets/2019-02-18-10-22-08-367025.png\"\n",
        "from IPython.display import Image\n",
        "Image(image_url)"
      ],
      "execution_count": 76,
      "outputs": [
        {
          "output_type": "execute_result",
          "data": {
            "image/png": "[encoded data removed]",
            "text/plain": [
              "<IPython.core.display.Image object>"
            ]
          },
          "metadata": {
            "tags": []
          },
          "execution_count": 76
        }
      ]
    },
    {
      "metadata": {
        "id": "kzK8xgGaOhS6",
        "colab_type": "text"
      },
      "cell_type": "markdown",
      "source": [
        "**Question 3.** Select the `description` column from `reviews` and assign the result to the variable `desc`. Show the first 5 rows of `desc`."
      ]
    },
    {
      "metadata": {
        "colab_type": "code",
        "id": "TqrZGd7wXUSa",
        "colab": {
          "base_uri": "https://localhost:8080/",
          "height": 119
        },
        "outputId": "3f32c98e-b2ad-4857-f030-be47d94ba496"
      },
      "cell_type": "code",
      "source": [
        "desc = review['description']\n",
        "desc.head()"
      ],
      "execution_count": 113,
      "outputs": [
        {
          "output_type": "execute_result",
          "data": {
            "text/plain": [
              "0    Aromas include tropical fruit, broom, brimston...\n",
              "1    This is ripe and fruity, a wine that is smooth...\n",
              "2    Tart and snappy, the flavors of lime flesh and...\n",
              "3    Pineapple rind, lemon pith and orange blossom ...\n",
              "4    Much like the regular bottling from 2012, this...\n",
              "Name: description, dtype: object"
            ]
          },
          "metadata": {
            "tags": []
          },
          "execution_count": 113
        }
      ]
    },
    {
      "metadata": {
        "id": "VxnoTs4NcvEM",
        "colab_type": "code",
        "colab": {}
      },
      "cell_type": "code",
      "source": [
        "# Expected Output:\n",
        "image_url = \"https://github.com/wshuyi/github_pub_img/raw/master/assets/2019-02-18-10-22-46-339216.png\"\n",
        "from IPython.display import Image\n",
        "Image(image_url)"
      ],
      "execution_count": 0,
      "outputs": []
    },
    {
      "metadata": {
        "id": "3EcvMcQVOuRF",
        "colab_type": "text"
      },
      "cell_type": "markdown",
      "source": [
        "**Question 4.** what type of object is `desc`?"
      ]
    },
    {
      "metadata": {
        "colab_type": "code",
        "id": "Ntt-XJeiXUv9",
        "colab": {
          "base_uri": "https://localhost:8080/",
          "height": 34
        },
        "outputId": "c6258741-cdfb-4318-a0e8-5cfe6306bca7"
      },
      "cell_type": "code",
      "source": [
        "desc.dtype"
      ],
      "execution_count": 116,
      "outputs": [
        {
          "output_type": "execute_result",
          "data": {
            "text/plain": [
              "dtype('O')"
            ]
          },
          "metadata": {
            "tags": []
          },
          "execution_count": 116
        }
      ]
    },
    {
      "metadata": {
        "id": "SseLGPuScyAM",
        "colab_type": "code",
        "colab": {
          "base_uri": "https://localhost:8080/",
          "height": 75
        },
        "outputId": "d9169519-db63-4d17-b8a9-4d3a47e7693f"
      },
      "cell_type": "code",
      "source": [
        "# Expected Output:\n",
        "image_url = \"https://github.com/wshuyi/github_pub_img/raw/master/assets/2019-02-18-10-22-58-641958.png\"\n",
        "from IPython.display import Image\n",
        "Image(image_url)"
      ],
      "execution_count": 117,
      "outputs": [
        {
          "output_type": "execute_result",
          "data": {
            "image/png": "[encoded data removed]",
            "text/plain": [
              "<IPython.core.display.Image object>"
            ]
          },
          "metadata": {
            "tags": []
          },
          "execution_count": 117
        }
      ]
    },
    {
      "metadata": {
        "id": "CwrlkouyO2hs",
        "colab_type": "text"
      },
      "cell_type": "markdown",
      "source": [
        "**Question 5.** Select the first value from the description column of `reviews`, assigning it to variable `first_description`. Show the content of `first_description`."
      ]
    },
    {
      "metadata": {
        "colab_type": "code",
        "id": "RskJKxrkXVQD",
        "colab": {
          "base_uri": "https://localhost:8080/",
          "height": 51
        },
        "outputId": "83b10ef0-f79a-4fc6-8227-e6c3d969e971"
      },
      "cell_type": "code",
      "source": [
        "first_description = review.description.head(1)\n",
        "first_description"
      ],
      "execution_count": 96,
      "outputs": [
        {
          "output_type": "execute_result",
          "data": {
            "text/plain": [
              "0    Aromas include tropical fruit, broom, brimston...\n",
              "Name: description, dtype: object"
            ]
          },
          "metadata": {
            "tags": []
          },
          "execution_count": 96
        }
      ]
    },
    {
      "metadata": {
        "id": "6g_osKvBc0qp",
        "colab_type": "code",
        "colab": {}
      },
      "cell_type": "code",
      "source": [
        "# Expected Output:\n",
        "image_url = \"https://github.com/wshuyi/github_pub_img/raw/master/assets/2019-02-18-10-23-18-848390.png\"\n",
        "from IPython.display import Image\n",
        "Image(image_url)"
      ],
      "execution_count": 0,
      "outputs": []
    },
    {
      "metadata": {
        "id": "7vqxm9CaPLPZ",
        "colab_type": "text"
      },
      "cell_type": "markdown",
      "source": [
        "**Question 6.** Select the first row of data (the first record) from `reviews`, assigning it to the variable `first_row`. Show the content of `first_row`."
      ]
    },
    {
      "metadata": {
        "colab_type": "code",
        "id": "QNZfRkHHXVpm",
        "colab": {
          "base_uri": "https://localhost:8080/",
          "height": 185
        },
        "outputId": "16797045-5e04-4e67-d0bd-d5fd3496102b"
      },
      "cell_type": "code",
      "source": [
        "first_row = review.head(1)\n",
        "first_row"
      ],
      "execution_count": 39,
      "outputs": [
        {
          "output_type": "execute_result",
          "data": {
            "text/html": [
              "<div>\n",
              "<style scoped>\n",
              "    .dataframe tbody tr th:only-of-type {\n",
              "        vertical-align: middle;\n",
              "    }\n",
              "\n",
              "    .dataframe tbody tr th {\n",
              "        vertical-align: top;\n",
              "    }\n",
              "\n",
              "    .dataframe thead th {\n",
              "        text-align: right;\n",
              "    }\n",
              "</style>\n",
              "<table border=\"1\" class=\"dataframe\">\n",
              "  <thead>\n",
              "    <tr style=\"text-align: right;\">\n",
              "      <th></th>\n",
              "      <th>Unnamed: 0</th>\n",
              "      <th>country</th>\n",
              "      <th>description</th>\n",
              "      <th>designation</th>\n",
              "      <th>points</th>\n",
              "      <th>price</th>\n",
              "      <th>province</th>\n",
              "      <th>region_1</th>\n",
              "      <th>region_2</th>\n",
              "      <th>taster_name</th>\n",
              "      <th>taster_twitter_handle</th>\n",
              "      <th>title</th>\n",
              "      <th>variety</th>\n",
              "      <th>winery</th>\n",
              "    </tr>\n",
              "  </thead>\n",
              "  <tbody>\n",
              "    <tr>\n",
              "      <th>0</th>\n",
              "      <td>0</td>\n",
              "      <td>Italy</td>\n",
              "      <td>Aromas include tropical fruit, broom, brimston...</td>\n",
              "      <td>Vulkà Bianco</td>\n",
              "      <td>87</td>\n",
              "      <td>NaN</td>\n",
              "      <td>Sicily &amp; Sardinia</td>\n",
              "      <td>Etna</td>\n",
              "      <td>NaN</td>\n",
              "      <td>Kerin O’Keefe</td>\n",
              "      <td>@kerinokeefe</td>\n",
              "      <td>Nicosia 2013 Vulkà Bianco  (Etna)</td>\n",
              "      <td>White Blend</td>\n",
              "      <td>Nicosia</td>\n",
              "    </tr>\n",
              "  </tbody>\n",
              "</table>\n",
              "</div>"
            ],
            "text/plain": [
              "   Unnamed: 0 country                                        description  \\\n",
              "0           0   Italy  Aromas include tropical fruit, broom, brimston...   \n",
              "\n",
              "    designation  points  price           province region_1 region_2  \\\n",
              "0  Vulkà Bianco      87    NaN  Sicily & Sardinia     Etna      NaN   \n",
              "\n",
              "     taster_name taster_twitter_handle                              title  \\\n",
              "0  Kerin O’Keefe          @kerinokeefe  Nicosia 2013 Vulkà Bianco  (Etna)   \n",
              "\n",
              "       variety   winery  \n",
              "0  White Blend  Nicosia  "
            ]
          },
          "metadata": {
            "tags": []
          },
          "execution_count": 39
        }
      ]
    },
    {
      "metadata": {
        "id": "1xGiCixEc58C",
        "colab_type": "code",
        "colab": {}
      },
      "cell_type": "code",
      "source": [
        "# Expected Output:\n",
        "image_url = \"https://github.com/wshuyi/github_pub_img/raw/master/assets/2019-02-18-10-23-29-081662.png\"\n",
        "from IPython.display import Image\n",
        "Image(image_url)"
      ],
      "execution_count": 0,
      "outputs": []
    },
    {
      "metadata": {
        "id": "bXaPGZyKPYPT",
        "colab_type": "text"
      },
      "cell_type": "markdown",
      "source": [
        "**Question 7.** Select the first 10 values from the `description` column in `reviews`, assigning the result to variable `first_descriptions`. Show the content of `first_descriptions`. (Hint: format your output as a `pandas` `Series`.)"
      ]
    },
    {
      "metadata": {
        "colab_type": "code",
        "id": "gXjvqaoXXWGK",
        "colab": {
          "base_uri": "https://localhost:8080/",
          "height": 204
        },
        "outputId": "032f1721-1a17-444b-efe1-2c4829f99aa2"
      },
      "cell_type": "code",
      "source": [
        "first_descriptions = review.description.head(10)\n",
        "first_descriptions"
      ],
      "execution_count": 119,
      "outputs": [
        {
          "output_type": "execute_result",
          "data": {
            "text/plain": [
              "0    Aromas include tropical fruit, broom, brimston...\n",
              "1    This is ripe and fruity, a wine that is smooth...\n",
              "2    Tart and snappy, the flavors of lime flesh and...\n",
              "3    Pineapple rind, lemon pith and orange blossom ...\n",
              "4    Much like the regular bottling from 2012, this...\n",
              "5    Blackberry and raspberry aromas show a typical...\n",
              "6    Here's a bright, informal red that opens with ...\n",
              "7    This dry and restrained wine offers spice in p...\n",
              "8    Savory dried thyme notes accent sunnier flavor...\n",
              "9    This has great depth of flavor with its fresh ...\n",
              "Name: description, dtype: object"
            ]
          },
          "metadata": {
            "tags": []
          },
          "execution_count": 119
        }
      ]
    },
    {
      "metadata": {
        "id": "Yx_gKZgXc8bF",
        "colab_type": "code",
        "colab": {}
      },
      "cell_type": "code",
      "source": [
        "# Expected Output:\n",
        "image_url = \"https://github.com/wshuyi/github_pub_img/raw/master/assets/2019-02-18-10-23-54-273700.png\"\n",
        "from IPython.display import Image\n",
        "Image(image_url)"
      ],
      "execution_count": 0,
      "outputs": []
    },
    {
      "metadata": {
        "id": "nU_kWzEWPlhU",
        "colab_type": "text"
      },
      "cell_type": "markdown",
      "source": [
        "**Question 8.** Select the records with index labels `1`, `2`, `4`, `5`, and `7`, assigning the result to the variable `sample_reviews`. Show first 5 rows of `sample_reviews`."
      ]
    },
    {
      "metadata": {
        "colab_type": "code",
        "id": "_B5NkoPeXWtW",
        "colab": {
          "base_uri": "https://localhost:8080/",
          "height": 164
        },
        "outputId": "c15cd670-75e0-4b6b-c6f2-2d29fb7c79cf"
      },
      "cell_type": "code",
      "source": [
        "#show"
      ],
      "execution_count": 121,
      "outputs": [
        {
          "output_type": "error",
          "ename": "TypeError",
          "evalue": "ignored",
          "traceback": [
            "\u001b[0;31m---------------------------------------------------------------------------\u001b[0m",
            "\u001b[0;31mTypeError\u001b[0m                                 Traceback (most recent call last)",
            "\u001b[0;32m<ipython-input-121-d8cc8d513485>\u001b[0m in \u001b[0;36m<module>\u001b[0;34m()\u001b[0m\n\u001b[0;32m----> 1\u001b[0;31m \u001b[0mreview\u001b[0m\u001b[0;34m(\u001b[0m\u001b[0;36m1\u001b[0m\u001b[0;34m,\u001b[0m\u001b[0;36m2\u001b[0m\u001b[0;34m,\u001b[0m\u001b[0;36m4\u001b[0m\u001b[0;34m,\u001b[0m\u001b[0;36m5\u001b[0m\u001b[0;34m,\u001b[0m\u001b[0;36m7\u001b[0m\u001b[0;34m)\u001b[0m\u001b[0;34m.\u001b[0m\u001b[0mhead\u001b[0m\u001b[0;34m(\u001b[0m\u001b[0;34m)\u001b[0m\u001b[0;34m\u001b[0m\u001b[0;34m\u001b[0m\u001b[0m\n\u001b[0m",
            "\u001b[0;31mTypeError\u001b[0m: 'DataFrame' object is not callable"
          ]
        }
      ]
    },
    {
      "metadata": {
        "id": "NJTA8Xc3c_oM",
        "colab_type": "code",
        "colab": {}
      },
      "cell_type": "code",
      "source": [
        "# Expected Output:\n",
        "image_url = \"https://github.com/wshuyi/github_pub_img/raw/master/assets/2019-02-18-10-24-11-414043.png\"\n",
        "from IPython.display import Image\n",
        "Image(image_url)"
      ],
      "execution_count": 0,
      "outputs": []
    },
    {
      "metadata": {
        "id": "O1S9d3roQF50",
        "colab_type": "text"
      },
      "cell_type": "markdown",
      "source": [
        "**Question 9.** Create a variable df containing the country, province, region_1, and region_2 columns of the records with the index labels 0, 2, 20, and 200. Show the content of df."
      ]
    },
    {
      "metadata": {
        "colab_type": "code",
        "id": "raPuwVGzXXSk",
        "colab": {}
      },
      "cell_type": "code",
      "source": [
        "# TODO: your code here"
      ],
      "execution_count": 0,
      "outputs": []
    },
    {
      "metadata": {
        "id": "nwnj42P7dC9n",
        "colab_type": "code",
        "colab": {}
      },
      "cell_type": "code",
      "source": [
        "# Expected Output:\n",
        "image_url = \"https://github.com/wshuyi/github_pub_img/raw/master/assets/2019-02-18-10-24-23-881864.png\"\n",
        "from IPython.display import Image\n",
        "Image(image_url)"
      ],
      "execution_count": 0,
      "outputs": []
    },
    {
      "metadata": {
        "id": "G_VHzIziQnHY",
        "colab_type": "text"
      },
      "cell_type": "markdown",
      "source": [
        "**Question 10.** Create a variable `df` containing the `country` and `variety` columns of the first 100 records. Show the shape of `df`."
      ]
    },
    {
      "metadata": {
        "colab_type": "code",
        "id": "qwDRwkt0XXwY",
        "colab": {}
      },
      "cell_type": "code",
      "source": [
        "# TODO: your code here"
      ],
      "execution_count": 0,
      "outputs": []
    },
    {
      "metadata": {
        "id": "qB3NnyugdF3B",
        "colab_type": "code",
        "colab": {}
      },
      "cell_type": "code",
      "source": [
        "# Expected Output:\n",
        "image_url = \"https://github.com/wshuyi/github_pub_img/raw/master/assets/2019-02-18-10-24-36-554850.png\"\n",
        "from IPython.display import Image\n",
        "Image(image_url)"
      ],
      "execution_count": 0,
      "outputs": []
    },
    {
      "metadata": {
        "id": "kdXXjNbrRHJQ",
        "colab_type": "text"
      },
      "cell_type": "markdown",
      "source": [
        "**Question 11.** Create a DataFrame `france_wines` containing reviews of wines made in `France`. Show the shape of `france_wines`."
      ]
    },
    {
      "metadata": {
        "colab_type": "code",
        "id": "Qj0i2yHlXYRa",
        "colab": {}
      },
      "cell_type": "code",
      "source": [
        "# TODO: your code here"
      ],
      "execution_count": 0,
      "outputs": []
    },
    {
      "metadata": {
        "id": "f-bb0pA9dIa1",
        "colab_type": "code",
        "colab": {}
      },
      "cell_type": "code",
      "source": [
        "# Expected Output:\n",
        "image_url = \"https://github.com/wshuyi/github_pub_img/raw/master/assets/2019-02-18-10-24-49-026089.png\"\n",
        "from IPython.display import Image\n",
        "Image(image_url)"
      ],
      "execution_count": 0,
      "outputs": []
    },
    {
      "metadata": {
        "id": "BtH67scWR6Q0",
        "colab_type": "text"
      },
      "cell_type": "markdown",
      "source": [
        "**Question 12.** Create a DataFrame `top_north_america_wines` containing all reviews with at least 95 points (out of 100) for wines from US or Canada. Show the shape of `top_north_america_wines`."
      ]
    },
    {
      "metadata": {
        "colab_type": "code",
        "id": "8lLrtjfZXY5A",
        "colab": {}
      },
      "cell_type": "code",
      "source": [
        "# TODO: your code here"
      ],
      "execution_count": 0,
      "outputs": []
    },
    {
      "metadata": {
        "id": "Hs_AHPJkdL8e",
        "colab_type": "code",
        "colab": {}
      },
      "cell_type": "code",
      "source": [
        "# Expected Output:\n",
        "image_url = \"https://github.com/wshuyi/github_pub_img/raw/master/assets/2019-02-18-10-24-59-291835.png\"\n",
        "from IPython.display import Image\n",
        "Image(image_url)"
      ],
      "execution_count": 0,
      "outputs": []
    },
    {
      "metadata": {
        "id": "LOyxmO1jS1hw",
        "colab_type": "text"
      },
      "cell_type": "markdown",
      "source": [
        "**Question 13.** What is the minimum value of the points column in the reviews DataFrame?"
      ]
    },
    {
      "metadata": {
        "colab_type": "code",
        "id": "0DBqUOWXXZWF",
        "colab": {
          "base_uri": "https://localhost:8080/",
          "height": 34
        },
        "outputId": "83bf423d-c99e-430a-80c4-30bb29cffb76"
      },
      "cell_type": "code",
      "source": [
        "review.points.min()"
      ],
      "execution_count": 41,
      "outputs": [
        {
          "output_type": "execute_result",
          "data": {
            "text/plain": [
              "80"
            ]
          },
          "metadata": {
            "tags": []
          },
          "execution_count": 41
        }
      ]
    },
    {
      "metadata": {
        "id": "vKQo3CFpdUl2",
        "colab_type": "code",
        "colab": {}
      },
      "cell_type": "code",
      "source": [
        "# Expected Output:\n",
        "image_url = \"https://github.com/wshuyi/github_pub_img/raw/master/assets/2019-02-18-10-25-07-722360.png\"\n",
        "from IPython.display import Image\n",
        "Image(image_url)"
      ],
      "execution_count": 0,
      "outputs": []
    },
    {
      "metadata": {
        "id": "MX_JIp-MS_Wf",
        "colab_type": "text"
      },
      "cell_type": "markdown",
      "source": [
        "**Question 14.** What countries are represented in the dataset? (Your answer should not include any duplicates.)"
      ]
    },
    {
      "metadata": {
        "colab_type": "code",
        "id": "qCkLxWp5XZzn",
        "colab": {
          "base_uri": "https://localhost:8080/",
          "height": 782
        },
        "outputId": "12483f04-4cd8-4371-d837-b953b259ad14"
      },
      "cell_type": "code",
      "source": [
        "review.country.drop_duplicates()"
      ],
      "execution_count": 46,
      "outputs": [
        {
          "output_type": "execute_result",
          "data": {
            "text/plain": [
              "0                          Italy\n",
              "1                       Portugal\n",
              "2                             US\n",
              "5                          Spain\n",
              "7                         France\n",
              "8                        Germany\n",
              "16                     Argentina\n",
              "36                         Chile\n",
              "77                     Australia\n",
              "93                       Austria\n",
              "125                 South Africa\n",
              "174                  New Zealand\n",
              "202                       Israel\n",
              "219                      Hungary\n",
              "271                       Greece\n",
              "306                      Romania\n",
              "378                       Mexico\n",
              "454                       Canada\n",
              "913                          NaN\n",
              "1187                      Turkey\n",
              "2272              Czech Republic\n",
              "2292                    Slovenia\n",
              "3576                  Luxembourg\n",
              "4007                     Croatia\n",
              "4048                     Georgia\n",
              "4051                     Uruguay\n",
              "4073                     England\n",
              "4896                     Lebanon\n",
              "5085                      Serbia\n",
              "5852                      Brazil\n",
              "5996                     Moldova\n",
              "6008                     Morocco\n",
              "6565                        Peru\n",
              "6673                       India\n",
              "6970                    Bulgaria\n",
              "7568                      Cyprus\n",
              "8170                     Armenia\n",
              "14187                Switzerland\n",
              "16467     Bosnia and Herzegovina\n",
              "19530                    Ukraine\n",
              "22687                   Slovakia\n",
              "25466                  Macedonia\n",
              "109989                     China\n",
              "110246                     Egypt\n",
              "Name: country, dtype: object"
            ]
          },
          "metadata": {
            "tags": []
          },
          "execution_count": 46
        }
      ]
    },
    {
      "metadata": {
        "id": "KWw-LwoVdXut",
        "colab_type": "code",
        "colab": {}
      },
      "cell_type": "code",
      "source": [
        "# Expected Output:\n",
        "image_url = \"https://github.com/wshuyi/github_pub_img/raw/master/assets/2019-02-18-10-25-17-210421.png\"\n",
        "from IPython.display import Image\n",
        "Image(image_url)"
      ],
      "execution_count": 0,
      "outputs": []
    },
    {
      "metadata": {
        "id": "N4drEZ3XTJ_w",
        "colab_type": "text"
      },
      "cell_type": "markdown",
      "source": [
        "**Question 15.** How often does each country appear in the dataset? Create a Series `reviews_per_country` mapping countries to the count of reviews of wines from that country. Show the first 10 rows of `reviews_per_country`."
      ]
    },
    {
      "metadata": {
        "colab_type": "code",
        "id": "9EVSTey8XaTe",
        "colab": {
          "base_uri": "https://localhost:8080/",
          "height": 782
        },
        "outputId": "824fbf3a-89f2-483f-fcb6-7d75238d3f12"
      },
      "cell_type": "code",
      "source": [
        "review.groupby('country').country.count()"
      ],
      "execution_count": 54,
      "outputs": [
        {
          "output_type": "execute_result",
          "data": {
            "text/plain": [
              "country\n",
              "Argentina                  3800\n",
              "Armenia                       2\n",
              "Australia                  2329\n",
              "Austria                    3345\n",
              "Bosnia and Herzegovina        2\n",
              "Brazil                       52\n",
              "Bulgaria                    141\n",
              "Canada                      257\n",
              "Chile                      4472\n",
              "China                         1\n",
              "Croatia                      73\n",
              "Cyprus                       11\n",
              "Czech Republic               12\n",
              "Egypt                         1\n",
              "England                      74\n",
              "France                    22093\n",
              "Georgia                      86\n",
              "Germany                    2165\n",
              "Greece                      466\n",
              "Hungary                     146\n",
              "India                         9\n",
              "Israel                      505\n",
              "Italy                     19540\n",
              "Lebanon                      35\n",
              "Luxembourg                    6\n",
              "Macedonia                    12\n",
              "Mexico                       70\n",
              "Moldova                      59\n",
              "Morocco                      28\n",
              "New Zealand                1419\n",
              "Peru                         16\n",
              "Portugal                   5691\n",
              "Romania                     120\n",
              "Serbia                       12\n",
              "Slovakia                      1\n",
              "Slovenia                     87\n",
              "South Africa               1401\n",
              "Spain                      6645\n",
              "Switzerland                   7\n",
              "Turkey                       90\n",
              "US                        54504\n",
              "Ukraine                      14\n",
              "Uruguay                     109\n",
              "Name: country, dtype: int64"
            ]
          },
          "metadata": {
            "tags": []
          },
          "execution_count": 54
        }
      ]
    },
    {
      "metadata": {
        "id": "pZoH_XEJdaTb",
        "colab_type": "code",
        "colab": {}
      },
      "cell_type": "code",
      "source": [
        "# Expected Output:\n",
        "image_url = \"https://github.com/wshuyi/github_pub_img/raw/master/assets/2019-02-18-10-25-25-429171.png\"\n",
        "from IPython.display import Image\n",
        "Image(image_url)"
      ],
      "execution_count": 0,
      "outputs": []
    },
    {
      "metadata": {
        "id": "OkItiZ9bTXbY",
        "colab_type": "text"
      },
      "cell_type": "markdown",
      "source": [
        "**Question 16.** Create variable `centered_price` containing a version of the `price` column with the mean price subtracted. Show the first 10 rows of `centered_price`."
      ]
    },
    {
      "metadata": {
        "colab_type": "code",
        "id": "wkhpuwJyXa3G",
        "colab": {}
      },
      "cell_type": "code",
      "source": [
        "# TODO: your code here"
      ],
      "execution_count": 0,
      "outputs": []
    },
    {
      "metadata": {
        "id": "7ghmK9B6dczN",
        "colab_type": "code",
        "colab": {}
      },
      "cell_type": "code",
      "source": [
        "# Expected Output:\n",
        "image_url = \"https://github.com/wshuyi/github_pub_img/raw/master/assets/2019-02-18-10-25-34-260297.png\"\n",
        "from IPython.display import Image\n",
        "Image(image_url)"
      ],
      "execution_count": 0,
      "outputs": []
    },
    {
      "metadata": {
        "id": "Hb8pgT_3T2Pl",
        "colab_type": "text"
      },
      "cell_type": "markdown",
      "source": [
        "**Question 17.** Create a variable `bargain_wine` with the title of the wine with the highest points-to-price ratio in the dataset. Show the value of `bargain_wine`."
      ]
    },
    {
      "metadata": {
        "colab_type": "code",
        "id": "WeLLzohEXbwM",
        "colab": {}
      },
      "cell_type": "code",
      "source": [
        "# TODO: your code here"
      ],
      "execution_count": 0,
      "outputs": []
    },
    {
      "metadata": {
        "id": "zIoymH_Gde7y",
        "colab_type": "code",
        "colab": {}
      },
      "cell_type": "code",
      "source": [
        "# Expected Output:\n",
        "image_url = \"https://github.com/wshuyi/github_pub_img/raw/master/assets/2019-02-18-10-25-45-425172.png\"\n",
        "from IPython.display import Image\n",
        "Image(image_url)"
      ],
      "execution_count": 0,
      "outputs": []
    },
    {
      "metadata": {
        "id": "WmeqXrx2U5_X",
        "colab_type": "text"
      },
      "cell_type": "markdown",
      "source": [
        "**Question 18.** Is a wine more likely to be \"tropical\" or \"fruity\"? Create a Series `descriptor_counts` counting how many times each of these two words appears in the description column in the dataset. Show the content of `descriptor_counts`."
      ]
    },
    {
      "metadata": {
        "colab_type": "code",
        "id": "zDxikAMBXcVF",
        "colab": {}
      },
      "cell_type": "code",
      "source": [
        "# TODO: your code here"
      ],
      "execution_count": 0,
      "outputs": []
    },
    {
      "metadata": {
        "id": "XVg01XtddhOv",
        "colab_type": "code",
        "colab": {}
      },
      "cell_type": "code",
      "source": [
        "# Expected Output:\n",
        "image_url = \"https://github.com/wshuyi/github_pub_img/raw/master/assets/2019-02-18-10-25-56-543545.png\"\n",
        "from IPython.display import Image\n",
        "Image(image_url)"
      ],
      "execution_count": 0,
      "outputs": []
    },
    {
      "metadata": {
        "id": "sHhgidRBBgih",
        "colab_type": "text"
      },
      "cell_type": "markdown",
      "source": [
        "**Question 19.** Sometimes the price column is null. How many reviews in the dataset are missing a price?"
      ]
    },
    {
      "metadata": {
        "colab_type": "code",
        "id": "7Q_D-rdfXc7D",
        "colab": {
          "base_uri": "https://localhost:8080/",
          "height": 34
        },
        "outputId": "648a3474-d7aa-4758-aa2e-262b4d9c1a13"
      },
      "cell_type": "code",
      "source": [
        "review[review.price.isnull()].count().max()"
      ],
      "execution_count": 125,
      "outputs": [
        {
          "output_type": "execute_result",
          "data": {
            "text/plain": [
              "8996"
            ]
          },
          "metadata": {
            "tags": []
          },
          "execution_count": 125
        }
      ]
    },
    {
      "metadata": {
        "id": "YF8MDwvRdjil",
        "colab_type": "code",
        "colab": {
          "base_uri": "https://localhost:8080/",
          "height": 64
        },
        "outputId": "39da423f-6ec0-4add-9cef-165820bfc7f6"
      },
      "cell_type": "code",
      "source": [
        "# Expected Output:\n",
        "image_url = \"https://github.com/wshuyi/github_pub_img/raw/master/assets/2019-02-18-10-26-07-921120.png\"\n",
        "from IPython.display import Image\n",
        "Image(image_url)"
      ],
      "execution_count": 124,
      "outputs": [
        {
          "output_type": "execute_result",
          "data": {
            "image/png": "[encoded data removed]",
            "text/plain": [
              "<IPython.core.display.Image object>"
            ]
          },
          "metadata": {
            "tags": []
          },
          "execution_count": 124
        }
      ]
    },
    {
      "metadata": {
        "id": "qNNNW2pxCy5g",
        "colab_type": "text"
      },
      "cell_type": "markdown",
      "source": [
        "**Question 20.** What are the most common wine-producing regions? Create a `Series` counting the number of times each value occurs in the `region_1` field. This field is often missing data, so replace missing values with `Unknown`. Sort in descending order. Show the first 10 rows of the series."
      ]
    },
    {
      "metadata": {
        "colab_type": "code",
        "id": "x_yQWKbWXdW8",
        "colab": {}
      },
      "cell_type": "code",
      "source": [
        "# TODO: your code here"
      ],
      "execution_count": 0,
      "outputs": []
    },
    {
      "metadata": {
        "id": "u1sJt5_8dm4G",
        "colab_type": "code",
        "colab": {}
      },
      "cell_type": "code",
      "source": [
        "# Expected Output:\n",
        "image_url = \"https://github.com/wshuyi/github_pub_img/raw/master/assets/2019-02-18-10-26-19-518545.png\"\n",
        "from IPython.display import Image\n",
        "Image(image_url)"
      ],
      "execution_count": 0,
      "outputs": []
    },
    {
      "metadata": {
        "id": "MVws7H5u-iVp",
        "colab_type": "text"
      },
      "cell_type": "markdown",
      "source": [
        "**Question 21.** Who are the most common wine reviewers in the dataset? Create a `Series` whose index is the `taster_twitter_handle` category from the dataset, and whose values count how many reviews each person wrote. Show the series."
      ]
    },
    {
      "metadata": {
        "colab_type": "code",
        "id": "3LUo7_L7XeAp",
        "colab": {}
      },
      "cell_type": "code",
      "source": [
        "# TODO: your code here"
      ],
      "execution_count": 0,
      "outputs": []
    },
    {
      "metadata": {
        "id": "mrCz-Dyvdph8",
        "colab_type": "code",
        "colab": {}
      },
      "cell_type": "code",
      "source": [
        "# Expected Output:\n",
        "image_url = \"https://github.com/wshuyi/github_pub_img/raw/master/assets/2019-02-18-10-26-32-243770.png\"\n",
        "from IPython.display import Image\n",
        "Image(image_url)"
      ],
      "execution_count": 0,
      "outputs": []
    },
    {
      "metadata": {
        "id": "hMslbuXrB9XH",
        "colab_type": "text"
      },
      "cell_type": "markdown",
      "source": [
        "**Question 22.** What is the best wine I can buy for a given amount of money? Create a `Series` whose index is wine prices and whose values is the maximum number of points a wine costing that much was given in a review. Sort the values by price, Descending (so that `3300.0` dollars is at the top and `4.0` dollars is at the bottom). Show the first 5 rows of the series."
      ]
    },
    {
      "metadata": {
        "colab_type": "code",
        "id": "9jRym3pNXelc",
        "colab": {}
      },
      "cell_type": "code",
      "source": [
        "# TODO: your code here"
      ],
      "execution_count": 0,
      "outputs": []
    },
    {
      "metadata": {
        "id": "pNemORACdtnz",
        "colab_type": "code",
        "colab": {}
      },
      "cell_type": "code",
      "source": [
        "# Expected Output:\n",
        "image_url = \"https://github.com/wshuyi/github_pub_img/raw/master/assets/2019-02-18-10-26-40-741397.png\"\n",
        "from IPython.display import Image\n",
        "Image(image_url)"
      ],
      "execution_count": 0,
      "outputs": []
    },
    {
      "metadata": {
        "id": "AEhk3H2NCfNt",
        "colab_type": "text"
      },
      "cell_type": "markdown",
      "source": [
        "**Question 23.** What are the minimum, maximum and median prices for each `variety` of wine? Create a `DataFrame` whose index is the `variety` category from the dataset and whose values are the `min`, `max` and `medium` values thereof. Show the 5 rows of the dataframe."
      ]
    },
    {
      "metadata": {
        "colab_type": "code",
        "id": "oPGnkUYjXfG4",
        "colab": {}
      },
      "cell_type": "code",
      "source": [
        "# TODO: your code here"
      ],
      "execution_count": 0,
      "outputs": []
    },
    {
      "metadata": {
        "id": "LuYH6K5kdvvH",
        "colab_type": "code",
        "colab": {}
      },
      "cell_type": "code",
      "source": [
        "# Expected Output:\n",
        "image_url = \"https://github.com/wshuyi/github_pub_img/raw/master/assets/2019-02-18-10-27-01-991324.png\"\n",
        "from IPython.display import Image\n",
        "Image(image_url)"
      ],
      "execution_count": 0,
      "outputs": []
    },
    {
      "metadata": {
        "id": "vUeHL6ZNGiXz",
        "colab_type": "text"
      },
      "cell_type": "markdown",
      "source": [
        "**Question 24.** What are the most expensive wine varieties? Create a variable `sorted_varieties` containing a copy of the dataframe from the previous question where varieties are sorted in descending order based on minimum price, then on maximum price (to break ties). Show the 5 rows of the dataframe."
      ]
    },
    {
      "metadata": {
        "colab_type": "code",
        "id": "9HMY8ioPXf0p",
        "colab": {}
      },
      "cell_type": "code",
      "source": [
        "# TODO: your code here"
      ],
      "execution_count": 0,
      "outputs": []
    },
    {
      "metadata": {
        "id": "qanE3Hnxd0nU",
        "colab_type": "code",
        "colab": {}
      },
      "cell_type": "code",
      "source": [
        "# Expected Output:\n",
        "image_url = \"https://github.com/wshuyi/github_pub_img/raw/master/assets/2019-02-18-10-27-12-370129.png\"\n",
        "from IPython.display import Image\n",
        "Image(image_url)"
      ],
      "execution_count": 0,
      "outputs": []
    },
    {
      "metadata": {
        "id": "WFcue3FdHeoc",
        "colab_type": "text"
      },
      "cell_type": "markdown",
      "source": [
        "**Question 25.** Create a Series whose index is reviewers and whose values is the average review score given out by that reviewer. Show the first 5 rows of the series (Hint: name of reviewer is in `taster_name`.)"
      ]
    },
    {
      "metadata": {
        "colab_type": "code",
        "id": "zA6DhhyzXgeY",
        "colab": {}
      },
      "cell_type": "code",
      "source": [
        "# TODO: your code here"
      ],
      "execution_count": 0,
      "outputs": []
    },
    {
      "metadata": {
        "id": "BNM0Pz0gd3zo",
        "colab_type": "code",
        "colab": {}
      },
      "cell_type": "code",
      "source": [
        "# Expected Output:\n",
        "image_url = \"https://github.com/wshuyi/github_pub_img/raw/master/assets/2019-02-18-10-27-35-752685.png\"\n",
        "from IPython.display import Image\n",
        "Image(image_url)"
      ],
      "execution_count": 0,
      "outputs": []
    },
    {
      "metadata": {
        "id": "PPK_WSfh_1Tq",
        "colab_type": "text"
      },
      "cell_type": "markdown",
      "source": [
        "**Question 26.** What combination of countries and varieties are most common? Create a `Series` whose index is a `MultiIndex`of `{country, variety}` pairs. For example, a pinot noir produced in the US should map to `{\"US\", \"Pinot Noir\"}`. Sort the values in the `Series` in descending order based on wine count. Show the first 10 rows of the series."
      ]
    },
    {
      "metadata": {
        "colab_type": "code",
        "id": "9gfF9jcfXg-R",
        "colab": {}
      },
      "cell_type": "code",
      "source": [
        "# TODO: your code here"
      ],
      "execution_count": 0,
      "outputs": []
    },
    {
      "metadata": {
        "id": "l0GMu9VTd74H",
        "colab_type": "code",
        "colab": {}
      },
      "cell_type": "code",
      "source": [
        "# Expected Output:\n",
        "image_url = \"https://github.com/wshuyi/github_pub_img/raw/master/assets/2019-02-18-10-27-42-958620.png\"\n",
        "from IPython.display import Image\n",
        "Image(image_url)"
      ],
      "execution_count": 0,
      "outputs": []
    },
    {
      "metadata": {
        "id": "zxjiMPEaF9hY",
        "colab_type": "text"
      },
      "cell_type": "markdown",
      "source": [
        "**Question 27.** `region_1` and `region_2` are pretty uninformative names for locale columns in the dataset. Create a copy of `reviews` with these columns renamed to `region` and `locale`, respectively. Show the first 5 rows of the renamed dataframe."
      ]
    },
    {
      "metadata": {
        "colab_type": "code",
        "id": "suFObsSmXhv8",
        "colab": {}
      },
      "cell_type": "code",
      "source": [
        "# TODO: your code here"
      ],
      "execution_count": 0,
      "outputs": []
    },
    {
      "metadata": {
        "id": "vj9N5aGQd-YM",
        "colab_type": "code",
        "colab": {}
      },
      "cell_type": "code",
      "source": [
        "# Expected Output:\n",
        "image_url = \"https://github.com/wshuyi/github_pub_img/raw/master/assets/2019-02-18-10-27-54-120816.png\"\n",
        "from IPython.display import Image\n",
        "Image(image_url)"
      ],
      "execution_count": 0,
      "outputs": []
    },
    {
      "metadata": {
        "id": "D73vqBKbGOdx",
        "colab_type": "code",
        "colab": {}
      },
      "cell_type": "code",
      "source": [
        ""
      ],
      "execution_count": 0,
      "outputs": []
    }
  ]
}