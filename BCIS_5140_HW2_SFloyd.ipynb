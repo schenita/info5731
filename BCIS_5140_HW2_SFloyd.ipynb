{
  "nbformat": 4,
  "nbformat_minor": 0,
  "metadata": {
    "kernelspec": {
      "display_name": "Python 3",
      "language": "python",
      "name": "python3"
    },
    "language_info": {
      "codemirror_mode": {
        "name": "ipython",
        "version": 3
      },
      "file_extension": ".py",
      "mimetype": "text/x-python",
      "name": "python",
      "nbconvert_exporter": "python",
      "pygments_lexer": "ipython3",
      "version": "3.7.1"
    },
    "colab": {
      "name": "BCIS_5140_HW2_SFloyd.ipynb",
      "version": "0.3.2",
      "provenance": [],
      "collapsed_sections": [],
      "include_colab_link": true
    }
  },
  "cells": [
    {
      "cell_type": "markdown",
      "metadata": {
        "id": "view-in-github",
        "colab_type": "text"
      },
      "source": [
        "<a href=\"https://colab.research.google.com/github/schenita/info5731/blob/master/BCIS_5140_HW2_SFloyd.ipynb\" target=\"_parent\"><img src=\"https://colab.research.google.com/assets/colab-badge.svg\" alt=\"Open In Colab\"/></a>"
      ]
    },
    {
      "cell_type": "markdown",
      "metadata": {
        "id": "3p9F10TzI9zo",
        "colab_type": "text"
      },
      "source": [
        "Homework 2 - Learn the Basics modules of Python tutorial  \n",
        "September 10, 2019 \n",
        "By: Schenita Floyd\n",
        "* Tutorial 1 Hello, World!"
      ]
    },
    {
      "cell_type": "code",
      "metadata": {
        "id": "JE_tXipvI9zq",
        "colab_type": "code",
        "colab": {},
        "outputId": "6cd7f730-eec1-498a-d8ba-1e747da0ee8a"
      },
      "source": [
        "print(\"This line will be printed.\")"
      ],
      "execution_count": 0,
      "outputs": [
        {
          "output_type": "stream",
          "text": [
            "This line will be printed.\n"
          ],
          "name": "stdout"
        }
      ]
    },
    {
      "cell_type": "code",
      "metadata": {
        "id": "CBHW7t_XI9zv",
        "colab_type": "code",
        "colab": {},
        "outputId": "1ce320d1-af82-47ad-f08e-282d178956b6"
      },
      "source": [
        "# Indentation\n",
        "x = 1\n",
        "if x ==1:\n",
        "    # indented four spaces\n",
        "    print(\"x is 1.\")"
      ],
      "execution_count": 0,
      "outputs": [
        {
          "output_type": "stream",
          "text": [
            "x is 1.\n"
          ],
          "name": "stdout"
        }
      ]
    },
    {
      "cell_type": "code",
      "metadata": {
        "id": "BvCLwp00I9zz",
        "colab_type": "code",
        "colab": {},
        "outputId": "6b0caf68-58a3-45f4-edf7-e5ed2064f77f"
      },
      "source": [
        "# Printing Hello, World then replacement phrase given by professor\n",
        "print(\"Hello, World!\")\n",
        "print(\"Hi, my name is Schenita Floyd and I successfully installed Python. Hurray!!!\")"
      ],
      "execution_count": 0,
      "outputs": [
        {
          "output_type": "stream",
          "text": [
            "Hello, World!\n",
            "Hi, my name is Schenita Floyd and I successfully installed Python. Hurray!!!\n"
          ],
          "name": "stdout"
        }
      ]
    },
    {
      "cell_type": "code",
      "metadata": {
        "id": "OZ_TwFjPI9z6",
        "colab_type": "code",
        "colab": {},
        "outputId": "2736392b-a731-4208-d835-edd40c855be2"
      },
      "source": [
        "print(\"Goodbye, World!\")"
      ],
      "execution_count": 0,
      "outputs": [
        {
          "output_type": "stream",
          "text": [
            "Goodbye, World!\n"
          ],
          "name": "stdout"
        }
      ]
    },
    {
      "cell_type": "markdown",
      "metadata": {
        "id": "rL0mtRE1I9z_",
        "colab_type": "text"
      },
      "source": [
        "* Tutorial 2 Variable and Types "
      ]
    },
    {
      "cell_type": "code",
      "metadata": {
        "id": "VlZ-rF-rI90A",
        "colab_type": "code",
        "colab": {},
        "outputId": "17a8210b-9f9c-4ec0-bcb8-df1d39e9c419"
      },
      "source": [
        "# Defining an integer\n",
        "myint = 7\n",
        "print(myint)"
      ],
      "execution_count": 0,
      "outputs": [
        {
          "output_type": "stream",
          "text": [
            "7\n"
          ],
          "name": "stdout"
        }
      ]
    },
    {
      "cell_type": "code",
      "metadata": {
        "id": "EqtHcBoeI90J",
        "colab_type": "code",
        "colab": {},
        "outputId": "29d6630a-02ca-4178-f159-aefa4996a042"
      },
      "source": [
        "# Defining a floating point number\n",
        "myfloat = 7.0\n",
        "print(myfloat)\n",
        "myfloat = float(7)\n",
        "print(myfloat)"
      ],
      "execution_count": 0,
      "outputs": [
        {
          "output_type": "stream",
          "text": [
            "7.0\n",
            "7.0\n"
          ],
          "name": "stdout"
        }
      ]
    },
    {
      "cell_type": "code",
      "metadata": {
        "id": "zMk4GpHPI90N",
        "colab_type": "code",
        "colab": {},
        "outputId": "c61602a2-f403-4135-cd3f-7e76d36364dd"
      },
      "source": [
        "# Defining a String\n",
        "mystring = 'hello'\n",
        "print(mystring)\n",
        "mystring = \"hello\"\n",
        "print(mystring)"
      ],
      "execution_count": 0,
      "outputs": [
        {
          "output_type": "stream",
          "text": [
            "hello\n",
            "hello\n"
          ],
          "name": "stdout"
        }
      ]
    },
    {
      "cell_type": "code",
      "metadata": {
        "id": "sKcqp36UI90R",
        "colab_type": "code",
        "colab": {},
        "outputId": "d22f94b1-15f8-4587-9385-8ba88dab0fee"
      },
      "source": [
        "# Importance of double quotes\n",
        "mystring = \"Don't worry about apostrophes\"\n",
        "print(mystring)"
      ],
      "execution_count": 0,
      "outputs": [
        {
          "output_type": "stream",
          "text": [
            "Don't worry about apostrophes\n"
          ],
          "name": "stdout"
        }
      ]
    },
    {
      "cell_type": "code",
      "metadata": {
        "id": "hPdsYaKHI90V",
        "colab_type": "code",
        "colab": {},
        "outputId": "6466bc48-b0ce-4728-c2b9-12e3f929c787"
      },
      "source": [
        "# Simple operations using numbers and strings\n",
        "one = 1\n",
        "two =2\n",
        "three = one + two\n",
        "print(three)\n",
        "\n",
        "hello = \"hello\"\n",
        "world = \"world\"\n",
        "helloworld = hello + \" \" + world\n",
        "print(helloworld)"
      ],
      "execution_count": 0,
      "outputs": [
        {
          "output_type": "stream",
          "text": [
            "3\n",
            "hello world\n"
          ],
          "name": "stdout"
        }
      ]
    },
    {
      "cell_type": "code",
      "metadata": {
        "id": "oiQsAxCzI90Z",
        "colab_type": "code",
        "colab": {},
        "outputId": "ab8bbc3a-4062-4e22-9451-0859d65a6b4c"
      },
      "source": [
        "# Assignments\n",
        "a, b = 3, 4\n",
        "print(a,b)"
      ],
      "execution_count": 0,
      "outputs": [
        {
          "output_type": "stream",
          "text": [
            "3 4\n"
          ],
          "name": "stdout"
        }
      ]
    },
    {
      "cell_type": "code",
      "metadata": {
        "id": "BIBu-XOuI90e",
        "colab_type": "code",
        "colab": {},
        "outputId": "b1c8dbec-2272-485b-e98d-01ecd4101cf7"
      },
      "source": [
        "# Error when you mix operators between numbers and strings\n",
        "# This will not work!\n",
        "one = 1\n",
        "two = 2\n",
        "hello = \"hello\"\n",
        "\n",
        "print(one + two + hello)"
      ],
      "execution_count": 0,
      "outputs": [
        {
          "output_type": "error",
          "ename": "TypeError",
          "evalue": "unsupported operand type(s) for +: 'int' and 'str'",
          "traceback": [
            "\u001b[0;31m---------------------------------------------------------------------------\u001b[0m",
            "\u001b[0;31mTypeError\u001b[0m                                 Traceback (most recent call last)",
            "\u001b[0;32m<ipython-input-12-4f4bd812a2e9>\u001b[0m in \u001b[0;36m<module>\u001b[0;34m\u001b[0m\n\u001b[1;32m      5\u001b[0m \u001b[0mhello\u001b[0m \u001b[0;34m=\u001b[0m \u001b[0;34m\"hello\"\u001b[0m\u001b[0;34m\u001b[0m\u001b[0;34m\u001b[0m\u001b[0m\n\u001b[1;32m      6\u001b[0m \u001b[0;34m\u001b[0m\u001b[0m\n\u001b[0;32m----> 7\u001b[0;31m \u001b[0mprint\u001b[0m\u001b[0;34m(\u001b[0m\u001b[0mone\u001b[0m \u001b[0;34m+\u001b[0m \u001b[0mtwo\u001b[0m \u001b[0;34m+\u001b[0m \u001b[0mhello\u001b[0m\u001b[0;34m)\u001b[0m\u001b[0;34m\u001b[0m\u001b[0;34m\u001b[0m\u001b[0m\n\u001b[0m",
            "\u001b[0;31mTypeError\u001b[0m: unsupported operand type(s) for +: 'int' and 'str'"
          ]
        }
      ]
    },
    {
      "cell_type": "code",
      "metadata": {
        "id": "Rhdh__aDI90l",
        "colab_type": "code",
        "colab": {},
        "outputId": "c0dcbb2a-9638-4d55-92c3-a754d9c006eb"
      },
      "source": [
        "# Correcting error\n",
        "print(one + two)\n",
        "print(hello)"
      ],
      "execution_count": 0,
      "outputs": [
        {
          "output_type": "stream",
          "text": [
            "3\n",
            "hello\n"
          ],
          "name": "stdout"
        }
      ]
    },
    {
      "cell_type": "code",
      "metadata": {
        "id": "sKuYNGnaI90u",
        "colab_type": "code",
        "colab": {},
        "outputId": "fd8a4b42-bd90-491e-f83f-6f8c2d984443"
      },
      "source": [
        "# Exercise\n",
        "mystring = \"hello\"\n",
        "myfloat = 10.0\n",
        "myint = 20\n",
        "\n",
        "# testing code\n",
        "if mystring == \"hello\":\n",
        "    print(\"String: %s\" % mystring)\n",
        "if isinstance(myfloat, float) and myfloat == 10.0:\n",
        "    print(\"Float: %f\" % myfloat)\n",
        "if isinstance(myint, int) and myint == 20:\n",
        "    print(\"Integer: %d\" % myint)"
      ],
      "execution_count": 0,
      "outputs": [
        {
          "output_type": "stream",
          "text": [
            "String: hello\n",
            "Float: 10.000000\n",
            "Integer: 20\n"
          ],
          "name": "stdout"
        }
      ]
    },
    {
      "cell_type": "markdown",
      "metadata": {
        "id": "Nd5VK1F6I90x",
        "colab_type": "text"
      },
      "source": [
        "* Tutorial 3 Lists"
      ]
    },
    {
      "cell_type": "code",
      "metadata": {
        "id": "0Bw9u_aHI90y",
        "colab_type": "code",
        "colab": {},
        "outputId": "82f29480-7272-43d8-c20d-2b74138d94a8"
      },
      "source": [
        "mylist = []\n",
        "mylist.append(1)\n",
        "mylist.append(2)\n",
        "mylist.append(3)\n",
        "print(mylist[0]) # prints 1\n",
        "print(mylist[1]) # prints 2\n",
        "print(mylist[2]) # prints 3\n",
        "\n",
        "# prints out 1,2,3\n",
        "for x in mylist:\n",
        "    print(x)"
      ],
      "execution_count": 0,
      "outputs": [
        {
          "output_type": "stream",
          "text": [
            "1\n",
            "2\n",
            "3\n",
            "1\n",
            "2\n",
            "3\n"
          ],
          "name": "stdout"
        }
      ]
    },
    {
      "cell_type": "code",
      "metadata": {
        "id": "2Lg3bZ9HI901",
        "colab_type": "code",
        "colab": {},
        "outputId": "5138ed32-36ef-4f58-aedb-36fa6ffe1967"
      },
      "source": [
        "# Generating an exception error because index doesn't exist\n",
        "mylist = [1,2,3]\n",
        "print(mylist[10])"
      ],
      "execution_count": 0,
      "outputs": [
        {
          "output_type": "error",
          "ename": "IndexError",
          "evalue": "list index out of range",
          "traceback": [
            "\u001b[0;31m---------------------------------------------------------------------------\u001b[0m",
            "\u001b[0;31mIndexError\u001b[0m                                Traceback (most recent call last)",
            "\u001b[0;32m<ipython-input-17-4cb82176eae1>\u001b[0m in \u001b[0;36m<module>\u001b[0;34m\u001b[0m\n\u001b[1;32m      1\u001b[0m \u001b[0;31m# Generating an exception error because index doesn't exist\u001b[0m\u001b[0;34m\u001b[0m\u001b[0;34m\u001b[0m\u001b[0;34m\u001b[0m\u001b[0m\n\u001b[1;32m      2\u001b[0m \u001b[0mmylist\u001b[0m \u001b[0;34m=\u001b[0m \u001b[0;34m[\u001b[0m\u001b[0;36m1\u001b[0m\u001b[0;34m,\u001b[0m\u001b[0;36m2\u001b[0m\u001b[0;34m,\u001b[0m\u001b[0;36m3\u001b[0m\u001b[0;34m]\u001b[0m\u001b[0;34m\u001b[0m\u001b[0;34m\u001b[0m\u001b[0m\n\u001b[0;32m----> 3\u001b[0;31m \u001b[0mprint\u001b[0m\u001b[0;34m(\u001b[0m\u001b[0mmylist\u001b[0m\u001b[0;34m[\u001b[0m\u001b[0;36m10\u001b[0m\u001b[0;34m]\u001b[0m\u001b[0;34m)\u001b[0m\u001b[0;34m\u001b[0m\u001b[0;34m\u001b[0m\u001b[0m\n\u001b[0m",
            "\u001b[0;31mIndexError\u001b[0m: list index out of range"
          ]
        }
      ]
    },
    {
      "cell_type": "code",
      "metadata": {
        "id": "sCb49MUyI906",
        "colab_type": "code",
        "colab": {},
        "outputId": "0b032896-1813-4c57-f402-51efbf67117f"
      },
      "source": [
        "# Exercise\n",
        "numbers = [1, 2, 3]\n",
        "strings = [\"hello\", \"world\"]\n",
        "names = [\"John\", \"Eric\", \"Jessica\"]\n",
        "\n",
        "# write your code here\n",
        "second_name = [names[1]]\n",
        "\n",
        "\n",
        "# this code should write out the filled arrays and the second name in the names list (Eric).\n",
        "print(numbers)\n",
        "print(strings)\n",
        "print(\"The second name on the names list is %s\" % second_name)"
      ],
      "execution_count": 0,
      "outputs": [
        {
          "output_type": "stream",
          "text": [
            "[1, 2, 3]\n",
            "['hello', 'world']\n",
            "The second name on the names list is ['Eric']\n"
          ],
          "name": "stdout"
        }
      ]
    },
    {
      "cell_type": "markdown",
      "metadata": {
        "id": "HmPqDtK9I91B",
        "colab_type": "text"
      },
      "source": [
        "* Tutorial 4 Basic Operators"
      ]
    },
    {
      "cell_type": "code",
      "metadata": {
        "id": "A2E3cgLoI91C",
        "colab_type": "code",
        "colab": {},
        "outputId": "22defe6d-a77e-40a2-85f2-476af820ef3f"
      },
      "source": [
        "# Arithmetic Operators\n",
        "number = 1 + 2 * 3 / 4.0\n",
        "print(number)"
      ],
      "execution_count": 0,
      "outputs": [
        {
          "output_type": "stream",
          "text": [
            "2.5\n"
          ],
          "name": "stdout"
        }
      ]
    },
    {
      "cell_type": "code",
      "metadata": {
        "id": "gn426fK3I91F",
        "colab_type": "code",
        "colab": {},
        "outputId": "f3a3484d-9b84-45b2-a185-d59ded18b466"
      },
      "source": [
        "# Another operator % or divisor\n",
        "remainder = 11 % 3\n",
        "print(remainder)"
      ],
      "execution_count": 0,
      "outputs": [
        {
          "output_type": "stream",
          "text": [
            "2\n"
          ],
          "name": "stdout"
        }
      ]
    },
    {
      "cell_type": "code",
      "metadata": {
        "id": "6aVXWb0aI91J",
        "colab_type": "code",
        "colab": {},
        "outputId": "585304f6-ad78-444b-fd76-afb8df823a08"
      },
      "source": [
        "# Show to the X Power by using two stars\n",
        "squared = 7 ** 2\n",
        "cubed = 2 ** 3\n",
        "print(squared)\n",
        "print(cubed)"
      ],
      "execution_count": 0,
      "outputs": [
        {
          "output_type": "stream",
          "text": [
            "49\n",
            "8\n"
          ],
          "name": "stdout"
        }
      ]
    },
    {
      "cell_type": "code",
      "metadata": {
        "id": "oXN-zkRqI91X",
        "colab_type": "code",
        "colab": {},
        "outputId": "4a64f33d-3331-44dd-a015-e2f379178872"
      },
      "source": [
        "# Operators with Strings\n",
        "helloworld = \"hello\" + \" \" + \"world\"\n",
        "print(helloworld)"
      ],
      "execution_count": 0,
      "outputs": [
        {
          "output_type": "stream",
          "text": [
            "hello world\n"
          ],
          "name": "stdout"
        }
      ]
    },
    {
      "cell_type": "code",
      "metadata": {
        "id": "0-gASLwyI91f",
        "colab_type": "code",
        "colab": {},
        "outputId": "5dae187d-5ccd-4ef5-e4bc-cb11a2dc60b1"
      },
      "source": [
        "# Multiplying Strings\n",
        "lotsofhellos = \"hello\" * 10\n",
        "print(lotsofhellos)"
      ],
      "execution_count": 0,
      "outputs": [
        {
          "output_type": "stream",
          "text": [
            "hellohellohellohellohellohellohellohellohellohello\n"
          ],
          "name": "stdout"
        }
      ]
    },
    {
      "cell_type": "code",
      "metadata": {
        "id": "GRKLQWzEI91m",
        "colab_type": "code",
        "colab": {},
        "outputId": "3c057d65-bdae-4fee-ace5-8792d7ab3a53"
      },
      "source": [
        "# Using Opertors with Lists\n",
        "even_numbers = [2,4,6,8]\n",
        "odd_numbers = [1,3,5,7]\n",
        "all_numbers = odd_numbers + even_numbers\n",
        "print(all_numbers)"
      ],
      "execution_count": 0,
      "outputs": [
        {
          "output_type": "stream",
          "text": [
            "[1, 3, 5, 7, 2, 4, 6, 8]\n"
          ],
          "name": "stdout"
        }
      ]
    },
    {
      "cell_type": "code",
      "metadata": {
        "id": "ViA_XfN-I91r",
        "colab_type": "code",
        "colab": {},
        "outputId": "7cbe5113-ee0b-402c-965d-f5f07500aee6"
      },
      "source": [
        "# Repeating lists\n",
        "print([1,2,3] * 3)"
      ],
      "execution_count": 0,
      "outputs": [
        {
          "output_type": "stream",
          "text": [
            "[1, 2, 3, 1, 2, 3, 1, 2, 3]\n"
          ],
          "name": "stdout"
        }
      ]
    },
    {
      "cell_type": "code",
      "metadata": {
        "id": "pgL-soZUI91w",
        "colab_type": "code",
        "colab": {},
        "outputId": "b5785dbb-6b05-47db-afda-c7532a8c1835"
      },
      "source": [
        "# Exercise\n",
        "x = object()\n",
        "y = object()\n",
        "\n",
        "# TODO: change this code\n",
        "x_list = [x] * 10 \n",
        "y_list = [y] * 10\n",
        "big_list = x_list + y_list\n",
        "\n",
        "print(\"x_list contains %d objects\" % len(x_list))\n",
        "print(\"y_list contains %d objects\" % len(y_list))\n",
        "print(\"big_list contains %d objects\" % len(big_list))\n",
        "\n",
        "# testing code\n",
        "if x_list.count(x) == 10 and y_list.count(y) == 10:\n",
        "    print(\"Almost there...\")\n",
        "if big_list.count(x) == 10 and big_list.count(y) == 10:\n",
        "    print(\"Great!\")"
      ],
      "execution_count": 0,
      "outputs": [
        {
          "output_type": "stream",
          "text": [
            "x_list contains 10 objects\n",
            "y_list contains 10 objects\n",
            "big_list contains 20 objects\n",
            "Almost there...\n",
            "Great!\n"
          ],
          "name": "stdout"
        }
      ]
    },
    {
      "cell_type": "markdown",
      "metadata": {
        "id": "lGsUHq7fI911",
        "colab_type": "text"
      },
      "source": [
        "* Tutorial 5 String Formatting"
      ]
    },
    {
      "cell_type": "code",
      "metadata": {
        "id": "avkjp-65I915",
        "colab_type": "code",
        "colab": {},
        "outputId": "d57e076d-1f0b-4335-f4dc-6b2af2b650f4"
      },
      "source": [
        "# Printing a greeting\n",
        "# This prints out \"Hello, John!\"\n",
        "name = \"John\"\n",
        "print(\"Hello, %s!\" % name)"
      ],
      "execution_count": 0,
      "outputs": [
        {
          "output_type": "stream",
          "text": [
            "Hello, John!\n"
          ],
          "name": "stdout"
        }
      ]
    },
    {
      "cell_type": "code",
      "metadata": {
        "id": "UTtswvS8I919",
        "colab_type": "code",
        "colab": {},
        "outputId": "c00108bb-459a-48af-c41a-8a46bf0a2333"
      },
      "source": [
        "# Using a tuple\n",
        "# This prints out \"John is 23 years old.\"\n",
        "name = \"John\"\n",
        "age = 23\n",
        "print(\"%s is %d years old.\" % (name, age))"
      ],
      "execution_count": 0,
      "outputs": [
        {
          "output_type": "stream",
          "text": [
            "John is 23 years old.\n"
          ],
          "name": "stdout"
        }
      ]
    },
    {
      "cell_type": "code",
      "metadata": {
        "id": "Ce3xpfdOI92D",
        "colab_type": "code",
        "colab": {},
        "outputId": "db8d4d99-8c21-43dc-b141-50523cb52555"
      },
      "source": [
        "# This prints out: A list: [1, 2, 3]\n",
        "mylist = [1,2,3]\n",
        "print(\"A list: %s\" % mylist)"
      ],
      "execution_count": 0,
      "outputs": [
        {
          "output_type": "stream",
          "text": [
            "A list: [1, 2, 3]\n"
          ],
          "name": "stdout"
        }
      ]
    },
    {
      "cell_type": "markdown",
      "metadata": {
        "id": "RFhamAoEI92G",
        "colab_type": "text"
      },
      "source": [
        "Here are some basic argument specifiers you should know:\n",
        "<br /> %s - String (or any object with a string representation, like numbers)\n",
        "<br /> %d - Integers\n",
        "<br /> %f - Floating point numbers\n",
        "<br /> %.<number of digits>f - Floating point numbers with a fixed amount of digits to the right of the dot.\n",
        "<br /> %x/%X - Integers in hex representation (lowercase/uppercase)"
      ]
    },
    {
      "cell_type": "code",
      "metadata": {
        "id": "AxSesGZWI92H",
        "colab_type": "code",
        "colab": {},
        "outputId": "652892e3-fb54-41a0-bae1-e04ae6ff4f71"
      },
      "source": [
        "# Exercise to print Hello John Doe. Your current balance is $53.44.\n",
        "data = (\"John\", \"Doe\", 53.44)\n",
        "format_string = \"Hello\"\n",
        "\n",
        "print(\"%s \" % format_string + \"%s %s. Your current balance is $%.2f.\" % data)"
      ],
      "execution_count": 0,
      "outputs": [
        {
          "output_type": "stream",
          "text": [
            "Hello John Doe. Your current balance is $53.44.\n"
          ],
          "name": "stdout"
        }
      ]
    },
    {
      "cell_type": "markdown",
      "metadata": {
        "id": "qSh0-UCRI92T",
        "colab_type": "text"
      },
      "source": [
        "* Tutorial 6 Basic String Operations"
      ]
    },
    {
      "cell_type": "code",
      "metadata": {
        "id": "08jbTJezI92U",
        "colab_type": "code",
        "colab": {}
      },
      "source": [
        "# Strings are text\n",
        "astring = \"Hello world!\"\n",
        "astring2 = 'Hello world!'"
      ],
      "execution_count": 0,
      "outputs": []
    },
    {
      "cell_type": "code",
      "metadata": {
        "id": "4YFBi3y-I92a",
        "colab_type": "code",
        "colab": {},
        "outputId": "5f2ca93e-1067-479f-b502-b8f42682b36f"
      },
      "source": [
        "# Printing and using single quotes\n",
        "astring = \"Hello world!\"\n",
        "print(\"single quotes are ' '\")\n",
        "\n",
        "print(len(astring))"
      ],
      "execution_count": 0,
      "outputs": [
        {
          "output_type": "stream",
          "text": [
            "single quotes are ' '\n",
            "12\n"
          ],
          "name": "stdout"
        }
      ]
    },
    {
      "cell_type": "code",
      "metadata": {
        "id": "iw-JI-EeI92j",
        "colab_type": "code",
        "colab": {},
        "outputId": "59f8a84e-9877-46b2-d882-dd66cc4178ce"
      },
      "source": [
        "astring = \"Hello world!\"\n",
        "print(astring.index(\"o\"))"
      ],
      "execution_count": 0,
      "outputs": [
        {
          "output_type": "stream",
          "text": [
            "4\n"
          ],
          "name": "stdout"
        }
      ]
    },
    {
      "cell_type": "code",
      "metadata": {
        "id": "b1T7w-oXI92n",
        "colab_type": "code",
        "colab": {},
        "outputId": "01fe9eac-88fc-4438-ba65-a51937bb96e0"
      },
      "source": [
        "astring = \"Hello world!\"\n",
        "print(astring.count(\"l\"))"
      ],
      "execution_count": 0,
      "outputs": [
        {
          "output_type": "stream",
          "text": [
            "3\n"
          ],
          "name": "stdout"
        }
      ]
    },
    {
      "cell_type": "code",
      "metadata": {
        "id": "T2vQDpftI92q",
        "colab_type": "code",
        "colab": {},
        "outputId": "c076dfe4-a2f9-4c13-99da-099b5cc33fe3"
      },
      "source": [
        "astring = \"Hello world!\"\n",
        "print(astring[3:7])"
      ],
      "execution_count": 0,
      "outputs": [
        {
          "output_type": "stream",
          "text": [
            "lo w\n"
          ],
          "name": "stdout"
        }
      ]
    },
    {
      "cell_type": "code",
      "metadata": {
        "id": "Gl5UzBVQI92t",
        "colab_type": "code",
        "colab": {},
        "outputId": "5ba54c42-9434-4514-c88e-fec586e5ddd7"
      },
      "source": [
        "astring = \"Hello world!\"\n",
        "print(astring[3:7:2])"
      ],
      "execution_count": 0,
      "outputs": [
        {
          "output_type": "stream",
          "text": [
            "l \n"
          ],
          "name": "stdout"
        }
      ]
    },
    {
      "cell_type": "code",
      "metadata": {
        "id": "VyRnRefpI92x",
        "colab_type": "code",
        "colab": {},
        "outputId": "208859fb-658a-452f-97be-12b1144b0f9c"
      },
      "source": [
        "astring = \"Hello world!\"\n",
        "print(astring[3:7])\n",
        "print(astring[3:7:1])"
      ],
      "execution_count": 0,
      "outputs": [
        {
          "output_type": "stream",
          "text": [
            "lo w\n",
            "lo w\n"
          ],
          "name": "stdout"
        }
      ]
    },
    {
      "cell_type": "code",
      "metadata": {
        "id": "O4nfSHujI921",
        "colab_type": "code",
        "colab": {},
        "outputId": "c0713a2c-1476-42cf-c648-c047c3174b49"
      },
      "source": [
        "astring = \"Hello world!\"\n",
        "print(astring[::-1])"
      ],
      "execution_count": 0,
      "outputs": [
        {
          "output_type": "stream",
          "text": [
            "!dlrow olleH\n"
          ],
          "name": "stdout"
        }
      ]
    },
    {
      "cell_type": "code",
      "metadata": {
        "id": "uGO9JBgtI923",
        "colab_type": "code",
        "colab": {},
        "outputId": "760c02bb-fc72-4ca3-f451-d2e1c7097e34"
      },
      "source": [
        "# Lowercase versus uppercase\n",
        "astring = \"Hello world!\"\n",
        "print(astring.upper())\n",
        "print(astring.lower())"
      ],
      "execution_count": 0,
      "outputs": [
        {
          "output_type": "stream",
          "text": [
            "HELLO WORLD!\n",
            "hello world!\n"
          ],
          "name": "stdout"
        }
      ]
    },
    {
      "cell_type": "code",
      "metadata": {
        "id": "dhiOunAgI926",
        "colab_type": "code",
        "colab": {},
        "outputId": "e19e2ec6-dcea-4ed1-fba7-61012d5b6bfe"
      },
      "source": [
        "#Check if all letters are upper or lowercase\n",
        "astring = \"Hello world!\"\n",
        "print(astring.startswith(\"Hello\"))\n",
        "print(astring.endswith(\"asdfasdfasdf\"))"
      ],
      "execution_count": 0,
      "outputs": [
        {
          "output_type": "stream",
          "text": [
            "True\n",
            "False\n"
          ],
          "name": "stdout"
        }
      ]
    },
    {
      "cell_type": "code",
      "metadata": {
        "id": "iTKrN_zJI929",
        "colab_type": "code",
        "colab": {}
      },
      "source": [
        "#Splitting strings\n",
        "astring = \"Hello world!\"\n",
        "afewwords = astring.split(\" \")"
      ],
      "execution_count": 0,
      "outputs": []
    },
    {
      "cell_type": "code",
      "metadata": {
        "id": "X-pQK9KiI93C",
        "colab_type": "code",
        "colab": {},
        "outputId": "db9a2374-b59f-4140-9ee9-c7644d8f4bf8"
      },
      "source": [
        "print(afewwords)"
      ],
      "execution_count": 0,
      "outputs": [
        {
          "output_type": "stream",
          "text": [
            "['Hello', 'world!']\n"
          ],
          "name": "stdout"
        }
      ]
    },
    {
      "cell_type": "code",
      "metadata": {
        "id": "1wnwJ-syI93E",
        "colab_type": "code",
        "colab": {},
        "outputId": "ae7a9727-83ef-4b58-f49a-103773419d47"
      },
      "source": [
        "# Exercise\n",
        "s = \"Hey!  what do I ask?\"\n",
        "# Length should be 20\n",
        "print(\"Length of s = %d\" % len(s))\n",
        "\n",
        "# First occurrence of \"a\" should be at index 8\n",
        "print(\"The first occurrence of the letter a = %d\" % s.index(\"a\"))\n",
        "\n",
        "# Number of a's should be 2\n",
        "print(\"a occurs %d times\" % s.count(\"a\"))\n",
        "\n",
        "# Slicing the string into bits\n",
        "print(\"The first five characters are '%s'\" % s[:5]) # Start to 5\n",
        "print(\"The next five characters are '%s'\" % s[5:10]) # 5 to 10\n",
        "print(\"The thirteenth character is '%s'\" % s[12]) # Just number 12\n",
        "print(\"The characters with odd index are '%s'\" %s[1::2]) #(0-based indexing)\n",
        "print(\"The last five characters are '%s'\" % s[-5:]) # 5th-from-last to end\n",
        "\n",
        "# Convert everything to uppercase\n",
        "print(\"String in uppercase: %s\" % s.upper())\n",
        "\n",
        "# Convert everything to lowercase\n",
        "print(\"String in lowercase: %s\" % s.lower())\n",
        "\n",
        "# Check how a string starts\n",
        "if s.startswith(\"Str\"):\n",
        "    print(\"String starts with 'Str'. Good!\")\n",
        "\n",
        "# Check how a string ends\n",
        "if s.endswith(\"ome!\"):\n",
        "    print(\"String ends with 'ome!'. Good!\")\n",
        "\n",
        "# Split the string into three separate strings,\n",
        "# each containing only a word\n",
        "print(\"Split the words of the string: %s\" % s.split(\" \"))"
      ],
      "execution_count": 0,
      "outputs": [
        {
          "output_type": "stream",
          "text": [
            "Length of s = 20\n",
            "The first occurrence of the letter a = 8\n",
            "a occurs 2 times\n",
            "The first five characters are 'Hey! '\n",
            "The next five characters are ' what'\n",
            "The thirteenth character is 'o'\n",
            "The characters with odd index are 'e! htd  s?'\n",
            "The last five characters are ' ask?'\n",
            "String in uppercase: HEY!  WHAT DO I ASK?\n",
            "String in lowercase: hey!  what do i ask?\n",
            "Split the words of the string: ['Hey!', '', 'what', 'do', 'I', 'ask?']\n"
          ],
          "name": "stdout"
        }
      ]
    },
    {
      "cell_type": "markdown",
      "metadata": {
        "id": "caScaY1PI93H",
        "colab_type": "text"
      },
      "source": [
        "* Tutorial 7 Conditions"
      ]
    },
    {
      "cell_type": "code",
      "metadata": {
        "id": "goR83n50I93I",
        "colab_type": "code",
        "colab": {},
        "outputId": "a7aefbb1-a594-41c6-e412-57d8f090e045"
      },
      "source": [
        "# Boolean Variables\n",
        "# single equals operator \"=\", whereas comparison between two \n",
        "# variables is done using the double equals operator \"==\". The \"not equals\" operator is marked as \"!=\".\n",
        "x = 2\n",
        "print(x == 2) # prints out True\n",
        "print(x == 3) # prints out False\n",
        "print(x < 3) # prints out True"
      ],
      "execution_count": 0,
      "outputs": [
        {
          "output_type": "stream",
          "text": [
            "True\n",
            "False\n",
            "True\n"
          ],
          "name": "stdout"
        }
      ]
    },
    {
      "cell_type": "code",
      "metadata": {
        "id": "5eihfOcaI93K",
        "colab_type": "code",
        "colab": {},
        "outputId": "7186a9a0-b178-4193-b09f-156d2a656310"
      },
      "source": [
        "# Boolean operators\n",
        "name = \"John\"\n",
        "age = 23\n",
        "if name == \"John\" and age == 23:\n",
        "    print(\"Your name is John, and you are also 23 years old.\")\n",
        "\n",
        "if name == \"John\" or name == \"Rick\":\n",
        "    print(\"Your name is either John or Rick.\")"
      ],
      "execution_count": 0,
      "outputs": [
        {
          "output_type": "stream",
          "text": [
            "Your name is John, and you are also 23 years old.\n",
            "Your name is either John or Rick.\n"
          ],
          "name": "stdout"
        }
      ]
    },
    {
      "cell_type": "code",
      "metadata": {
        "id": "grivh76nI93Y",
        "colab_type": "code",
        "colab": {},
        "outputId": "435d90a3-525d-49ba-96d1-1f8b21e29547"
      },
      "source": [
        "# In operator - Does an object exist\n",
        "name = \"John\"\n",
        "if name in [\"John\", \"Rick\"]:\n",
        "    print(\"Your name is either John or Rick.\")"
      ],
      "execution_count": 0,
      "outputs": [
        {
          "output_type": "stream",
          "text": [
            "Your name is either John or Rick.\n"
          ],
          "name": "stdout"
        }
      ]
    },
    {
      "cell_type": "code",
      "metadata": {
        "id": "_eCTQHqTI93b",
        "colab_type": "code",
        "colab": {}
      },
      "source": [
        "# if statements\n",
        "statement = False\n",
        "another_statement = True\n",
        "if statement is True:\n",
        "    # do something\n",
        "    pass\n",
        "elif another_statement is True: # else if\n",
        "    # do something else\n",
        "    pass\n",
        "else:\n",
        "    # do another thing\n",
        "    pass"
      ],
      "execution_count": 0,
      "outputs": []
    },
    {
      "cell_type": "code",
      "metadata": {
        "id": "gD5IQIErI93m",
        "colab_type": "code",
        "colab": {},
        "outputId": "74703193-b697-4a57-a8ea-ae52216a724a"
      },
      "source": [
        "x = 2\n",
        "if x == 2:\n",
        "    print(\"x equals two!\")\n",
        "else:\n",
        "    print(\"x does not equal to two.\")"
      ],
      "execution_count": 0,
      "outputs": [
        {
          "output_type": "stream",
          "text": [
            "x equals two!\n"
          ],
          "name": "stdout"
        }
      ]
    },
    {
      "cell_type": "code",
      "metadata": {
        "id": "1cdr5-r1I93v",
        "colab_type": "code",
        "colab": {},
        "outputId": "89273a2d-4438-47ec-eaab-60917969359d"
      },
      "source": [
        "# Is operator\n",
        "x = [1,2,3]\n",
        "y = [1,2,3]\n",
        "print(x == y) # Prints out True\n",
        "print(x is y) # Prints out False"
      ],
      "execution_count": 0,
      "outputs": [
        {
          "output_type": "stream",
          "text": [
            "True\n",
            "False\n"
          ],
          "name": "stdout"
        }
      ]
    },
    {
      "cell_type": "code",
      "metadata": {
        "id": "tfJgrW2mI93z",
        "colab_type": "code",
        "colab": {},
        "outputId": "05ae29a8-8cdc-49e8-db55-42c6642ea587"
      },
      "source": [
        "# Not operator\n",
        "print(not False) # Prints out True\n",
        "print((not False) == (False)) # Prints out False"
      ],
      "execution_count": 0,
      "outputs": [
        {
          "output_type": "stream",
          "text": [
            "True\n",
            "False\n"
          ],
          "name": "stdout"
        }
      ]
    },
    {
      "cell_type": "code",
      "metadata": {
        "id": "FpbEQrcKI931",
        "colab_type": "code",
        "colab": {},
        "outputId": "4b697a13-8420-4bb0-e1ab-5d1d7c2b852d"
      },
      "source": [
        "# Exercise\n",
        "# change this code\n",
        "number = 16\n",
        "second_number = False\n",
        "first_array = [1,2,3]\n",
        "second_array = [1,2]\n",
        "\n",
        "if number > 15:\n",
        "    print(\"1\")\n",
        "\n",
        "if first_array:\n",
        "    print(\"2\")\n",
        "\n",
        "if len(second_array) == 2:\n",
        "    print(\"3\")\n",
        "\n",
        "if len(first_array) + len(second_array) == 5:\n",
        "    print(\"4\")\n",
        "\n",
        "if first_array and first_array[0] == 1:\n",
        "    print(\"5\")\n",
        "\n",
        "if not second_number:\n",
        "    print(\"6\")"
      ],
      "execution_count": 0,
      "outputs": [
        {
          "output_type": "stream",
          "text": [
            "1\n",
            "2\n",
            "3\n",
            "4\n",
            "5\n",
            "6\n"
          ],
          "name": "stdout"
        }
      ]
    },
    {
      "cell_type": "markdown",
      "metadata": {
        "id": "z8XdKuwZI933",
        "colab_type": "text"
      },
      "source": [
        "* Tutorial 8 Loops"
      ]
    },
    {
      "cell_type": "code",
      "metadata": {
        "id": "YUZjeM9NI934",
        "colab_type": "code",
        "colab": {},
        "outputId": "1ae5c231-afc2-42a8-9fc8-2e69df5a7af5"
      },
      "source": [
        "# for Loop\n",
        "primes = [2, 3, 5, 7]\n",
        "for prime in primes:\n",
        "    print(prime)"
      ],
      "execution_count": 0,
      "outputs": [
        {
          "output_type": "stream",
          "text": [
            "2\n",
            "3\n",
            "5\n",
            "7\n"
          ],
          "name": "stdout"
        }
      ]
    },
    {
      "cell_type": "code",
      "metadata": {
        "id": "QGhDOKf8I936",
        "colab_type": "code",
        "colab": {},
        "outputId": "e913f68d-3da6-4f08-c640-bf1345af1f35"
      },
      "source": [
        "# loops with range and xrange\n",
        "# Prints out the numbers 0,1,2,3,4\n",
        "for x in range(5):\n",
        "    print(x)\n",
        "\n",
        "# Prints out 3,4,5\n",
        "for x in range(3, 6):\n",
        "    print(x)\n",
        "\n",
        "# Prints out 3,5,7\n",
        "for x in range(3, 8, 2):\n",
        "    print(x)"
      ],
      "execution_count": 0,
      "outputs": [
        {
          "output_type": "stream",
          "text": [
            "0\n",
            "1\n",
            "2\n",
            "3\n",
            "4\n",
            "3\n",
            "4\n",
            "5\n",
            "3\n",
            "5\n",
            "7\n"
          ],
          "name": "stdout"
        }
      ]
    },
    {
      "cell_type": "code",
      "metadata": {
        "id": "imGQAd1SI939",
        "colab_type": "code",
        "colab": {},
        "outputId": "32d487c0-3c1c-4e87-985d-078ee11875fe"
      },
      "source": [
        "# While loop\n",
        "# Prints out 0,1,2,3,4\n",
        "\n",
        "count = 0\n",
        "while count < 5:\n",
        "    print(count)\n",
        "    count += 1  # This is the same as count = count + 1"
      ],
      "execution_count": 0,
      "outputs": [
        {
          "output_type": "stream",
          "text": [
            "0\n",
            "1\n",
            "2\n",
            "3\n",
            "4\n"
          ],
          "name": "stdout"
        }
      ]
    },
    {
      "cell_type": "code",
      "metadata": {
        "id": "5P_2Vn_LI93_",
        "colab_type": "code",
        "colab": {},
        "outputId": "b4d03ef4-e333-4495-8705-00f61c44cb24"
      },
      "source": [
        "# Break and Continue\n",
        "# Prints out 0,1,2,3,4\n",
        "\n",
        "count = 0\n",
        "while True:\n",
        "    print(count)\n",
        "    count += 1\n",
        "    if count >= 5:\n",
        "        break\n",
        "\n",
        "# Prints out only odd numbers - 1,3,5,7,9\n",
        "for x in range(10):\n",
        "    # Check if x is even\n",
        "    if x % 2 == 0:\n",
        "        continue\n",
        "    print(x)"
      ],
      "execution_count": 0,
      "outputs": [
        {
          "output_type": "stream",
          "text": [
            "0\n",
            "1\n",
            "2\n",
            "3\n",
            "4\n",
            "1\n",
            "3\n",
            "5\n",
            "7\n",
            "9\n"
          ],
          "name": "stdout"
        }
      ]
    },
    {
      "cell_type": "code",
      "metadata": {
        "id": "v0gOatfqI94E",
        "colab_type": "code",
        "colab": {},
        "outputId": "cf8a4f1a-702a-457b-f225-789ffde33cff"
      },
      "source": [
        "# Else Clause\n",
        "# Prints out 0,1,2,3,4 and then it prints \"count value reached 5\"\n",
        "\n",
        "count=0\n",
        "while(count<5):\n",
        "    print(count)\n",
        "    count +=1\n",
        "else:\n",
        "    print(\"count value reached %d\" %(count))\n",
        "\n",
        "# Prints out 1,2,3,4\n",
        "for i in range(1, 10):\n",
        "    if(i%5==0):\n",
        "        break\n",
        "    print(i)\n",
        "else:\n",
        "    print(\"this is not printed because for loop is terminated because of break but not due to fail in condition\")"
      ],
      "execution_count": 0,
      "outputs": [
        {
          "output_type": "stream",
          "text": [
            "0\n",
            "1\n",
            "2\n",
            "3\n",
            "4\n",
            "count value reached 5\n",
            "1\n",
            "2\n",
            "3\n",
            "4\n"
          ],
          "name": "stdout"
        }
      ]
    },
    {
      "cell_type": "code",
      "metadata": {
        "id": "WybMN_8LI94K",
        "colab_type": "code",
        "colab": {},
        "outputId": "b017a176-56d5-4bf7-d68b-5cac9326c226"
      },
      "source": [
        "# Exercise to print out even numbers\n",
        "numbers = [\n",
        "    951, 402, 984, 651, 360, 69, 408, 319, 601, 485, 980, 507, 725, 547, 544,\n",
        "    615, 83, 165, 141, 501, 263, 617, 865, 575, 219, 390, 984, 592, 236, 105, 942, 941,\n",
        "    386, 462, 47, 418, 907, 344, 236, 375, 823, 566, 597, 978, 328, 615, 953, 345,\n",
        "    399, 162, 758, 219, 918, 237, 412, 566, 826, 248, 866, 950, 626, 949, 687, 217,\n",
        "    815, 67, 104, 58, 512, 24, 892, 894, 767, 553, 81, 379, 843, 831, 445, 742, 717,\n",
        "    958, 609, 842, 451, 688, 753, 854, 685, 93, 857, 440, 380, 126, 721, 328, 753, 470,\n",
        "    743, 527\n",
        "]\n",
        "# Prints out only even numbers - 2,4,6,8\n",
        "for x in range(237):\n",
        "    # Check if x is odd\n",
        "    if x % 2 != 0:\n",
        "        continue\n",
        "    print(x)"
      ],
      "execution_count": 0,
      "outputs": [
        {
          "output_type": "stream",
          "text": [
            "0\n",
            "2\n",
            "4\n",
            "6\n",
            "8\n",
            "10\n",
            "12\n",
            "14\n",
            "16\n",
            "18\n",
            "20\n",
            "22\n",
            "24\n",
            "26\n",
            "28\n",
            "30\n",
            "32\n",
            "34\n",
            "36\n",
            "38\n",
            "40\n",
            "42\n",
            "44\n",
            "46\n",
            "48\n",
            "50\n",
            "52\n",
            "54\n",
            "56\n",
            "58\n",
            "60\n",
            "62\n",
            "64\n",
            "66\n",
            "68\n",
            "70\n",
            "72\n",
            "74\n",
            "76\n",
            "78\n",
            "80\n",
            "82\n",
            "84\n",
            "86\n",
            "88\n",
            "90\n",
            "92\n",
            "94\n",
            "96\n",
            "98\n",
            "100\n",
            "102\n",
            "104\n",
            "106\n",
            "108\n",
            "110\n",
            "112\n",
            "114\n",
            "116\n",
            "118\n",
            "120\n",
            "122\n",
            "124\n",
            "126\n",
            "128\n",
            "130\n",
            "132\n",
            "134\n",
            "136\n",
            "138\n",
            "140\n",
            "142\n",
            "144\n",
            "146\n",
            "148\n",
            "150\n",
            "152\n",
            "154\n",
            "156\n",
            "158\n",
            "160\n",
            "162\n",
            "164\n",
            "166\n",
            "168\n",
            "170\n",
            "172\n",
            "174\n",
            "176\n",
            "178\n",
            "180\n",
            "182\n",
            "184\n",
            "186\n",
            "188\n",
            "190\n",
            "192\n",
            "194\n",
            "196\n",
            "198\n",
            "200\n",
            "202\n",
            "204\n",
            "206\n",
            "208\n",
            "210\n",
            "212\n",
            "214\n",
            "216\n",
            "218\n",
            "220\n",
            "222\n",
            "224\n",
            "226\n",
            "228\n",
            "230\n",
            "232\n",
            "234\n",
            "236\n"
          ],
          "name": "stdout"
        }
      ]
    },
    {
      "cell_type": "markdown",
      "metadata": {
        "id": "D9CG8vUXI94M",
        "colab_type": "text"
      },
      "source": [
        "* Tutorial  9 Functions"
      ]
    },
    {
      "cell_type": "code",
      "metadata": {
        "id": "dFFtWzceI94N",
        "colab_type": "code",
        "colab": {},
        "outputId": "e8f855eb-37b8-4c6b-a2e2-4ea59283e915"
      },
      "source": [
        "# Functions are a convenient way to divide your code into useful blocks, \n",
        "# A block is a area of code of written in the format of\n",
        "block_head:\n",
        "    1st block line\n",
        "    2nd block line"
      ],
      "execution_count": 0,
      "outputs": [
        {
          "output_type": "error",
          "ename": "SyntaxError",
          "evalue": "invalid syntax (<ipython-input-145-79ea663ec735>, line 3)",
          "traceback": [
            "\u001b[0;36m  File \u001b[0;32m\"<ipython-input-145-79ea663ec735>\"\u001b[0;36m, line \u001b[0;32m3\u001b[0m\n\u001b[0;31m    block_head:\u001b[0m\n\u001b[0m               ^\u001b[0m\n\u001b[0;31mSyntaxError\u001b[0m\u001b[0;31m:\u001b[0m invalid syntax\n"
          ]
        }
      ]
    },
    {
      "cell_type": "code",
      "metadata": {
        "id": "1ismdko0I94W",
        "colab_type": "code",
        "colab": {}
      },
      "source": [
        "# use def to define a function\n",
        "def my_function():\n",
        "    print(\"Hello From My Function!\")"
      ],
      "execution_count": 0,
      "outputs": []
    },
    {
      "cell_type": "code",
      "metadata": {
        "id": "S7Cr-fG6I94Z",
        "colab_type": "code",
        "colab": {},
        "outputId": "0e172cb3-1321-4d25-b35a-17635aa57a19"
      },
      "source": [
        "my_function()"
      ],
      "execution_count": 0,
      "outputs": [
        {
          "output_type": "stream",
          "text": [
            "Hello From My Function!\n"
          ],
          "name": "stdout"
        }
      ]
    },
    {
      "cell_type": "code",
      "metadata": {
        "id": "3GJLetfQI94b",
        "colab_type": "code",
        "colab": {}
      },
      "source": [
        "# Functions may also receive arguments\n",
        "def my_function_with_args(username, greeting):\n",
        "    print(\"Hello, %s , From My Function!, I wish you %s\"%(username, greeting))"
      ],
      "execution_count": 0,
      "outputs": []
    },
    {
      "cell_type": "code",
      "metadata": {
        "id": "zJ939sucI94k",
        "colab_type": "code",
        "colab": {},
        "outputId": "5611db14-55dc-43e3-e7be-d7c1e3bc7c42"
      },
      "source": [
        "my_function_with_args( \"Shay\", \"the best of both worlds\")"
      ],
      "execution_count": 0,
      "outputs": [
        {
          "output_type": "stream",
          "text": [
            "Hello, Shay , From My Function!, I wish you the best of both worlds\n"
          ],
          "name": "stdout"
        }
      ]
    },
    {
      "cell_type": "code",
      "metadata": {
        "id": "isaQyqOKI94n",
        "colab_type": "code",
        "colab": {}
      },
      "source": [
        "# Functions return values\n",
        "def sum_two_numbers(a, b):\n",
        "    return a + b"
      ],
      "execution_count": 0,
      "outputs": []
    },
    {
      "cell_type": "code",
      "metadata": {
        "id": "70gdL7WyI94r",
        "colab_type": "code",
        "colab": {},
        "outputId": "d912df3e-c7e8-4fb1-a048-f748c058e5fc"
      },
      "source": [
        "sum_two_numbers(90, 99)"
      ],
      "execution_count": 0,
      "outputs": [
        {
          "output_type": "execute_result",
          "data": {
            "text/plain": [
              "189"
            ]
          },
          "metadata": {
            "tags": []
          },
          "execution_count": 155
        }
      ]
    },
    {
      "cell_type": "code",
      "metadata": {
        "id": "HHHTz0VAI94v",
        "colab_type": "code",
        "colab": {},
        "outputId": "f8fbff2e-f690-4bde-a74f-9cb62176f92c"
      },
      "source": [
        "# Redoing the functions\n",
        "# Define our 3 functions\n",
        "def my_function():\n",
        "    print(\"Hello From My Function!\")\n",
        "\n",
        "def my_function_with_args(username, greeting):\n",
        "    print(\"Hello, %s , From My Function!, I wish you %s\"%(username, greeting))\n",
        "\n",
        "def sum_two_numbers(a, b):\n",
        "    return a + b\n",
        "\n",
        "# print(a simple greeting)\n",
        "my_function()\n",
        "\n",
        "#prints - \"Hello, John Doe, From My Function!, I wish you a great year!\"\n",
        "my_function_with_args(\"John Doe\", \"a great year!\")\n",
        "\n",
        "# after this line x will hold the value 3!\n",
        "x = sum_two_numbers(1,2)"
      ],
      "execution_count": 0,
      "outputs": [
        {
          "output_type": "stream",
          "text": [
            "Hello From My Function!\n",
            "Hello, John Doe , From My Function!, I wish you a great year!\n"
          ],
          "name": "stdout"
        }
      ]
    },
    {
      "cell_type": "code",
      "metadata": {
        "id": "dc6gkNOhI944",
        "colab_type": "code",
        "colab": {},
        "outputId": "b172412d-cd34-404f-baeb-c7e5155786a1"
      },
      "source": [
        "x"
      ],
      "execution_count": 0,
      "outputs": [
        {
          "output_type": "execute_result",
          "data": {
            "text/plain": [
              "3"
            ]
          },
          "metadata": {
            "tags": []
          },
          "execution_count": 157
        }
      ]
    },
    {
      "cell_type": "code",
      "metadata": {
        "id": "HxaYJDMEI947",
        "colab_type": "code",
        "colab": {},
        "outputId": "eeed10c0-39d4-407c-d37a-aebe87911252"
      },
      "source": [
        "# Exercise\n",
        "# Modify this function to return a list of strings as defined above\n",
        "def list_benefits():\n",
        "    benefit = [\"More organized code\", \"More readable code\", \"Easier code reuse\", \"Allowing programmers to share and connect code together\"]\n",
        "    return(benefit)\n",
        "\n",
        "# Modify this function to concatenate to each benefit - \" is a benefit of functions!\"\n",
        "def build_sentence(benefit):\n",
        "    return(\"%s is a benefit of functions!\" % benefit)\n",
        "\n",
        "def name_the_benefits_of_functions():\n",
        "    list_of_benefits = list_benefits()\n",
        "    for benefit in list_of_benefits:\n",
        "        print(build_sentence(benefit))\n",
        "\n",
        "name_the_benefits_of_functions()"
      ],
      "execution_count": 0,
      "outputs": [
        {
          "output_type": "stream",
          "text": [
            "More organized code is a benefit of functions!\n",
            "More readable code is a benefit of functions!\n",
            "Easier code reuse is a benefit of functions!\n",
            "Allowing programmers to share and connect code together is a benefit of functions!\n"
          ],
          "name": "stdout"
        }
      ]
    },
    {
      "cell_type": "markdown",
      "metadata": {
        "id": "dSouDm37I949",
        "colab_type": "text"
      },
      "source": [
        "* Tutorial 10 Classes and Objects"
      ]
    },
    {
      "cell_type": "code",
      "metadata": {
        "id": "bMqLWI_KI95C",
        "colab_type": "code",
        "colab": {}
      },
      "source": [
        "# Objects are an encapsulation of variables and functions into a single entity. \n",
        "# Objects get their variables and functions from classes. \n",
        "# Classes are essentially a template to create your objects.\n",
        "# Example of a Class\n",
        "class MyClass:\n",
        "    variable = \"blah\"\n",
        "\n",
        "    def function(self):\n",
        "        print(\"This is a message inside the class.\")"
      ],
      "execution_count": 0,
      "outputs": []
    },
    {
      "cell_type": "code",
      "metadata": {
        "id": "Utzi03f5I95K",
        "colab_type": "code",
        "colab": {}
      },
      "source": [
        "# Assigning a class to an object\n",
        "class MyClass:\n",
        "    variable = \"blah\"\n",
        "\n",
        "    def function(self):\n",
        "        print(\"This is a message inside the class.\")\n",
        "\n",
        "myobjectx = MyClass()"
      ],
      "execution_count": 0,
      "outputs": []
    },
    {
      "cell_type": "code",
      "metadata": {
        "id": "47f-YE3jI95N",
        "colab_type": "code",
        "colab": {},
        "outputId": "bbf4bd80-1dab-4d79-e505-dbbfdfc499c6"
      },
      "source": [
        "# Accessing the variable in a class\n",
        "class MyClass:\n",
        "    variable = \"blah\"\n",
        "\n",
        "    def function(self):\n",
        "        print(\"This is a message inside the class.\")\n",
        "\n",
        "myobjectx = MyClass()\n",
        "\n",
        "myobjectx.variable"
      ],
      "execution_count": 0,
      "outputs": [
        {
          "output_type": "execute_result",
          "data": {
            "text/plain": [
              "'blah'"
            ]
          },
          "metadata": {
            "tags": []
          },
          "execution_count": 178
        }
      ]
    },
    {
      "cell_type": "code",
      "metadata": {
        "id": "EehMUQM7I95V",
        "colab_type": "code",
        "colab": {},
        "outputId": "ebfe51e4-7294-4911-b1d1-311ed2def73d"
      },
      "source": [
        "class MyClass:\n",
        "    variable = \"blah\"\n",
        "\n",
        "    def function(self):\n",
        "        print(\"This is a message inside the class.\")\n",
        "\n",
        "myobjectx = MyClass()\n",
        "\n",
        "print(myobjectx.variable)"
      ],
      "execution_count": 0,
      "outputs": [
        {
          "output_type": "stream",
          "text": [
            "blah\n"
          ],
          "name": "stdout"
        }
      ]
    },
    {
      "cell_type": "code",
      "metadata": {
        "id": "0kwBgKAYI95Z",
        "colab_type": "code",
        "colab": {},
        "outputId": "08aedc01-806f-451a-8e53-198a054b3d88"
      },
      "source": [
        "# Multiple Objects\n",
        "class MyClass:\n",
        "    variable = \"blah\"\n",
        "\n",
        "    def function(self):\n",
        "        print(\"This is a message inside the class.\")\n",
        "\n",
        "myobjectx = MyClass()\n",
        "myobjecty = MyClass()\n",
        "\n",
        "myobjecty.variable = \"yackity\"\n",
        "\n",
        "# Then print out both values\n",
        "print(myobjectx.variable)\n",
        "print(myobjecty.variable)"
      ],
      "execution_count": 0,
      "outputs": [
        {
          "output_type": "stream",
          "text": [
            "blah\n",
            "yackity\n"
          ],
          "name": "stdout"
        }
      ]
    },
    {
      "cell_type": "code",
      "metadata": {
        "id": "hBTRwt6sI95b",
        "colab_type": "code",
        "colab": {},
        "outputId": "7739b47a-b1d5-4f21-e06c-14646a65cfad"
      },
      "source": [
        "# Accessing an object\n",
        "class MyClass:\n",
        "    variable = \"blah\"\n",
        "\n",
        "    def function(self):\n",
        "        print(\"This is a message inside the class.\")\n",
        "\n",
        "myobjectx = MyClass()\n",
        "\n",
        "myobjectx.function()"
      ],
      "execution_count": 0,
      "outputs": [
        {
          "output_type": "stream",
          "text": [
            "This is a message inside the class.\n"
          ],
          "name": "stdout"
        }
      ]
    },
    {
      "cell_type": "code",
      "metadata": {
        "id": "p8eLgIyCI95h",
        "colab_type": "code",
        "colab": {},
        "outputId": "5747ea78-3f1d-4e8e-81d1-0a25e3f9baba"
      },
      "source": [
        "# Exercise\n",
        "# define the Vehicle class\n",
        "class Vehicle1:\n",
        "    name = \"Fer\"\n",
        "    kind = \"convertible\"\n",
        "    color = \"red\"\n",
        "    value = 60000\n",
        "    def description(self):\n",
        "        desc_str = \"%s is a %s %s worth $%.2f.\" % (self.name, self.color, self.kind, self.value)\n",
        "        return desc_str\n",
        "    \n",
        "class Vehicle2:\n",
        "    name = \"Jump\"\n",
        "    kind = \"van\"\n",
        "    color = \"blue\"\n",
        "    value = 10000\n",
        "    def description(self):\n",
        "        desc_str = \"%s is a %s %s worth $%.2f.\" % (self.name, self.color, self.kind, self.value)\n",
        "        return desc_str\n",
        "    \n",
        "# your code goes here\n",
        "car1 = Vehicle1()\n",
        "car2 = Vehicle2()\n",
        "\n",
        "\n",
        "\n",
        "# test code\n",
        "print(car1.description())\n",
        "print(car2.description())"
      ],
      "execution_count": 0,
      "outputs": [
        {
          "output_type": "stream",
          "text": [
            "Fer is a red convertible worth $60000.00.\n",
            "Jump is a blue van worth $10000.00.\n"
          ],
          "name": "stdout"
        }
      ]
    },
    {
      "cell_type": "markdown",
      "metadata": {
        "id": "ettAzkQ0I95n",
        "colab_type": "text"
      },
      "source": [
        "Tutorial 11 Dictionaries"
      ]
    },
    {
      "cell_type": "code",
      "metadata": {
        "id": "D4MRL4MUI95o",
        "colab_type": "code",
        "colab": {},
        "outputId": "4025ba76-7ba2-4f67-ea7b-cfbac4df1d14"
      },
      "source": [
        "# A dictionary is a data type similar to arrays, but works with keys and values \n",
        "# instead of indexes. Each value stored in a dictionary can be accessed \n",
        "# using a key, which is any type of object (a string, a number, a list, etc.) instead of using its index to address it.\n",
        "# A database of phone numbers could be stored using a dictionary like this\n",
        "phonebook = {}\n",
        "phonebook[\"John\"] = 938477566\n",
        "phonebook[\"Jack\"] = 938377264\n",
        "phonebook[\"Jill\"] = 947662781\n",
        "print(phonebook)\n"
      ],
      "execution_count": 0,
      "outputs": [
        {
          "output_type": "stream",
          "text": [
            "{'John': 938477566, 'Jack': 938377264, 'Jill': 947662781}\n"
          ],
          "name": "stdout"
        }
      ]
    },
    {
      "cell_type": "code",
      "metadata": {
        "id": "ZF7pyDWKI95t",
        "colab_type": "code",
        "colab": {},
        "outputId": "175829c4-c3be-4725-9207-04aa00f2a01c"
      },
      "source": [
        "# Change in notation\n",
        "phonebook = {\n",
        "    \"John\" : 938477566,\n",
        "    \"Jack\" : 938377264,\n",
        "    \"Jill\" : 947662781\n",
        "}\n",
        "print(phonebook)"
      ],
      "execution_count": 0,
      "outputs": [
        {
          "output_type": "stream",
          "text": [
            "{'John': 938477566, 'Jack': 938377264, 'Jill': 947662781}\n"
          ],
          "name": "stdout"
        }
      ]
    },
    {
      "cell_type": "code",
      "metadata": {
        "id": "XLTGQ-wRI95w",
        "colab_type": "code",
        "colab": {},
        "outputId": "fd3c5594-c6e0-4a21-cafd-619b2375470e"
      },
      "source": [
        "# Dictionaries do not keep an order of the values stored in it\n",
        "phonebook = {\"John\" : 938477566,\"Jack\" : 938377264,\"Jill\" : 947662781}\n",
        "for name, number in phonebook.items():\n",
        "    print(\"Phone number of %s is %d\" % (name, number))"
      ],
      "execution_count": 0,
      "outputs": [
        {
          "output_type": "stream",
          "text": [
            "Phone number of John is 938477566\n",
            "Phone number of Jack is 938377264\n",
            "Phone number of Jill is 947662781\n"
          ],
          "name": "stdout"
        }
      ]
    },
    {
      "cell_type": "code",
      "metadata": {
        "id": "geB6H6e0I95y",
        "colab_type": "code",
        "colab": {},
        "outputId": "4df0f8dd-bc8d-4b51-f74f-5c4cbbd80141"
      },
      "source": [
        "#removing a value\n",
        "phonebook = {\n",
        "   \"John\" : 938477566,\n",
        "   \"Jack\" : 938377264,\n",
        "   \"Jill\" : 947662781\n",
        "}\n",
        "del phonebook[\"John\"]\n",
        "print(phonebook)"
      ],
      "execution_count": 0,
      "outputs": [
        {
          "output_type": "stream",
          "text": [
            "{'Jack': 938377264, 'Jill': 947662781}\n"
          ],
          "name": "stdout"
        }
      ]
    },
    {
      "cell_type": "code",
      "metadata": {
        "id": "Z-pknBn4I952",
        "colab_type": "code",
        "colab": {},
        "outputId": "6d99354c-3c28-4919-f498-f30acacfaa88"
      },
      "source": [
        "phonebook = {\n",
        "   \"John\" : 938477566,\n",
        "   \"Jack\" : 938377264,\n",
        "   \"Jill\" : 947662781\n",
        "}\n",
        "phonebook.pop(\"John\")\n",
        "print(phonebook)"
      ],
      "execution_count": 0,
      "outputs": [
        {
          "output_type": "stream",
          "text": [
            "{'Jack': 938377264, 'Jill': 947662781}\n"
          ],
          "name": "stdout"
        }
      ]
    },
    {
      "cell_type": "code",
      "metadata": {
        "id": "X_G6tL4iI954",
        "colab_type": "code",
        "colab": {},
        "outputId": "3a2a9445-ab4d-416c-d9ab-5bace7a003a5"
      },
      "source": [
        "# Exercise\n",
        "phonebook = {\n",
        "    \"John\" : 938477566,\n",
        "    \"Jack\" : 938377264,\n",
        "    \"Jill\" : 947662781\n",
        "}\n",
        "\n",
        "# write your code here\n",
        "phonebook[\"Jake\"]  = 938273443\n",
        "del phonebook[\"Jill\"]\n",
        "\n",
        "# testing code\n",
        "if \"Jake\" in phonebook:\n",
        "    print(\"Jake is listed in the phonebook.\")\n",
        "if \"Jill\" not in phonebook:\n",
        "    print(\"Jill is not listed in the phonebook.\")"
      ],
      "execution_count": 0,
      "outputs": [
        {
          "output_type": "stream",
          "text": [
            "Jake is listed in the phonebook.\n",
            "Jill is not listed in the phonebook.\n"
          ],
          "name": "stdout"
        }
      ]
    },
    {
      "cell_type": "markdown",
      "metadata": {
        "id": "jy3jA1XfI957",
        "colab_type": "text"
      },
      "source": [
        "* Tutorial 12 Modules and Packages"
      ]
    },
    {
      "cell_type": "code",
      "metadata": {
        "id": "oewt_qqkI959",
        "colab_type": "code",
        "colab": {}
      },
      "source": [
        "## Per Professor: The last tutorial in the Learn the Basics is about modules and packages. \n",
        "# Do not try to run it. Just read it and try to understand.\n",
        "\n",
        "# Taking a few notes for future reference\n",
        "# A module is a piece of software that has a specific functionality. \n",
        "# Modules are imported from other modules using the import command.\n",
        "# We may also import the function  directly into the main script's namespace, by using the from command.\n",
        "# We may also use the import * command to import all objects from a specific module\n",
        "# The first time a module is loaded into a running Python script, it is initialized by executing the code in the module once.\n",
        "# Full list of built-in modules in the Python standard library\n",
        "# Packages are namespaces which contain multiple packages and modules themselves"
      ],
      "execution_count": 0,
      "outputs": []
    }
  ]
}