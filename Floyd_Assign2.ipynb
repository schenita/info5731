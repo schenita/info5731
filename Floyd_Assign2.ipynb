{
 "cells": [
  {
   "cell_type": "markdown",
   "metadata": {},
   "source": [
    "## Assignment 2 - Schenita Floyd\n",
    "**Question 1. (20 points). Which of the following statements contain only valid built- in functions in Python 3? If the statement is valid, explain what it does. If it is not valid, explain why not.**\n",
    "\n",
    "> 1.1 \"A\".isupper()  **VALID, checking for uppercase** <br/>\n",
    "> 1.2 print \"This is my Python class\";  **NOT VALID, missing ()** <br/>\n",
    "> 1.3 x == 1 AND y > x  **NOT VALID, only one equal sign is needed, two equal signs is the compare operands** <br/>\n",
    "> 1.4 return t[1:]  **NOT VALID, missing assignment** <br/>\n",
    "> 1.5 if \"fruit\" in \"apple\": **NOT VALID, if is not needed** <br/>\n",
    "> 1.6 with open(\"myfile.txt\", \"r\") as f:text = f.read().decode(\"UTF-8\") **NOT VALID, WITH should not be there** <br/>\n",
    "> 1.7 foo == None **Not Valid, only one equal sign is needed, two equal compares operands** <br/> \n",
    "> 1.8 name = \"My name is Brenda\" name[0] = \"A\" **Not valid, the first part is good , but the name[0] = \"A\" is an incorrect assignment**<br/>\n",
    "> 1.9 x = 3 x**3 **Valid as long as they are on two separate lines, x is assign to 3 and to the 3rd power is 27**<br/>\n",
    "> 1.10 20%7 **Valid calculation that yields 6 as the answer** <br/>\n"
   ]
  },
  {
   "cell_type": "markdown",
   "metadata": {},
   "source": [
    "**Question 2. (15 points). Write a program to prompt for a score between 0 and 100. If the score is out of range, print an error message. If the score is between 0 and 100, print a grade using the following table:**"
   ]
  },
  {
   "cell_type": "code",
   "execution_count": 31,
   "metadata": {},
   "outputs": [
    {
     "name": "stdout",
     "output_type": "stream",
     "text": [
      "Please enter your test score between 0 and 100 to find out your final grade?101\n",
      "Error try again\n"
     ]
    }
   ],
   "source": [
    "grade = int(input('Please enter your test score between 0 and 100 to find out your final grade?'))\n",
    "if grade > 100:\n",
    "     print ('Error try again') #User receives error if grade is greater than 100\n",
    "elif grade >= 90: #Grade 90 to 100 is an A\n",
    "     print (\"A\")\n",
    "elif grade >= 80: #Grade 89 to 80 is an B\n",
    "     print (\"B\")\n",
    "elif grade >= 70: #Grade 79 to 70 is an C\n",
    "    print (\"C\")\n",
    "elif grade >= 60: #Grade 69 to 60 is an D\n",
    "    print ('D')\n",
    "elif grade >= 0: #Grade 59 to 0 is an F\n",
    "    print ('F')\n",
    "else:\n",
    "    print ('Error try again') #Grade less than 0 user receives error"
   ]
  },
  {
   "cell_type": "code",
   "execution_count": 33,
   "metadata": {},
   "outputs": [
    {
     "name": "stdout",
     "output_type": "stream",
     "text": [
      "Please enter your test score between 0 and 100 to find out your final grade?75\n",
      "C\n"
     ]
    }
   ],
   "source": [
    "grade = int(input('Please enter your test score between 0 and 100 to find out your final grade?'))\n",
    "if grade > 100:\n",
    "     print ('Error try again') #User receives error if grade is greater than 100\n",
    "elif grade >= 90: #Grade 90 to 100 is an A\n",
    "     print (\"A\")\n",
    "elif grade >= 80: #Grade 89 to 80 is an B\n",
    "     print (\"B\")\n",
    "elif grade >= 70: #Grade 79 to 70 is an C\n",
    "    print (\"C\")\n",
    "elif grade >= 60: #Grade 69 to 60 is an D\n",
    "    print ('D')\n",
    "elif grade >= 0: #Grade 59 to 0 is an F\n",
    "    print ('F')\n",
    "else:\n",
    "    print ('Error try again') #Grade less than 0 user receives error"
   ]
  },
  {
   "cell_type": "markdown",
   "metadata": {},
   "source": [
    "**Question 3. (20 points). Write a Python program to generate 12 random numbers between 1 and 100. Sort the list of numbers in ascending order and print it out. Sort the list of numbers in descending order and print it out. Calculate the average for the group and print it out.**"
   ]
  },
  {
   "cell_type": "code",
   "execution_count": 70,
   "metadata": {},
   "outputs": [
    {
     "name": "stdout",
     "output_type": "stream",
     "text": [
      "[18, 19, 24, 41, 42, 50, 53, 65, 74, 82, 85, 95]\n",
      "[95, 85, 82, 74, 65, 53, 50, 42, 41, 24, 19, 18]\n",
      "54.0\n"
     ]
    }
   ],
   "source": [
    "import random                             #import the random module\n",
    "x2 = []                                   #assign a list called x2\n",
    "for x in range(12):                       #select a range of 12 numbers \n",
    "    x2.append(random.randrange(1,100))    #put random numbers between 1 and 100 in x2 list\n",
    "print(sorted(x2, key=int))                #sort the random numbers in ascending \n",
    "print(sorted(x2, key=int, reverse=True))  #sort the random in descending order\n",
    "print(sum(x2)/len(x2))                    #print the average of the random numbers "
   ]
  },
  {
   "cell_type": "markdown",
   "metadata": {},
   "source": [
    "**Question 4. (20 points). The formula that describes the volume V of a sphere with radius r is the following: \n",
    "Write a program to calculate the value of V when r is in the range of 1– 10.**"
   ]
  },
  {
   "cell_type": "markdown",
   "metadata": {},
   "source": [
    "**VOLUME FORMULA:** $V = \\frac{4}{3}*{\\pi}* r^3$"
   ]
  },
  {
   "cell_type": "code",
   "execution_count": 39,
   "metadata": {},
   "outputs": [
    {
     "name": "stdout",
     "output_type": "stream",
     "text": [
      "r V\n",
      "1 4.1887902047863905\n",
      "2 33.510321638291124\n",
      "3 113.09733552923254\n",
      "4 268.082573106329\n",
      "5 523.5987755982989\n",
      "6 904.7786842338603\n",
      "7 1436.7550402417319\n",
      "8 2144.660584850632\n",
      "9 3053.6280592892786\n",
      "10 4188.790204786391\n"
     ]
    }
   ],
   "source": [
    "import math                              #imports the math module\n",
    "print ('r V')                            #prints the header r V\n",
    "rad = int()                              #defines radius as an integer\n",
    "for rad in range(1,11):                  # assigns a radius of 1 to 10\n",
    "  volume = (4/3)*math.pi*(rad*rad*rad)   #volume formula \n",
    "  print (rad, volume)                    #prints the results"
   ]
  },
  {
   "cell_type": "markdown",
   "metadata": {},
   "source": [
    "**Question 5. (25 points). Write a program that will do the following string formatting tasks**"
   ]
  },
  {
   "cell_type": "code",
   "execution_count": 72,
   "metadata": {},
   "outputs": [
    {
     "name": "stdout",
     "output_type": "stream",
     "text": [
      "Please enter a sentence: How are you doing, today?\n",
      "Please enter another sentence: What are you doing?\n",
      "['How', 'are', 'you', 'doing,', 'today?']\n",
      "['What', 'are', 'you', 'doing?']\n",
      "['are', 'you']\n",
      "How are you doing today\n",
      "What are you doing\n",
      "2 1 1 4 1\n",
      "2 1 1 2 1\n"
     ]
    }
   ],
   "source": [
    "#5.1  Ask the user to enter two sentences\n",
    "Sentence1 = str(input('Please enter a sentence: '))\n",
    "Sentence2 = str(input('Please enter another sentence: '))\n",
    "#5.2  Make each sentence into a list. Each element in the list should correspond to  \n",
    "#a word in the sentence. \n",
    "a = Sentence1.split()\n",
    "print (a)\n",
    "b = Sentence2.split()\n",
    "print (b)\n",
    "#5.3  Compare the two sentences. Print out a list of words that occur in both sentences.  \n",
    "Sentence3 = []\n",
    "for l1 in a:\n",
    "    for l2 in b:\n",
    "        if l2 == l1:\n",
    "            Sentence3.append(l2)\n",
    "print (Sentence3)\n",
    "#5.4  Remove any punctuation from the sentence and print it back out. \n",
    "import string\n",
    "punc = (string.punctuation)\n",
    "for i in punc:\n",
    "    Sentence1 = Sentence1.replace(i,\"\")\n",
    "print(Sentence1)\n",
    "\n",
    "\n",
    "import string\n",
    "punc = (string.punctuation)\n",
    "for i in punc:\n",
    "    Sentence2 = Sentence2.replace(i,\"\")\n",
    "print(Sentence2)\n",
    "\n",
    "#5.5  Count the number of vowels in the sentences\n",
    "print(*map(Sentence1.lower().count, \"aeiou\"))\n",
    "\n",
    "print(*map(Sentence2.lower().count, \"aeiou\"))"
   ]
  },
  {
   "cell_type": "code",
   "execution_count": null,
   "metadata": {},
   "outputs": [],
   "source": []
  }
 ],
 "metadata": {
  "kernelspec": {
   "display_name": "Python 3",
   "language": "python",
   "name": "python3"
  },
  "language_info": {
   "codemirror_mode": {
    "name": "ipython",
    "version": 3
   },
   "file_extension": ".py",
   "mimetype": "text/x-python",
   "name": "python",
   "nbconvert_exporter": "python",
   "pygments_lexer": "ipython3",
   "version": "3.7.1"
  }
 },
 "nbformat": 4,
 "nbformat_minor": 2
}
